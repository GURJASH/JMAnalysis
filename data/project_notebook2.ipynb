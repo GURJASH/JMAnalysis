{
 "cells": [
  {
   "cell_type": "markdown",
   "metadata": {},
   "source": [
    "# Notebook 2\n",
    "\n",
    "#### This notebook is used for doing text analysis and sentiment analysis on the megathreads and posts from job sections of Reddit. "
   ]
  },
  {
   "cell_type": "code",
   "execution_count": 1,
   "metadata": {},
   "outputs": [
    {
     "name": "stderr",
     "output_type": "stream",
     "text": [
      "[nltk_data] Downloading package punkt to /Users/jacky/nltk_data...\n",
      "[nltk_data]   Package punkt is already up-to-date!\n",
      "[nltk_data] Downloading package punkt_tab to /Users/jacky/nltk_data...\n",
      "[nltk_data]   Package punkt_tab is already up-to-date!\n",
      "[nltk_data] Downloading package stopwords to /Users/jacky/nltk_data...\n",
      "[nltk_data]   Package stopwords is already up-to-date!\n",
      "[nltk_data] Downloading package vader_lexicon to\n",
      "[nltk_data]     /Users/jacky/nltk_data...\n",
      "[nltk_data]   Package vader_lexicon is already up-to-date!\n"
     ]
    }
   ],
   "source": [
    "import praw\n",
    "import re\n",
    "import collections\n",
    "from collections import Counter\n",
    "\n",
    "import nltk\n",
    "from nltk.corpus import stopwords\n",
    "from nltk.tokenize import sent_tokenize\n",
    "from nltk.sentiment.vader import SentimentIntensityAnalyzer\n",
    "\n",
    "from sklearn.feature_extraction.text import TfidfVectorizer\n",
    "from wordcloud import WordCloud\n",
    "\n",
    "import torch\n",
    "import transformers\n",
    "from transformers import pipeline\n",
    "\n",
    "\n",
    "nltk.download('punkt')\n",
    "nltk.download('punkt_tab')\n",
    "nltk.download(\"stopwords\")\n",
    "nltk.download(\"vader_lexicon\")\n",
    "\n",
    "import os\n",
    "from tqdm import tqdm\n",
    "\n",
    "import time\n",
    "from datetime import datetime, timedelta, timezone\n",
    "\n",
    "import numpy as np\n",
    "import pandas as pd\n",
    "import matplotlib.pyplot as plt\n",
    "import seaborn as sns\n",
    "import plotly.express as px"
   ]
  },
  {
   "cell_type": "code",
   "execution_count": 2,
   "metadata": {},
   "outputs": [
    {
     "name": "stdout",
     "output_type": "stream",
     "text": [
      "['Hello!', 'How are you?', 'This is an NLTK test.']\n"
     ]
    }
   ],
   "source": [
    "print(sent_tokenize(\"Hello! How are you? This is an NLTK test.\"))"
   ]
  },
  {
   "cell_type": "markdown",
   "metadata": {},
   "source": [
    "## Preparation"
   ]
  },
  {
   "cell_type": "code",
   "execution_count": 3,
   "metadata": {},
   "outputs": [
    {
     "name": "stderr",
     "output_type": "stream",
     "text": [
      "Version 7.7.1 of praw is outdated. Version 7.8.1 was released Friday October 25, 2024.\n"
     ]
    }
   ],
   "source": [
    "reddit = praw.Reddit(\n",
    "    client_id=\"Pb_1-TscU4Aza0JxUKT_KA\",\n",
    "    client_secret=\"NO-4Zv8W-Jun6cEEWpUpCkVX7Wq9gg\",\n",
    "    user_agent=\"Mozilla/5.0 (Macintosh; Intel Mac OS X 10_15_7) AppleWebKit/537.36 (KHTML, like Gecko) Chrome/133.0.0.0 Safari/537.36\",\n",
    "    ratelimit_seconds=180\n",
    ")\n",
    "\n",
    "subreddit = reddit.subreddit(\"jobs\")"
   ]
  },
  {
   "cell_type": "code",
   "execution_count": 4,
   "metadata": {},
   "outputs": [
    {
     "name": "stdout",
     "output_type": "stream",
     "text": [
      "\n",
      "🔥 Post Title: Success and Disappointment Megathread for the Week (Upvotes: 51)\n",
      "🔗 URL: https://www.reddit.com/r/jobs/comments/1dse341/success_and_disappointment_megathread_for_the_week/\n",
      "\n",
      "🔥 Post Title: Success and Disappointment Megathread for the Week (Upvotes: 2)\n",
      "🔗 URL: https://www.reddit.com/r/jobs/comments/1j25eey/success_and_disappointment_megathread_for_the_week/\n",
      "\n",
      "🔥 Post Title: Lost a Job then Got a JOB Yesterday! (Upvotes: 28)\n",
      "🔗 URL: https://www.reddit.com/r/jobs/comments/1j7ea4l/lost_a_job_then_got_a_job_yesterday/\n",
      "\n",
      "🔥 Post Title: I'm considering quitting after my first day (Upvotes: 21)\n",
      "🔗 URL: https://www.reddit.com/r/jobs/comments/1j7g37f/im_considering_quitting_after_my_first_day/\n",
      "\n",
      "🔥 Post Title: Gave notice, got fired (Upvotes: 1145)\n",
      "🔗 URL: https://www.reddit.com/r/jobs/comments/1j6slqn/gave_notice_got_fired/\n"
     ]
    }
   ],
   "source": [
    "for post in subreddit.hot(limit=5):\n",
    "    print(f\"\\n🔥 Post Title: {post.title} (Upvotes: {post.score})\")\n",
    "    print(f\"🔗 URL: {post.url}\")"
   ]
  },
  {
   "cell_type": "code",
   "execution_count": 5,
   "metadata": {},
   "outputs": [
    {
     "name": "stderr",
     "output_type": "stream",
     "text": [
      "No model was supplied, defaulted to distilbert/distilbert-base-uncased-finetuned-sst-2-english and revision 714eb0f (https://huggingface.co/distilbert/distilbert-base-uncased-finetuned-sst-2-english).\n",
      "Using a pipeline without specifying a model name and revision in production is not recommended.\n",
      "Device set to use mps:0\n"
     ]
    },
    {
     "name": "stdout",
     "output_type": "stream",
     "text": [
      "[{'label': 'POSITIVE', 'score': 0.9998650550842285}]\n"
     ]
    }
   ],
   "source": [
    "sentiment_pipeline = pipeline(\"sentiment-analysis\")\n",
    "text = \"I hate this product! But it's good.\"\n",
    "print(sentiment_pipeline(text))"
   ]
  },
  {
   "cell_type": "markdown",
   "metadata": {},
   "source": [
    "## Analysis of keywords from current hot posts to see job seekers' current experience."
   ]
  },
  {
   "cell_type": "code",
   "execution_count": 6,
   "metadata": {},
   "outputs": [],
   "source": [
    "hot_posts = subreddit.hot(limit=1000)\n",
    "titles = [post.title for post in hot_posts]"
   ]
  },
  {
   "cell_type": "code",
   "execution_count": 7,
   "metadata": {},
   "outputs": [
    {
     "data": {
      "text/plain": [
       "694"
      ]
     },
     "execution_count": 7,
     "metadata": {},
     "output_type": "execute_result"
    }
   ],
   "source": [
    "len(titles)"
   ]
  },
  {
   "cell_type": "code",
   "execution_count": 8,
   "metadata": {},
   "outputs": [
    {
     "name": "stdout",
     "output_type": "stream",
     "text": [
      "Success and Disappointment Megathread for the Week\n",
      "Success and Disappointment Megathread for the Week\n",
      "Lost a Job then Got a JOB Yesterday!\n",
      "I'm considering quitting after my first day\n",
      "Gave notice, got fired\n",
      "Roast my resume: 0 interviews, 0 replies, 0 response\n",
      "I hate applying for jobs\n",
      "Recruiters are the most useless people on earth\n",
      "Employer threatens to fire me for updating my resume\n",
      "I might be too stupid for jobs that pay a livable wage. Advice needed.\n"
     ]
    }
   ],
   "source": [
    "for i, title in enumerate(titles[:10]):\n",
    "    print(title)"
   ]
  },
  {
   "cell_type": "code",
   "execution_count": 9,
   "metadata": {},
   "outputs": [],
   "source": [
    "stop_words = set(stopwords.words(\"english\"))"
   ]
  },
  {
   "cell_type": "code",
   "execution_count": 10,
   "metadata": {},
   "outputs": [],
   "source": [
    "def preprocess_text(text):\n",
    "    text = text.lower()  # 1. 转换为小写\n",
    "    text = re.sub(r\"[^\\w\\s]\", \"\", text)  # 2. 去除标点符号\n",
    "    words = text.split()  # 3. 拆分单词（Tokenization）\n",
    "    words = [word for word in words if word not in stop_words]  # 4. 去除停用词\n",
    "    return words"
   ]
  },
  {
   "cell_type": "code",
   "execution_count": 11,
   "metadata": {},
   "outputs": [
    {
     "name": "stdout",
     "output_type": "stream",
     "text": [
      "1. ['success', 'disappointment', 'megathread', 'week']\n",
      "2. ['success', 'disappointment', 'megathread', 'week']\n",
      "3. ['lost', 'job', 'got', 'job', 'yesterday']\n",
      "4. ['im', 'considering', 'quitting', 'first', 'day']\n",
      "5. ['gave', 'notice', 'got', 'fired']\n",
      "6. ['roast', 'resume', '0', 'interviews', '0', 'replies', '0', 'response']\n",
      "7. ['hate', 'applying', 'jobs']\n",
      "8. ['recruiters', 'useless', 'people', 'earth']\n",
      "9. ['employer', 'threatens', 'fire', 'updating', 'resume']\n",
      "10. ['might', 'stupid', 'jobs', 'pay', 'livable', 'wage', 'advice', 'needed']\n"
     ]
    }
   ],
   "source": [
    "processed_titles = [preprocess_text(title) for title in titles]\n",
    "for i, words in enumerate(processed_titles[:10]):\n",
    "    print(f\"{i+1}. {words}\")"
   ]
  },
  {
   "cell_type": "code",
   "execution_count": 12,
   "metadata": {},
   "outputs": [],
   "source": [
    "flattened_words = [word for title in processed_titles for word in title]\n",
    "word_counts = collections.Counter(flattened_words)"
   ]
  },
  {
   "cell_type": "code",
   "execution_count": 13,
   "metadata": {},
   "outputs": [
    {
     "data": {
      "text/html": [
       "<div>\n",
       "<style scoped>\n",
       "    .dataframe tbody tr th:only-of-type {\n",
       "        vertical-align: middle;\n",
       "    }\n",
       "\n",
       "    .dataframe tbody tr th {\n",
       "        vertical-align: top;\n",
       "    }\n",
       "\n",
       "    .dataframe thead th {\n",
       "        text-align: right;\n",
       "    }\n",
       "</style>\n",
       "<table border=\"1\" class=\"dataframe\">\n",
       "  <thead>\n",
       "    <tr style=\"text-align: right;\">\n",
       "      <th></th>\n",
       "      <th>Word</th>\n",
       "      <th>Frequency</th>\n",
       "    </tr>\n",
       "  </thead>\n",
       "  <tbody>\n",
       "    <tr>\n",
       "      <th>0</th>\n",
       "      <td>job</td>\n",
       "      <td>212</td>\n",
       "    </tr>\n",
       "    <tr>\n",
       "      <th>1</th>\n",
       "      <td>interview</td>\n",
       "      <td>54</td>\n",
       "    </tr>\n",
       "    <tr>\n",
       "      <th>2</th>\n",
       "      <td>work</td>\n",
       "      <td>46</td>\n",
       "    </tr>\n",
       "    <tr>\n",
       "      <th>3</th>\n",
       "      <td>advice</td>\n",
       "      <td>45</td>\n",
       "    </tr>\n",
       "    <tr>\n",
       "      <th>4</th>\n",
       "      <td>jobs</td>\n",
       "      <td>42</td>\n",
       "    </tr>\n",
       "    <tr>\n",
       "      <th>5</th>\n",
       "      <td>im</td>\n",
       "      <td>33</td>\n",
       "    </tr>\n",
       "    <tr>\n",
       "      <th>6</th>\n",
       "      <td>need</td>\n",
       "      <td>31</td>\n",
       "    </tr>\n",
       "    <tr>\n",
       "      <th>7</th>\n",
       "      <td>get</td>\n",
       "      <td>31</td>\n",
       "    </tr>\n",
       "    <tr>\n",
       "      <th>8</th>\n",
       "      <td>got</td>\n",
       "      <td>30</td>\n",
       "    </tr>\n",
       "    <tr>\n",
       "      <th>9</th>\n",
       "      <td>resume</td>\n",
       "      <td>30</td>\n",
       "    </tr>\n",
       "  </tbody>\n",
       "</table>\n",
       "</div>"
      ],
      "text/plain": [
       "        Word  Frequency\n",
       "0        job        212\n",
       "1  interview         54\n",
       "2       work         46\n",
       "3     advice         45\n",
       "4       jobs         42\n",
       "5         im         33\n",
       "6       need         31\n",
       "7        get         31\n",
       "8        got         30\n",
       "9     resume         30"
      ]
     },
     "execution_count": 13,
     "metadata": {},
     "output_type": "execute_result"
    }
   ],
   "source": [
    "df_freq = pd.DataFrame(word_counts.most_common(20), columns=[\"Word\", \"Frequency\"])\n",
    "df_freq.head(10)"
   ]
  },
  {
   "cell_type": "markdown",
   "metadata": {},
   "source": [
    "Now we can see there are lots of words that do not provide any emotion or bias information in them. Therefore we want to further filter out those words with clear emotions to see the meaningful words distributions."
   ]
  },
  {
   "cell_type": "code",
   "execution_count": 14,
   "metadata": {},
   "outputs": [],
   "source": [
    "sia = SentimentIntensityAnalyzer()\n",
    "\n",
    "sentiment_words = [\n",
    "    (word, count, sia.polarity_scores(word)[\"compound\"])\n",
    "    for word, count in word_counts.items()\n",
    "    if abs(sia.polarity_scores(word)[\"compound\"]) > 0.2  # 过滤掉中性词\n",
    "]"
   ]
  },
  {
   "cell_type": "code",
   "execution_count": 15,
   "metadata": {},
   "outputs": [],
   "source": [
    "sorted_sentiment_words = sorted(sentiment_words, key=lambda x: abs(x[2]), reverse=True)\n",
    "df_sentiment = pd.DataFrame(sorted_sentiment_words, columns=[\"Word\", \"Frequency\", \"Sentiment Score\"])"
   ]
  },
  {
   "cell_type": "code",
   "execution_count": 16,
   "metadata": {},
   "outputs": [
    {
     "data": {
      "text/html": [
       "<div>\n",
       "<style scoped>\n",
       "    .dataframe tbody tr th:only-of-type {\n",
       "        vertical-align: middle;\n",
       "    }\n",
       "\n",
       "    .dataframe tbody tr th {\n",
       "        vertical-align: top;\n",
       "    }\n",
       "\n",
       "    .dataframe thead th {\n",
       "        text-align: right;\n",
       "    }\n",
       "</style>\n",
       "<table border=\"1\" class=\"dataframe\">\n",
       "  <thead>\n",
       "    <tr style=\"text-align: right;\">\n",
       "      <th></th>\n",
       "      <th>Word</th>\n",
       "      <th>Frequency</th>\n",
       "      <th>Sentiment Score</th>\n",
       "    </tr>\n",
       "  </thead>\n",
       "  <tbody>\n",
       "    <tr>\n",
       "      <th>101</th>\n",
       "      <td>help</td>\n",
       "      <td>18</td>\n",
       "      <td>0.4019</td>\n",
       "    </tr>\n",
       "    <tr>\n",
       "      <th>125</th>\n",
       "      <td>like</td>\n",
       "      <td>13</td>\n",
       "      <td>0.3612</td>\n",
       "    </tr>\n",
       "    <tr>\n",
       "      <th>15</th>\n",
       "      <td>fired</td>\n",
       "      <td>13</td>\n",
       "      <td>-0.5574</td>\n",
       "    </tr>\n",
       "    <tr>\n",
       "      <th>67</th>\n",
       "      <td>good</td>\n",
       "      <td>12</td>\n",
       "      <td>0.4404</td>\n",
       "    </tr>\n",
       "    <tr>\n",
       "      <th>192</th>\n",
       "      <td>worth</td>\n",
       "      <td>12</td>\n",
       "      <td>0.2263</td>\n",
       "    </tr>\n",
       "    <tr>\n",
       "      <th>2</th>\n",
       "      <td>best</td>\n",
       "      <td>11</td>\n",
       "      <td>0.6369</td>\n",
       "    </tr>\n",
       "    <tr>\n",
       "      <th>28</th>\n",
       "      <td>rejected</td>\n",
       "      <td>10</td>\n",
       "      <td>-0.5106</td>\n",
       "    </tr>\n",
       "    <tr>\n",
       "      <th>17</th>\n",
       "      <td>bad</td>\n",
       "      <td>9</td>\n",
       "      <td>-0.5423</td>\n",
       "    </tr>\n",
       "    <tr>\n",
       "      <th>150</th>\n",
       "      <td>lost</td>\n",
       "      <td>7</td>\n",
       "      <td>-0.3182</td>\n",
       "    </tr>\n",
       "    <tr>\n",
       "      <th>49</th>\n",
       "      <td>wrong</td>\n",
       "      <td>7</td>\n",
       "      <td>-0.4767</td>\n",
       "    </tr>\n",
       "    <tr>\n",
       "      <th>14</th>\n",
       "      <td>scam</td>\n",
       "      <td>7</td>\n",
       "      <td>-0.5719</td>\n",
       "    </tr>\n",
       "    <tr>\n",
       "      <th>12</th>\n",
       "      <td>hate</td>\n",
       "      <td>7</td>\n",
       "      <td>-0.5719</td>\n",
       "    </tr>\n",
       "    <tr>\n",
       "      <th>18</th>\n",
       "      <td>rejection</td>\n",
       "      <td>6</td>\n",
       "      <td>-0.5423</td>\n",
       "    </tr>\n",
       "    <tr>\n",
       "      <th>152</th>\n",
       "      <td>sure</td>\n",
       "      <td>5</td>\n",
       "      <td>0.3182</td>\n",
       "    </tr>\n",
       "    <tr>\n",
       "      <th>175</th>\n",
       "      <td>well</td>\n",
       "      <td>5</td>\n",
       "      <td>0.2732</td>\n",
       "    </tr>\n",
       "    <tr>\n",
       "      <th>30</th>\n",
       "      <td>free</td>\n",
       "      <td>5</td>\n",
       "      <td>0.5106</td>\n",
       "    </tr>\n",
       "    <tr>\n",
       "      <th>156</th>\n",
       "      <td>please</td>\n",
       "      <td>5</td>\n",
       "      <td>0.3182</td>\n",
       "    </tr>\n",
       "    <tr>\n",
       "      <th>80</th>\n",
       "      <td>struggling</td>\n",
       "      <td>4</td>\n",
       "      <td>-0.4215</td>\n",
       "    </tr>\n",
       "    <tr>\n",
       "      <th>164</th>\n",
       "      <td>share</td>\n",
       "      <td>4</td>\n",
       "      <td>0.2960</td>\n",
       "    </tr>\n",
       "    <tr>\n",
       "      <th>40</th>\n",
       "      <td>screwed</td>\n",
       "      <td>4</td>\n",
       "      <td>-0.4939</td>\n",
       "    </tr>\n",
       "  </tbody>\n",
       "</table>\n",
       "</div>"
      ],
      "text/plain": [
       "           Word  Frequency  Sentiment Score\n",
       "101        help         18           0.4019\n",
       "125        like         13           0.3612\n",
       "15        fired         13          -0.5574\n",
       "67         good         12           0.4404\n",
       "192       worth         12           0.2263\n",
       "2          best         11           0.6369\n",
       "28     rejected         10          -0.5106\n",
       "17          bad          9          -0.5423\n",
       "150        lost          7          -0.3182\n",
       "49        wrong          7          -0.4767\n",
       "14         scam          7          -0.5719\n",
       "12         hate          7          -0.5719\n",
       "18    rejection          6          -0.5423\n",
       "152        sure          5           0.3182\n",
       "175        well          5           0.2732\n",
       "30         free          5           0.5106\n",
       "156      please          5           0.3182\n",
       "80   struggling          4          -0.4215\n",
       "164       share          4           0.2960\n",
       "40      screwed          4          -0.4939"
      ]
     },
     "execution_count": 16,
     "metadata": {},
     "output_type": "execute_result"
    }
   ],
   "source": [
    "df_high_freq = df_sentiment[df_sentiment[\"Frequency\"] > 1]\n",
    "df_high_freq_sorted = df_high_freq.sort_values(by=\"Frequency\", ascending=False)\n",
    "df_high_freq_sorted.head(20)\n"
   ]
  },
  {
   "cell_type": "code",
   "execution_count": 20,
   "metadata": {},
   "outputs": [
    {
     "data": {
      "image/png": "[encoded data removed]",
      "text/plain": [
       "<Figure size 1200x800 with 1 Axes>"
      ]
     },
     "metadata": {},
     "output_type": "display_data"
    }
   ],
   "source": [
    "filtered_words = df_high_freq.set_index(\"Word\")[\"Frequency\"].to_dict()\n",
    "word_sentiments = df_high_freq.set_index(\"Word\")[\"Sentiment Score\"].to_dict()\n",
    "\n",
    "def color_func(word, font_size, position, orientation, random_state=None, **kwargs):\n",
    "    sentiment = word_sentiments[word]  # 获取单词的情感分数\n",
    "    cmap = plt.get_cmap(\"RdYlGn\")  # 负面（红）→ 中性（黄）→ 正面（绿）\n",
    "    norm_sentiment = (sentiment + 1) / 2  # 将情感分数归一化到 0~1\n",
    "    r, g, b, _ = cmap(norm_sentiment)  # 取色\n",
    "    return f\"rgb({int(r*255)}, {int(g*255)}, {int(b*255)})\"\n",
    "\n",
    "# 生成词云\n",
    "wordcloud = WordCloud(\n",
    "    width=800, height=400,\n",
    "    background_color=\"white\",\n",
    "    prefer_horizontal=0.8,\n",
    "    color_func=color_func  # 使用自定义颜色映射\n",
    ").generate_from_frequencies(filtered_words)\n",
    "\n",
    "# 显示词云\n",
    "plt.figure(figsize=(12, 8))\n",
    "plt.imshow(wordcloud, interpolation=\"bilinear\")\n",
    "plt.axis(\"off\")\n",
    "plt.show()"
   ]
  },
  {
   "cell_type": "code",
   "execution_count": 18,
   "metadata": {},
   "outputs": [
    {
     "name": "stderr",
     "output_type": "stream",
     "text": [
      "/var/folders/hw/l210v46d55793g9ypyh13bvh0000gn/T/ipykernel_22550/816605542.py:21: FutureWarning: \n",
      "\n",
      "Passing `palette` without assigning `hue` is deprecated and will be removed in v0.14.0. Assign the `x` variable to `hue` and set `legend=False` for the same effect.\n",
      "\n",
      "  sns.barplot(x=\"Word\", y=\"positive_frequency\", data=df_high_freq_sorted, palette=df_high_freq_sorted[\"color\"].to_list())\n"
     ]
    },
    {
     "data": {
      "image/png": "[encoded data removed]",
      "text/plain": [
       "<Figure size 1200x600 with 1 Axes>"
      ]
     },
     "metadata": {},
     "output_type": "display_data"
    }
   ],
   "source": [
    "# 只保留出现次数大于 2 的词\n",
    "df_high_freq = df_sentiment[df_sentiment[\"Frequency\"] > 2].copy()\n",
    "\n",
    "# 设置颜色：正面（绿）负面（红）\n",
    "df_high_freq[\"color\"] = df_high_freq[\"Sentiment Score\"].apply(lambda x: \"green\" if x > 0 else \"red\")\n",
    "\n",
    "# 让所有的频率变正\n",
    "df_high_freq[\"positive_frequency\"] = df_high_freq[\"Frequency\"]\n",
    "\n",
    "# **负面词按词频降序排列，正面词也按词频降序排列**\n",
    "df_negative = df_high_freq[df_high_freq[\"Sentiment Score\"] < 0].sort_values(by=\"Frequency\", ascending=True)\n",
    "df_positive = df_high_freq[df_high_freq[\"Sentiment Score\"] > 0].sort_values(by=\"Frequency\", ascending=False)\n",
    "\n",
    "# **合并负面词和正面词，使高频词靠近黑线**\n",
    "df_high_freq_sorted = pd.concat([df_negative, df_positive])\n",
    "\n",
    "# 设置图形\n",
    "plt.figure(figsize=(12, 6))\n",
    "\n",
    "# 绘制柱状图\n",
    "sns.barplot(x=\"Word\", y=\"positive_frequency\", data=df_high_freq_sorted, palette=df_high_freq_sorted[\"color\"].to_list())\n",
    "\n",
    "# **添加黑色虚线（负面词和正面词之间）**\n",
    "num_negative = len(df_negative)\n",
    "plt.axvline(num_negative - 0.5, color=\"black\", linestyle=\"--\")  \n",
    "\n",
    "# **将 Y 轴坐标设置为整数**\n",
    "plt.yticks(np.arange(0, df_high_freq_sorted[\"positive_frequency\"].max() + 1, step=1))\n",
    "\n",
    "# 美化\n",
    "plt.ylabel(\"Word Frequency\")  # 频率在 Y 轴\n",
    "plt.xlabel(\"Word\")  # 词语在 X 轴\n",
    "plt.title(\"Positive vs Negative Sentiment Words\")\n",
    "plt.xticks(rotation=60, ha=\"right\")  # 旋转 X 轴标签，避免重叠\n",
    "plt.show()\n"
   ]
  },
  {
   "cell_type": "code",
   "execution_count": null,
   "metadata": {},
   "outputs": [],
   "source": []
  },
  {
   "cell_type": "markdown",
   "metadata": {},
   "source": [
    "## Analysis of comments from megathreads under jobs section to see the historical trending."
   ]
  },
  {
   "cell_type": "markdown",
   "metadata": {},
   "source": [
    "### 2025"
   ]
  },
  {
   "cell_type": "code",
   "execution_count": 6,
   "metadata": {},
   "outputs": [
    {
     "name": "stdout",
     "output_type": "stream",
     "text": [
      "1. After months of being rejected...\n",
      "2. Got caught off guard with a ca...\n",
      "3. I am stuck in a $20.50/hr vide...\n",
      "4. Separated from my last job at ...\n",
      "5. Disappointment: \n",
      "\n",
      "I had a prom...\n"
     ]
    }
   ],
   "source": [
    "post_id = \"1dse341\"\n",
    "\n",
    "submission = reddit.submission(id=post_id)\n",
    "\n",
    "submission.comments.replace_more(limit=None)\n",
    "\n",
    "all_comments = submission.comments.list()\n",
    "\n",
    "for idx, comment in enumerate(all_comments[:5], 1):\n",
    "    print(f\"{idx}. {comment.body[:30]}...\") \n"
   ]
  },
  {
   "cell_type": "code",
   "execution_count": 7,
   "metadata": {},
   "outputs": [],
   "source": [
    "def get_2025_megathread_ids():\n",
    "    reddit = praw.Reddit(\n",
    "        client_id=\"Pb_1-TscU4Aza0JxUKT_KA\",\n",
    "        client_secret=\"NO-4Zv8W-Jun6cEEWpUpCkVX7Wq9gg\",\n",
    "        user_agent=\"Mozilla/5.0 (Macintosh; Intel Mac OS X 10_15_7) AppleWebKit/537.36 (KHTML, like Gecko) Chrome/133.0.0.0 Safari/537.36\",\n",
    "        ratelimit_seconds=180\n",
    "    )\n",
    "\n",
    "    subreddit = reddit.subreddit(\"jobs\")\n",
    "    search_query = \"Success and Disappointment Megathread for the Week\"\n",
    "    \n",
    "    post_ids = []\n",
    "    \n",
    "    for submission in subreddit.search(search_query, time_filter=\"year\", sort=\"new\", limit=100):\n",
    "        if submission.title == \"Success and Disappointment Megathread for the Week\":\n",
    "            post_ids.append(submission.id)\n",
    "\n",
    "    return post_ids\n"
   ]
  },
  {
   "cell_type": "code",
   "execution_count": 8,
   "metadata": {},
   "outputs": [
    {
     "name": "stdout",
     "output_type": "stream",
     "text": [
      "['1j25eey', '1iwogln', '1ir6h4p', '1ilt1q4', '1igbnmr', '1iaugas', '1i5d1hy', '1i00vey', '1huldcn', '1hp9pch', '1hkb90t', '1hf62ii']\n"
     ]
    }
   ],
   "source": [
    "megathread_ids_2025 = get_2025_megathread_ids()\n",
    "print(megathread_ids_2025)"
   ]
  },
  {
   "cell_type": "code",
   "execution_count": 9,
   "metadata": {},
   "outputs": [],
   "source": [
    "def get_comments_from_id(post_id):\n",
    "    try:\n",
    "        reddit = praw.Reddit(\n",
    "            client_id=\"Pb_1-TscU4Aza0JxUKT_KA\",\n",
    "            client_secret=\"NO-4Zv8W-Jun6cEEWpUpCkVX7Wq9gg\",\n",
    "            user_agent=\"Mozilla/5.0 (Macintosh; Intel Mac OS X 10_15_7) AppleWebKit/537.36 (KHTML, like Gecko) Chrome/133.0.0.0 Safari/537.36\",\n",
    "            ratelimit_seconds=180\n",
    "        )\n",
    "\n",
    "        submission = reddit.submission(id=post_id)\n",
    "        submission.comments.replace_more(limit=None)\n",
    "        all_comments = submission.comments.list()\n",
    "\n",
    "        filtered_comments = [comment.body for comment in all_comments if len(comment.body) < 500]\n",
    "\n",
    "        sentiment_analyzer = pipeline(\"sentiment-analysis\", model=\"distilbert-base-uncased-finetuned-sst-2-english\")\n",
    "        \n",
    "        analyzed_comments = [\n",
    "            {\"comment\": comment, \"sentiment\": sentiment_analyzer(comment)[0]} \n",
    "            for comment in filtered_comments\n",
    "        ]\n",
    "        \n",
    "        return analyzed_comments\n",
    "    \n",
    "    except:\n",
    "        return[]"
   ]
  },
  {
   "cell_type": "code",
   "execution_count": 10,
   "metadata": {},
   "outputs": [],
   "source": [
    "def aggregate_sentiments(id_list):\n",
    "    sentiment_counts = Counter()\n",
    "    \n",
    "    for post_id in tqdm(id_list, desc=\"Processing posts\", unit=\"post\"):\n",
    "        analyzed_comments = get_comments_from_id(post_id)\n",
    "        for analyzed_comment in analyzed_comments:\n",
    "            sentiment = analyzed_comment.get(\"sentiment\").get(\"label\")\n",
    "            sentiment_counts[sentiment] += 1\n",
    "    \n",
    "    return sentiment_counts"
   ]
  },
  {
   "cell_type": "code",
   "execution_count": 11,
   "metadata": {},
   "outputs": [
    {
     "name": "stderr",
     "output_type": "stream",
     "text": [
      "Processing posts:   0%|          | 0/12 [00:00<?, ?post/s]huggingface/tokenizers: The current process just got forked, after parallelism has already been used. Disabling parallelism to avoid deadlocks...\n",
      "To disable this warning, you can either:\n",
      "\t- Avoid using `tokenizers` before the fork if possible\n",
      "\t- Explicitly set the environment variable TOKENIZERS_PARALLELISM=(true | false)\n"
     ]
    },
    {
     "data": {
      "application/vnd.jupyter.widget-view+json": {
       "model_id": "b54fb8d563bd4ceda85d0750bd8298f1",
       "version_major": 2,
       "version_minor": 0
      },
      "text/plain": [
       "config.json:   0%|          | 0.00/629 [00:00<?, ?B/s]"
      ]
     },
     "metadata": {},
     "output_type": "display_data"
    },
    {
     "data": {
      "application/vnd.jupyter.widget-view+json": {
       "model_id": "fa19f129f67e4817be0ad90bf3ce5f46",
       "version_major": 2,
       "version_minor": 0
      },
      "text/plain": [
       "model.safetensors:   0%|          | 0.00/268M [00:00<?, ?B/s]"
      ]
     },
     "metadata": {},
     "output_type": "display_data"
    },
    {
     "data": {
      "application/vnd.jupyter.widget-view+json": {
       "model_id": "40d139e258ae4fabb891c36d3c44d700",
       "version_major": 2,
       "version_minor": 0
      },
      "text/plain": [
       "tokenizer_config.json:   0%|          | 0.00/48.0 [00:00<?, ?B/s]"
      ]
     },
     "metadata": {},
     "output_type": "display_data"
    },
    {
     "name": "stderr",
     "output_type": "stream",
     "text": [
      "Processing posts:   8%|▊         | 1/12 [00:22<04:09, 22.70s/post]"
     ]
    },
    {
     "data": {
      "application/vnd.jupyter.widget-view+json": {
       "model_id": "edf25c7227b74f15a0e82ec6433ec76f",
       "version_major": 2,
       "version_minor": 0
      },
      "text/plain": [
       "vocab.txt:   0%|          | 0.00/232k [00:00<?, ?B/s]"
      ]
     },
     "metadata": {},
     "output_type": "display_data"
    },
    {
     "name": "stderr",
     "output_type": "stream",
     "text": [
      "Device set to use mps:0\n",
      "Processing posts:  17%|█▋        | 2/12 [00:24<01:44, 10.41s/post]Device set to use mps:0\n",
      "Processing posts:  25%|██▌       | 3/12 [00:25<00:55,  6.14s/post]Device set to use mps:0\n",
      "Processing posts:  33%|███▎      | 4/12 [00:26<00:32,  4.03s/post]Device set to use mps:0\n",
      "Processing posts:  42%|████▏     | 5/12 [00:27<00:20,  2.87s/post]Device set to use mps:0\n",
      "Processing posts:  50%|█████     | 6/12 [00:28<00:13,  2.22s/post]Device set to use mps:0\n",
      "Processing posts:  58%|█████▊    | 7/12 [00:29<00:08,  1.79s/post]Device set to use mps:0\n",
      "Processing posts:  67%|██████▋   | 8/12 [00:29<00:05,  1.47s/post]Device set to use mps:0\n",
      "Processing posts:  75%|███████▌  | 9/12 [00:30<00:03,  1.23s/post]Device set to use mps:0\n",
      "Processing posts:  83%|████████▎ | 10/12 [00:31<00:02,  1.10s/post]Device set to use mps:0\n",
      "Processing posts:  92%|█████████▏| 11/12 [00:32<00:00,  1.00post/s]Device set to use mps:0\n",
      "Processing posts: 100%|██████████| 12/12 [00:33<00:00,  2.77s/post]\n"
     ]
    },
    {
     "data": {
      "text/plain": [
       "Counter({'NEGATIVE': 39, 'POSITIVE': 23})"
      ]
     },
     "execution_count": 11,
     "metadata": {},
     "output_type": "execute_result"
    }
   ],
   "source": [
    "sentiment_result = aggregate_sentiments(megathread_ids_2025)\n",
    "sentiment_result"
   ]
  },
  {
   "cell_type": "code",
   "execution_count": null,
   "metadata": {},
   "outputs": [
    {
     "data": {
      "application/vnd.plotly.v1+json": {
       "config": {
        "plotlyServerURL": "https://plot.ly"
       },
       "data": [
        {
         "customdata": [
          [
           "POSITIVE"
          ],
          [
           "NEGATIVE"
          ]
         ],
         "domain": {
          "x": [
           0,
           1
          ],
          "y": [
           0,
           1
          ]
         },
         "hovertemplate": "label=%{label}<br>value=%{value}<br>color=%{customdata[0]}<extra></extra>",
         "labels": [
          "POSITIVE",
          "NEGATIVE"
         ],
         "legendgroup": "",
         "marker": {
          "colors": [
           "green",
           "red"
          ]
         },
         "name": "",
         "showlegend": true,
         "textinfo": "percent+label",
         "type": "pie",
         "values": {
          "bdata": "Fyc=",
          "dtype": "i1"
         }
        }
       ],
       "layout": {
        "legend": {
         "tracegroupgap": 0
        },
        "showlegend": false,
        "template": {
         "data": {
          "bar": [
           {
            "error_x": {
             "color": "#2a3f5f"
            },
            "error_y": {
             "color": "#2a3f5f"
            },
            "marker": {
             "line": {
              "color": "#E5ECF6",
              "width": 0.5
             },
             "pattern": {
              "fillmode": "overlay",
              "size": 10,
              "solidity": 0.2
             }
            },
            "type": "bar"
           }
          ],
          "barpolar": [
           {
            "marker": {
             "line": {
              "color": "#E5ECF6",
              "width": 0.5
             },
             "pattern": {
              "fillmode": "overlay",
              "size": 10,
              "solidity": 0.2
             }
            },
            "type": "barpolar"
           }
          ],
          "carpet": [
           {
            "aaxis": {
             "endlinecolor": "#2a3f5f",
             "gridcolor": "white",
             "linecolor": "white",
             "minorgridcolor": "white",
             "startlinecolor": "#2a3f5f"
            },
            "baxis": {
             "endlinecolor": "#2a3f5f",
             "gridcolor": "white",
             "linecolor": "white",
             "minorgridcolor": "white",
             "startlinecolor": "#2a3f5f"
            },
            "type": "carpet"
           }
          ],
          "choropleth": [
           {
            "colorbar": {
             "outlinewidth": 0,
             "ticks": ""
            },
            "type": "choropleth"
           }
          ],
          "contour": [
           {
            "colorbar": {
             "outlinewidth": 0,
             "ticks": ""
            },
            "colorscale": [
             [
              0,
              "#0d0887"
             ],
             [
              0.1111111111111111,
              "#46039f"
             ],
             [
              0.2222222222222222,
              "#7201a8"
             ],
             [
              0.3333333333333333,
              "#9c179e"
             ],
             [
              0.4444444444444444,
              "#bd3786"
             ],
             [
              0.5555555555555556,
              "#d8576b"
             ],
             [
              0.6666666666666666,
              "#ed7953"
             ],
             [
              0.7777777777777778,
              "#fb9f3a"
             ],
             [
              0.8888888888888888,
              "#fdca26"
             ],
             [
              1,
              "#f0f921"
             ]
            ],
            "type": "contour"
           }
          ],
          "contourcarpet": [
           {
            "colorbar": {
             "outlinewidth": 0,
             "ticks": ""
            },
            "type": "contourcarpet"
           }
          ],
          "heatmap": [
           {
            "colorbar": {
             "outlinewidth": 0,
             "ticks": ""
            },
            "colorscale": [
             [
              0,
              "#0d0887"
             ],
             [
              0.1111111111111111,
              "#46039f"
             ],
             [
              0.2222222222222222,
              "#7201a8"
             ],
             [
              0.3333333333333333,
              "#9c179e"
             ],
             [
              0.4444444444444444,
              "#bd3786"
             ],
             [
              0.5555555555555556,
              "#d8576b"
             ],
             [
              0.6666666666666666,
              "#ed7953"
             ],
             [
              0.7777777777777778,
              "#fb9f3a"
             ],
             [
              0.8888888888888888,
              "#fdca26"
             ],
             [
              1,
              "#f0f921"
             ]
            ],
            "type": "heatmap"
           }
          ],
          "histogram": [
           {
            "marker": {
             "pattern": {
              "fillmode": "overlay",
              "size": 10,
              "solidity": 0.2
             }
            },
            "type": "histogram"
           }
          ],
          "histogram2d": [
           {
            "colorbar": {
             "outlinewidth": 0,
             "ticks": ""
            },
            "colorscale": [
             [
              0,
              "#0d0887"
             ],
             [
              0.1111111111111111,
              "#46039f"
             ],
             [
              0.2222222222222222,
              "#7201a8"
             ],
             [
              0.3333333333333333,
              "#9c179e"
             ],
             [
              0.4444444444444444,
              "#bd3786"
             ],
             [
              0.5555555555555556,
              "#d8576b"
             ],
             [
              0.6666666666666666,
              "#ed7953"
             ],
             [
              0.7777777777777778,
              "#fb9f3a"
             ],
             [
              0.8888888888888888,
              "#fdca26"
             ],
             [
              1,
              "#f0f921"
             ]
            ],
            "type": "histogram2d"
           }
          ],
          "histogram2dcontour": [
           {
            "colorbar": {
             "outlinewidth": 0,
             "ticks": ""
            },
            "colorscale": [
             [
              0,
              "#0d0887"
             ],
             [
              0.1111111111111111,
              "#46039f"
             ],
             [
              0.2222222222222222,
              "#7201a8"
             ],
             [
              0.3333333333333333,
              "#9c179e"
             ],
             [
              0.4444444444444444,
              "#bd3786"
             ],
             [
              0.5555555555555556,
              "#d8576b"
             ],
             [
              0.6666666666666666,
              "#ed7953"
             ],
             [
              0.7777777777777778,
              "#fb9f3a"
             ],
             [
              0.8888888888888888,
              "#fdca26"
             ],
             [
              1,
              "#f0f921"
             ]
            ],
            "type": "histogram2dcontour"
           }
          ],
          "mesh3d": [
           {
            "colorbar": {
             "outlinewidth": 0,
             "ticks": ""
            },
            "type": "mesh3d"
           }
          ],
          "parcoords": [
           {
            "line": {
             "colorbar": {
              "outlinewidth": 0,
              "ticks": ""
             }
            },
            "type": "parcoords"
           }
          ],
          "pie": [
           {
            "automargin": true,
            "type": "pie"
           }
          ],
          "scatter": [
           {
            "fillpattern": {
             "fillmode": "overlay",
             "size": 10,
             "solidity": 0.2
            },
            "type": "scatter"
           }
          ],
          "scatter3d": [
           {
            "line": {
             "colorbar": {
              "outlinewidth": 0,
              "ticks": ""
             }
            },
            "marker": {
             "colorbar": {
              "outlinewidth": 0,
              "ticks": ""
             }
            },
            "type": "scatter3d"
           }
          ],
          "scattercarpet": [
           {
            "marker": {
             "colorbar": {
              "outlinewidth": 0,
              "ticks": ""
             }
            },
            "type": "scattercarpet"
           }
          ],
          "scattergeo": [
           {
            "marker": {
             "colorbar": {
              "outlinewidth": 0,
              "ticks": ""
             }
            },
            "type": "scattergeo"
           }
          ],
          "scattergl": [
           {
            "marker": {
             "colorbar": {
              "outlinewidth": 0,
              "ticks": ""
             }
            },
            "type": "scattergl"
           }
          ],
          "scattermap": [
           {
            "marker": {
             "colorbar": {
              "outlinewidth": 0,
              "ticks": ""
             }
            },
            "type": "scattermap"
           }
          ],
          "scattermapbox": [
           {
            "marker": {
             "colorbar": {
              "outlinewidth": 0,
              "ticks": ""
             }
            },
            "type": "scattermapbox"
           }
          ],
          "scatterpolar": [
           {
            "marker": {
             "colorbar": {
              "outlinewidth": 0,
              "ticks": ""
             }
            },
            "type": "scatterpolar"
           }
          ],
          "scatterpolargl": [
           {
            "marker": {
             "colorbar": {
              "outlinewidth": 0,
              "ticks": ""
             }
            },
            "type": "scatterpolargl"
           }
          ],
          "scatterternary": [
           {
            "marker": {
             "colorbar": {
              "outlinewidth": 0,
              "ticks": ""
             }
            },
            "type": "scatterternary"
           }
          ],
          "surface": [
           {
            "colorbar": {
             "outlinewidth": 0,
             "ticks": ""
            },
            "colorscale": [
             [
              0,
              "#0d0887"
             ],
             [
              0.1111111111111111,
              "#46039f"
             ],
             [
              0.2222222222222222,
              "#7201a8"
             ],
             [
              0.3333333333333333,
              "#9c179e"
             ],
             [
              0.4444444444444444,
              "#bd3786"
             ],
             [
              0.5555555555555556,
              "#d8576b"
             ],
             [
              0.6666666666666666,
              "#ed7953"
             ],
             [
              0.7777777777777778,
              "#fb9f3a"
             ],
             [
              0.8888888888888888,
              "#fdca26"
             ],
             [
              1,
              "#f0f921"
             ]
            ],
            "type": "surface"
           }
          ],
          "table": [
           {
            "cells": {
             "fill": {
              "color": "#EBF0F8"
             },
             "line": {
              "color": "white"
             }
            },
            "header": {
             "fill": {
              "color": "#C8D4E3"
             },
             "line": {
              "color": "white"
             }
            },
            "type": "table"
           }
          ]
         },
         "layout": {
          "annotationdefaults": {
           "arrowcolor": "#2a3f5f",
           "arrowhead": 0,
           "arrowwidth": 1
          },
          "autotypenumbers": "strict",
          "coloraxis": {
           "colorbar": {
            "outlinewidth": 0,
            "ticks": ""
           }
          },
          "colorscale": {
           "diverging": [
            [
             0,
             "#8e0152"
            ],
            [
             0.1,
             "#c51b7d"
            ],
            [
             0.2,
             "#de77ae"
            ],
            [
             0.3,
             "#f1b6da"
            ],
            [
             0.4,
             "#fde0ef"
            ],
            [
             0.5,
             "#f7f7f7"
            ],
            [
             0.6,
             "#e6f5d0"
            ],
            [
             0.7,
             "#b8e186"
            ],
            [
             0.8,
             "#7fbc41"
            ],
            [
             0.9,
             "#4d9221"
            ],
            [
             1,
             "#276419"
            ]
           ],
           "sequential": [
            [
             0,
             "#0d0887"
            ],
            [
             0.1111111111111111,
             "#46039f"
            ],
            [
             0.2222222222222222,
             "#7201a8"
            ],
            [
             0.3333333333333333,
             "#9c179e"
            ],
            [
             0.4444444444444444,
             "#bd3786"
            ],
            [
             0.5555555555555556,
             "#d8576b"
            ],
            [
             0.6666666666666666,
             "#ed7953"
            ],
            [
             0.7777777777777778,
             "#fb9f3a"
            ],
            [
             0.8888888888888888,
             "#fdca26"
            ],
            [
             1,
             "#f0f921"
            ]
           ],
           "sequentialminus": [
            [
             0,
             "#0d0887"
            ],
            [
             0.1111111111111111,
             "#46039f"
            ],
            [
             0.2222222222222222,
             "#7201a8"
            ],
            [
             0.3333333333333333,
             "#9c179e"
            ],
            [
             0.4444444444444444,
             "#bd3786"
            ],
            [
             0.5555555555555556,
             "#d8576b"
            ],
            [
             0.6666666666666666,
             "#ed7953"
            ],
            [
             0.7777777777777778,
             "#fb9f3a"
            ],
            [
             0.8888888888888888,
             "#fdca26"
            ],
            [
             1,
             "#f0f921"
            ]
           ]
          },
          "colorway": [
           "#636efa",
           "#EF553B",
           "#00cc96",
           "#ab63fa",
           "#FFA15A",
           "#19d3f3",
           "#FF6692",
           "#B6E880",
           "#FF97FF",
           "#FECB52"
          ],
          "font": {
           "color": "#2a3f5f"
          },
          "geo": {
           "bgcolor": "white",
           "lakecolor": "white",
           "landcolor": "#E5ECF6",
           "showlakes": true,
           "showland": true,
           "subunitcolor": "white"
          },
          "hoverlabel": {
           "align": "left"
          },
          "hovermode": "closest",
          "mapbox": {
           "style": "light"
          },
          "paper_bgcolor": "white",
          "plot_bgcolor": "#E5ECF6",
          "polar": {
           "angularaxis": {
            "gridcolor": "white",
            "linecolor": "white",
            "ticks": ""
           },
           "bgcolor": "#E5ECF6",
           "radialaxis": {
            "gridcolor": "white",
            "linecolor": "white",
            "ticks": ""
           }
          },
          "scene": {
           "xaxis": {
            "backgroundcolor": "#E5ECF6",
            "gridcolor": "white",
            "gridwidth": 2,
            "linecolor": "white",
            "showbackground": true,
            "ticks": "",
            "zerolinecolor": "white"
           },
           "yaxis": {
            "backgroundcolor": "#E5ECF6",
            "gridcolor": "white",
            "gridwidth": 2,
            "linecolor": "white",
            "showbackground": true,
            "ticks": "",
            "zerolinecolor": "white"
           },
           "zaxis": {
            "backgroundcolor": "#E5ECF6",
            "gridcolor": "white",
            "gridwidth": 2,
            "linecolor": "white",
            "showbackground": true,
            "ticks": "",
            "zerolinecolor": "white"
           }
          },
          "shapedefaults": {
           "line": {
            "color": "#2a3f5f"
           }
          },
          "ternary": {
           "aaxis": {
            "gridcolor": "white",
            "linecolor": "white",
            "ticks": ""
           },
           "baxis": {
            "gridcolor": "white",
            "linecolor": "white",
            "ticks": ""
           },
           "bgcolor": "#E5ECF6",
           "caxis": {
            "gridcolor": "white",
            "linecolor": "white",
            "ticks": ""
           }
          },
          "title": {
           "x": 0.05
          },
          "xaxis": {
           "automargin": true,
           "gridcolor": "white",
           "linecolor": "white",
           "ticks": "",
           "title": {
            "standoff": 15
           },
           "zerolinecolor": "white",
           "zerolinewidth": 2
          },
          "yaxis": {
           "automargin": true,
           "gridcolor": "white",
           "linecolor": "white",
           "ticks": "",
           "title": {
            "standoff": 15
           },
           "zerolinecolor": "white",
           "zerolinewidth": 2
          }
         }
        },
        "title": {
         "text": "Sentiment Analysis Distribution",
         "x": 0.5
        }
       }
      }
     },
     "metadata": {},
     "output_type": "display_data"
    }
   ],
   "source": [
    "labels = list(sentiment_result.keys())  # ['NEGATIVE', 'POSITIVE']\n",
    "values = list(sentiment_result.values())  # [39, 23]\n",
    "\n",
    "fig = px.pie(\n",
    "    names=labels, \n",
    "    values=values, \n",
    "    title=\"Sentiment Analysis Distribution\",\n",
    "    color=labels,\n",
    "    color_discrete_map={\"NEGATIVE\": \"red\", \"POSITIVE\": \"green\"}\n",
    ")\n",
    "\n",
    "fig.update_traces(textinfo=\"percent+label\")\n",
    "fig.update_layout(\n",
    "    title_x=0.5,  # 标题居中\n",
    "    showlegend=False  # 隐藏侧边图例\n",
    ")\n",
    "\n",
    "fig.show()"
   ]
  },
  {
   "cell_type": "markdown",
   "metadata": {},
   "source": [
    "### 2024"
   ]
  },
  {
   "cell_type": "code",
   "execution_count": null,
   "metadata": {},
   "outputs": [],
   "source": [
    "def get_2024_megathread_ids():\n",
    "    reddit = praw.Reddit(\n",
    "        client_id=\"Pb_1-TscU4Aza0JxUKT_KA\",\n",
    "        client_secret=\"NO-4Zv8W-Jun6cEEWpUpCkVX7Wq9gg\",\n",
    "        user_agent=\"Mozilla/5.0\"\n",
    "    )\n",
    "\n",
    "    subreddit = reddit.subreddit(\"jobs\")\n",
    "    search_query = \"megathread\"\n",
    "\n",
    "    start_of_last_year = int(datetime(2024, 1, 1, tzinfo=timezone.utc).timestamp())\n",
    "    end_of_last_year = int(datetime(2024, 12, 31, 23, 59, 59, tzinfo=timezone.utc).timestamp())\n",
    "\n",
    "    post_ids = []\n",
    "\n",
    "    for submission in subreddit.search(search_query, sort=\"new\", limit=100):\n",
    "        post_time = int(submission.created_utc)\n",
    "        \n",
    "        if start_of_last_year <= post_time <= end_of_last_year:\n",
    "            post_ids.append(submission.id)\n",
    "\n",
    "    return post_ids"
   ]
  },
  {
   "cell_type": "code",
   "execution_count": 12,
   "metadata": {},
   "outputs": [
    {
     "name": "stdout",
     "output_type": "stream",
     "text": [
      "['1hp9pch', '1hkb90t', '1hhl3na', '1hf62ii', '1h9wkzo', '1h4hhsa', '1gz5fsn', '1gtrhkc', '1goetfl', '1gj14vd', '1gdoyvf', '1g8bjn1', '1g326m9', '1fxtdcd', '1fsh867', '1fn653e', '1fhprpr', '1fcatmb', '1f6rqdc', '1f19f7i', '1evmlox', '1epy3rm', '1ek8ifa', '1eekavr', '1e8z4zt', '1e3fim6', '1dxtkm4', '1dse341', '1dmyrkh', '1dhjqqt', '1dc6tww', '1d6px57', '1d1dkf8', '1cw0wdj', '1cqkj8f', '1cl42xp', '1cfjshj', '1c9vemu', '1c46w41', '1byi5zf', '1bsnoqn', '1bmzmy8', '1bhcviv', '1bbp7r7', '1b5wc20', '1b038ei', '1au932s', '1aomgtt', '1aj2lex', '1adh7bq', '19chv5e', '196ueeo', '1916tfq', '18vkh2q']\n"
     ]
    }
   ],
   "source": [
    "megathread_ids_2024 = get_2024_megathread_ids()\n",
    "print(megathread_ids_2024)"
   ]
  },
  {
   "cell_type": "code",
   "execution_count": 13,
   "metadata": {},
   "outputs": [
    {
     "name": "stderr",
     "output_type": "stream",
     "text": [
      "Processing posts:   0%|          | 0/54 [00:00<?, ?post/s]huggingface/tokenizers: The current process just got forked, after parallelism has already been used. Disabling parallelism to avoid deadlocks...\n",
      "To disable this warning, you can either:\n",
      "\t- Avoid using `tokenizers` before the fork if possible\n",
      "\t- Explicitly set the environment variable TOKENIZERS_PARALLELISM=(true | false)\n",
      "Device set to use mps:0\n",
      "Processing posts:   2%|▏         | 1/54 [00:01<00:56,  1.07s/post]Device set to use mps:0\n",
      "Processing posts:   4%|▎         | 2/54 [00:02<00:52,  1.02s/post]Device set to use mps:0\n",
      "Processing posts:   6%|▌         | 3/54 [00:02<00:42,  1.20post/s]Device set to use mps:0\n",
      "Processing posts:   7%|▋         | 4/54 [00:03<00:49,  1.01post/s]Device set to use mps:0\n",
      "Processing posts:   9%|▉         | 5/54 [00:04<00:43,  1.12post/s]Device set to use mps:0\n",
      "Processing posts:  11%|█         | 6/54 [00:05<00:45,  1.05post/s]Device set to use mps:0\n",
      "Processing posts:  13%|█▎        | 7/54 [00:06<00:43,  1.09post/s]Device set to use mps:0\n",
      "Processing posts:  15%|█▍        | 8/54 [00:07<00:41,  1.12post/s]Device set to use mps:0\n",
      "Processing posts:  17%|█▋        | 9/54 [00:08<00:40,  1.11post/s]Device set to use mps:0\n",
      "Processing posts:  19%|█▊        | 10/54 [00:09<00:39,  1.10post/s]Device set to use mps:0\n",
      "Processing posts:  20%|██        | 11/54 [00:10<00:39,  1.08post/s]Device set to use mps:0\n",
      "Processing posts:  22%|██▏       | 12/54 [00:11<00:43,  1.02s/post]Device set to use mps:0\n",
      "Processing posts:  24%|██▍       | 13/54 [00:12<00:39,  1.04post/s]Device set to use mps:0\n",
      "Processing posts:  26%|██▌       | 14/54 [00:13<00:41,  1.04s/post]Device set to use mps:0\n",
      "Processing posts:  28%|██▊       | 15/54 [00:14<00:40,  1.04s/post]Device set to use mps:0\n",
      "Processing posts:  30%|██▉       | 16/54 [00:15<00:41,  1.09s/post]Device set to use mps:0\n",
      "Processing posts:  31%|███▏      | 17/54 [00:16<00:39,  1.06s/post]Device set to use mps:0\n",
      "Processing posts:  33%|███▎      | 18/54 [00:18<00:40,  1.13s/post]Device set to use mps:0\n",
      "Processing posts:  35%|███▌      | 19/54 [00:18<00:37,  1.07s/post]Device set to use mps:0\n",
      "Processing posts:  37%|███▋      | 20/54 [00:19<00:34,  1.00s/post]Device set to use mps:0\n",
      "Processing posts:  39%|███▉      | 21/54 [00:21<00:35,  1.07s/post]Device set to use mps:0\n",
      "Processing posts:  41%|████      | 22/54 [00:22<00:39,  1.24s/post]Device set to use mps:0\n",
      "Processing posts:  43%|████▎     | 23/54 [00:23<00:35,  1.16s/post]Device set to use mps:0\n",
      "Processing posts:  44%|████▍     | 24/54 [00:24<00:35,  1.19s/post]Device set to use mps:0\n",
      "Processing posts:  46%|████▋     | 25/54 [00:25<00:33,  1.14s/post]Device set to use mps:0\n",
      "Processing posts:  48%|████▊     | 26/54 [00:27<00:35,  1.28s/post]Device set to use mps:0\n",
      "Processing posts:  50%|█████     | 27/54 [00:28<00:30,  1.12s/post]Device set to use mps:0\n",
      "Processing posts:  52%|█████▏    | 28/54 [00:32<00:56,  2.18s/post]Device set to use mps:0\n",
      "Processing posts:  54%|█████▎    | 29/54 [00:34<00:49,  1.96s/post]Device set to use mps:0\n",
      "Processing posts:  56%|█████▌    | 30/54 [00:35<00:41,  1.72s/post]Device set to use mps:0\n",
      "Processing posts:  57%|█████▋    | 31/54 [00:36<00:35,  1.53s/post]Device set to use mps:0\n",
      "Processing posts:  59%|█████▉    | 32/54 [00:38<00:33,  1.51s/post]Device set to use mps:0\n",
      "Processing posts:  61%|██████    | 33/54 [00:39<00:31,  1.51s/post]Device set to use mps:0\n",
      "Processing posts:  63%|██████▎   | 34/54 [00:41<00:31,  1.60s/post]Device set to use mps:0\n",
      "Processing posts:  65%|██████▍   | 35/54 [00:42<00:29,  1.54s/post]Device set to use mps:0\n",
      "Processing posts:  67%|██████▋   | 36/54 [00:44<00:26,  1.49s/post]Device set to use mps:0\n",
      "Processing posts:  69%|██████▊   | 37/54 [00:45<00:26,  1.57s/post]Device set to use mps:0\n",
      "Processing posts:  70%|███████   | 38/54 [00:47<00:23,  1.46s/post]Device set to use mps:0\n",
      "Processing posts:  72%|███████▏  | 39/54 [00:50<00:30,  2.00s/post]Device set to use mps:0\n",
      "Processing posts:  74%|███████▍  | 40/54 [00:51<00:24,  1.76s/post]Device set to use mps:0\n",
      "Processing posts:  76%|███████▌  | 41/54 [00:55<00:29,  2.29s/post]Device set to use mps:0\n",
      "Processing posts:  78%|███████▊  | 42/54 [00:56<00:23,  1.94s/post]Device set to use mps:0\n",
      "Processing posts:  80%|███████▉  | 43/54 [00:57<00:18,  1.69s/post]Device set to use mps:0\n",
      "Processing posts:  81%|████████▏ | 44/54 [00:58<00:15,  1.56s/post]Device set to use mps:0\n",
      "Processing posts:  83%|████████▎ | 45/54 [01:00<00:14,  1.65s/post]Device set to use mps:0\n",
      "Processing posts:  85%|████████▌ | 46/54 [01:01<00:11,  1.49s/post]Device set to use mps:0\n",
      "Processing posts:  87%|████████▋ | 47/54 [01:02<00:10,  1.43s/post]Device set to use mps:0\n",
      "Processing posts:  89%|████████▉ | 48/54 [01:03<00:08,  1.33s/post]Device set to use mps:0\n",
      "Processing posts:  91%|█████████ | 49/54 [01:05<00:06,  1.37s/post]Device set to use mps:0\n",
      "Processing posts:  93%|█████████▎| 50/54 [01:06<00:05,  1.37s/post]Device set to use mps:0\n",
      "Processing posts:  94%|█████████▍| 51/54 [01:08<00:04,  1.35s/post]Device set to use mps:0\n",
      "Processing posts:  96%|█████████▋| 52/54 [01:09<00:02,  1.38s/post]Device set to use mps:0\n",
      "Processing posts:  98%|█████████▊| 53/54 [01:10<00:01,  1.35s/post]Device set to use mps:0\n",
      "Processing posts: 100%|██████████| 54/54 [01:12<00:00,  1.34s/post]\n"
     ]
    },
    {
     "data": {
      "text/plain": [
       "Counter({'NEGATIVE': 1132, 'POSITIVE': 473})"
      ]
     },
     "execution_count": 13,
     "metadata": {},
     "output_type": "execute_result"
    }
   ],
   "source": [
    "sentiment_result = aggregate_sentiments(megathread_ids_2024)\n",
    "sentiment_result"
   ]
  },
  {
   "cell_type": "code",
   "execution_count": 14,
   "metadata": {},
   "outputs": [
    {
     "data": {
      "application/vnd.plotly.v1+json": {
       "config": {
        "plotlyServerURL": "https://plot.ly"
       },
       "data": [
        {
         "customdata": [
          [
           "POSITIVE"
          ],
          [
           "NEGATIVE"
          ]
         ],
         "domain": {
          "x": [
           0,
           1
          ],
          "y": [
           0,
           1
          ]
         },
         "hovertemplate": "label=%{label}<br>value=%{value}<br>color=%{customdata[0]}<extra></extra>",
         "labels": [
          "POSITIVE",
          "NEGATIVE"
         ],
         "legendgroup": "",
         "marker": {
          "colors": [
           "green",
           "red"
          ]
         },
         "name": "",
         "showlegend": true,
         "textinfo": "percent+label",
         "type": "pie",
         "values": {
          "bdata": "2QFsBA==",
          "dtype": "i2"
         }
        }
       ],
       "layout": {
        "legend": {
         "tracegroupgap": 0
        },
        "showlegend": false,
        "template": {
         "data": {
          "bar": [
           {
            "error_x": {
             "color": "#2a3f5f"
            },
            "error_y": {
             "color": "#2a3f5f"
            },
            "marker": {
             "line": {
              "color": "#E5ECF6",
              "width": 0.5
             },
             "pattern": {
              "fillmode": "overlay",
              "size": 10,
              "solidity": 0.2
             }
            },
            "type": "bar"
           }
          ],
          "barpolar": [
           {
            "marker": {
             "line": {
              "color": "#E5ECF6",
              "width": 0.5
             },
             "pattern": {
              "fillmode": "overlay",
              "size": 10,
              "solidity": 0.2
             }
            },
            "type": "barpolar"
           }
          ],
          "carpet": [
           {
            "aaxis": {
             "endlinecolor": "#2a3f5f",
             "gridcolor": "white",
             "linecolor": "white",
             "minorgridcolor": "white",
             "startlinecolor": "#2a3f5f"
            },
            "baxis": {
             "endlinecolor": "#2a3f5f",
             "gridcolor": "white",
             "linecolor": "white",
             "minorgridcolor": "white",
             "startlinecolor": "#2a3f5f"
            },
            "type": "carpet"
           }
          ],
          "choropleth": [
           {
            "colorbar": {
             "outlinewidth": 0,
             "ticks": ""
            },
            "type": "choropleth"
           }
          ],
          "contour": [
           {
            "colorbar": {
             "outlinewidth": 0,
             "ticks": ""
            },
            "colorscale": [
             [
              0,
              "#0d0887"
             ],
             [
              0.1111111111111111,
              "#46039f"
             ],
             [
              0.2222222222222222,
              "#7201a8"
             ],
             [
              0.3333333333333333,
              "#9c179e"
             ],
             [
              0.4444444444444444,
              "#bd3786"
             ],
             [
              0.5555555555555556,
              "#d8576b"
             ],
             [
              0.6666666666666666,
              "#ed7953"
             ],
             [
              0.7777777777777778,
              "#fb9f3a"
             ],
             [
              0.8888888888888888,
              "#fdca26"
             ],
             [
              1,
              "#f0f921"
             ]
            ],
            "type": "contour"
           }
          ],
          "contourcarpet": [
           {
            "colorbar": {
             "outlinewidth": 0,
             "ticks": ""
            },
            "type": "contourcarpet"
           }
          ],
          "heatmap": [
           {
            "colorbar": {
             "outlinewidth": 0,
             "ticks": ""
            },
            "colorscale": [
             [
              0,
              "#0d0887"
             ],
             [
              0.1111111111111111,
              "#46039f"
             ],
             [
              0.2222222222222222,
              "#7201a8"
             ],
             [
              0.3333333333333333,
              "#9c179e"
             ],
             [
              0.4444444444444444,
              "#bd3786"
             ],
             [
              0.5555555555555556,
              "#d8576b"
             ],
             [
              0.6666666666666666,
              "#ed7953"
             ],
             [
              0.7777777777777778,
              "#fb9f3a"
             ],
             [
              0.8888888888888888,
              "#fdca26"
             ],
             [
              1,
              "#f0f921"
             ]
            ],
            "type": "heatmap"
           }
          ],
          "histogram": [
           {
            "marker": {
             "pattern": {
              "fillmode": "overlay",
              "size": 10,
              "solidity": 0.2
             }
            },
            "type": "histogram"
           }
          ],
          "histogram2d": [
           {
            "colorbar": {
             "outlinewidth": 0,
             "ticks": ""
            },
            "colorscale": [
             [
              0,
              "#0d0887"
             ],
             [
              0.1111111111111111,
              "#46039f"
             ],
             [
              0.2222222222222222,
              "#7201a8"
             ],
             [
              0.3333333333333333,
              "#9c179e"
             ],
             [
              0.4444444444444444,
              "#bd3786"
             ],
             [
              0.5555555555555556,
              "#d8576b"
             ],
             [
              0.6666666666666666,
              "#ed7953"
             ],
             [
              0.7777777777777778,
              "#fb9f3a"
             ],
             [
              0.8888888888888888,
              "#fdca26"
             ],
             [
              1,
              "#f0f921"
             ]
            ],
            "type": "histogram2d"
           }
          ],
          "histogram2dcontour": [
           {
            "colorbar": {
             "outlinewidth": 0,
             "ticks": ""
            },
            "colorscale": [
             [
              0,
              "#0d0887"
             ],
             [
              0.1111111111111111,
              "#46039f"
             ],
             [
              0.2222222222222222,
              "#7201a8"
             ],
             [
              0.3333333333333333,
              "#9c179e"
             ],
             [
              0.4444444444444444,
              "#bd3786"
             ],
             [
              0.5555555555555556,
              "#d8576b"
             ],
             [
              0.6666666666666666,
              "#ed7953"
             ],
             [
              0.7777777777777778,
              "#fb9f3a"
             ],
             [
              0.8888888888888888,
              "#fdca26"
             ],
             [
              1,
              "#f0f921"
             ]
            ],
            "type": "histogram2dcontour"
           }
          ],
          "mesh3d": [
           {
            "colorbar": {
             "outlinewidth": 0,
             "ticks": ""
            },
            "type": "mesh3d"
           }
          ],
          "parcoords": [
           {
            "line": {
             "colorbar": {
              "outlinewidth": 0,
              "ticks": ""
             }
            },
            "type": "parcoords"
           }
          ],
          "pie": [
           {
            "automargin": true,
            "type": "pie"
           }
          ],
          "scatter": [
           {
            "fillpattern": {
             "fillmode": "overlay",
             "size": 10,
             "solidity": 0.2
            },
            "type": "scatter"
           }
          ],
          "scatter3d": [
           {
            "line": {
             "colorbar": {
              "outlinewidth": 0,
              "ticks": ""
             }
            },
            "marker": {
             "colorbar": {
              "outlinewidth": 0,
              "ticks": ""
             }
            },
            "type": "scatter3d"
           }
          ],
          "scattercarpet": [
           {
            "marker": {
             "colorbar": {
              "outlinewidth": 0,
              "ticks": ""
             }
            },
            "type": "scattercarpet"
           }
          ],
          "scattergeo": [
           {
            "marker": {
             "colorbar": {
              "outlinewidth": 0,
              "ticks": ""
             }
            },
            "type": "scattergeo"
           }
          ],
          "scattergl": [
           {
            "marker": {
             "colorbar": {
              "outlinewidth": 0,
              "ticks": ""
             }
            },
            "type": "scattergl"
           }
          ],
          "scattermap": [
           {
            "marker": {
             "colorbar": {
              "outlinewidth": 0,
              "ticks": ""
             }
            },
            "type": "scattermap"
           }
          ],
          "scattermapbox": [
           {
            "marker": {
             "colorbar": {
              "outlinewidth": 0,
              "ticks": ""
             }
            },
            "type": "scattermapbox"
           }
          ],
          "scatterpolar": [
           {
            "marker": {
             "colorbar": {
              "outlinewidth": 0,
              "ticks": ""
             }
            },
            "type": "scatterpolar"
           }
          ],
          "scatterpolargl": [
           {
            "marker": {
             "colorbar": {
              "outlinewidth": 0,
              "ticks": ""
             }
            },
            "type": "scatterpolargl"
           }
          ],
          "scatterternary": [
           {
            "marker": {
             "colorbar": {
              "outlinewidth": 0,
              "ticks": ""
             }
            },
            "type": "scatterternary"
           }
          ],
          "surface": [
           {
            "colorbar": {
             "outlinewidth": 0,
             "ticks": ""
            },
            "colorscale": [
             [
              0,
              "#0d0887"
             ],
             [
              0.1111111111111111,
              "#46039f"
             ],
             [
              0.2222222222222222,
              "#7201a8"
             ],
             [
              0.3333333333333333,
              "#9c179e"
             ],
             [
              0.4444444444444444,
              "#bd3786"
             ],
             [
              0.5555555555555556,
              "#d8576b"
             ],
             [
              0.6666666666666666,
              "#ed7953"
             ],
             [
              0.7777777777777778,
              "#fb9f3a"
             ],
             [
              0.8888888888888888,
              "#fdca26"
             ],
             [
              1,
              "#f0f921"
             ]
            ],
            "type": "surface"
           }
          ],
          "table": [
           {
            "cells": {
             "fill": {
              "color": "#EBF0F8"
             },
             "line": {
              "color": "white"
             }
            },
            "header": {
             "fill": {
              "color": "#C8D4E3"
             },
             "line": {
              "color": "white"
             }
            },
            "type": "table"
           }
          ]
         },
         "layout": {
          "annotationdefaults": {
           "arrowcolor": "#2a3f5f",
           "arrowhead": 0,
           "arrowwidth": 1
          },
          "autotypenumbers": "strict",
          "coloraxis": {
           "colorbar": {
            "outlinewidth": 0,
            "ticks": ""
           }
          },
          "colorscale": {
           "diverging": [
            [
             0,
             "#8e0152"
            ],
            [
             0.1,
             "#c51b7d"
            ],
            [
             0.2,
             "#de77ae"
            ],
            [
             0.3,
             "#f1b6da"
            ],
            [
             0.4,
             "#fde0ef"
            ],
            [
             0.5,
             "#f7f7f7"
            ],
            [
             0.6,
             "#e6f5d0"
            ],
            [
             0.7,
             "#b8e186"
            ],
            [
             0.8,
             "#7fbc41"
            ],
            [
             0.9,
             "#4d9221"
            ],
            [
             1,
             "#276419"
            ]
           ],
           "sequential": [
            [
             0,
             "#0d0887"
            ],
            [
             0.1111111111111111,
             "#46039f"
            ],
            [
             0.2222222222222222,
             "#7201a8"
            ],
            [
             0.3333333333333333,
             "#9c179e"
            ],
            [
             0.4444444444444444,
             "#bd3786"
            ],
            [
             0.5555555555555556,
             "#d8576b"
            ],
            [
             0.6666666666666666,
             "#ed7953"
            ],
            [
             0.7777777777777778,
             "#fb9f3a"
            ],
            [
             0.8888888888888888,
             "#fdca26"
            ],
            [
             1,
             "#f0f921"
            ]
           ],
           "sequentialminus": [
            [
             0,
             "#0d0887"
            ],
            [
             0.1111111111111111,
             "#46039f"
            ],
            [
             0.2222222222222222,
             "#7201a8"
            ],
            [
             0.3333333333333333,
             "#9c179e"
            ],
            [
             0.4444444444444444,
             "#bd3786"
            ],
            [
             0.5555555555555556,
             "#d8576b"
            ],
            [
             0.6666666666666666,
             "#ed7953"
            ],
            [
             0.7777777777777778,
             "#fb9f3a"
            ],
            [
             0.8888888888888888,
             "#fdca26"
            ],
            [
             1,
             "#f0f921"
            ]
           ]
          },
          "colorway": [
           "#636efa",
           "#EF553B",
           "#00cc96",
           "#ab63fa",
           "#FFA15A",
           "#19d3f3",
           "#FF6692",
           "#B6E880",
           "#FF97FF",
           "#FECB52"
          ],
          "font": {
           "color": "#2a3f5f"
          },
          "geo": {
           "bgcolor": "white",
           "lakecolor": "white",
           "landcolor": "#E5ECF6",
           "showlakes": true,
           "showland": true,
           "subunitcolor": "white"
          },
          "hoverlabel": {
           "align": "left"
          },
          "hovermode": "closest",
          "mapbox": {
           "style": "light"
          },
          "paper_bgcolor": "white",
          "plot_bgcolor": "#E5ECF6",
          "polar": {
           "angularaxis": {
            "gridcolor": "white",
            "linecolor": "white",
            "ticks": ""
           },
           "bgcolor": "#E5ECF6",
           "radialaxis": {
            "gridcolor": "white",
            "linecolor": "white",
            "ticks": ""
           }
          },
          "scene": {
           "xaxis": {
            "backgroundcolor": "#E5ECF6",
            "gridcolor": "white",
            "gridwidth": 2,
            "linecolor": "white",
            "showbackground": true,
            "ticks": "",
            "zerolinecolor": "white"
           },
           "yaxis": {
            "backgroundcolor": "#E5ECF6",
            "gridcolor": "white",
            "gridwidth": 2,
            "linecolor": "white",
            "showbackground": true,
            "ticks": "",
            "zerolinecolor": "white"
           },
           "zaxis": {
            "backgroundcolor": "#E5ECF6",
            "gridcolor": "white",
            "gridwidth": 2,
            "linecolor": "white",
            "showbackground": true,
            "ticks": "",
            "zerolinecolor": "white"
           }
          },
          "shapedefaults": {
           "line": {
            "color": "#2a3f5f"
           }
          },
          "ternary": {
           "aaxis": {
            "gridcolor": "white",
            "linecolor": "white",
            "ticks": ""
           },
           "baxis": {
            "gridcolor": "white",
            "linecolor": "white",
            "ticks": ""
           },
           "bgcolor": "#E5ECF6",
           "caxis": {
            "gridcolor": "white",
            "linecolor": "white",
            "ticks": ""
           }
          },
          "title": {
           "x": 0.05
          },
          "xaxis": {
           "automargin": true,
           "gridcolor": "white",
           "linecolor": "white",
           "ticks": "",
           "title": {
            "standoff": 15
           },
           "zerolinecolor": "white",
           "zerolinewidth": 2
          },
          "yaxis": {
           "automargin": true,
           "gridcolor": "white",
           "linecolor": "white",
           "ticks": "",
           "title": {
            "standoff": 15
           },
           "zerolinecolor": "white",
           "zerolinewidth": 2
          }
         }
        },
        "title": {
         "text": "Sentiment Analysis Distribution",
         "x": 0.5
        }
       }
      }
     },
     "metadata": {},
     "output_type": "display_data"
    }
   ],
   "source": [
    "labels = list(sentiment_result.keys())  # ['NEGATIVE', 'POSITIVE']\n",
    "values = list(sentiment_result.values())  # [39, 23]\n",
    "\n",
    "fig = px.pie(\n",
    "    names=labels, \n",
    "    values=values, \n",
    "    title=\"Sentiment Analysis Distribution\",\n",
    "    color=labels,\n",
    "    color_discrete_map={\"NEGATIVE\": \"red\", \"POSITIVE\": \"green\"}\n",
    ")\n",
    "\n",
    "fig.update_traces(textinfo=\"percent+label\")\n",
    "fig.update_layout(\n",
    "    title_x=0.5,  # 标题居中\n",
    "    showlegend=False  # 隐藏侧边图例\n",
    ")\n",
    "\n",
    "fig.show()"
   ]
  },
  {
   "cell_type": "markdown",
   "metadata": {},
   "source": [
    "### 2023"
   ]
  },
  {
   "cell_type": "code",
   "execution_count": 15,
   "metadata": {},
   "outputs": [],
   "source": [
    "def get_2023_megathread_ids():\n",
    "    reddit = praw.Reddit(\n",
    "        client_id=\"Pb_1-TscU4Aza0JxUKT_KA\",\n",
    "        client_secret=\"NO-4Zv8W-Jun6cEEWpUpCkVX7Wq9gg\",\n",
    "        user_agent=\"Mozilla/5.0\"\n",
    "    )\n",
    "\n",
    "    subreddit = reddit.subreddit(\"jobs\")\n",
    "    search_query = \"megathread\"\n",
    "\n",
    "    start_of_last_year = int(datetime(2023, 1, 1, tzinfo=timezone.utc).timestamp())\n",
    "    end_of_last_year = int(datetime(2023, 12, 31, 23, 59, 59, tzinfo=timezone.utc).timestamp())\n",
    "\n",
    "    post_ids = []\n",
    "\n",
    "    for submission in subreddit.search(search_query, sort=\"new\", limit=100):\n",
    "        post_time = int(submission.created_utc)  # 确保转换为整数\n",
    "        \n",
    "        if start_of_last_year <= post_time <= end_of_last_year:\n",
    "            post_ids.append(submission.id)\n",
    "\n",
    "    return post_ids"
   ]
  },
  {
   "cell_type": "code",
   "execution_count": 16,
   "metadata": {},
   "outputs": [
    {
     "name": "stdout",
     "output_type": "stream",
     "text": [
      "['18q72my', '18kv3vu', '18fh64e', '18a780h', '184p0y6', '17zayv1', '17txnke', '17opm2v', '17jgdjs', '17e5umu', '178rkxd', '173clz4', '16xfv9i', '16rblwu', '16lexpu', '16feo1o', '169b5fo', '1635053', '15wpuxj', '15qd2s9', '15k3dew', '15dz9yu', '157t47o', '151kgd6', '14vcn6c', '14p1yio', '14j0594', '14cxvd2', '140tome', '13uds3o', '13o963r', '13hq6wx', '13b5xqb', '1345p0i', '12wtmc4', '12osgn9', '12gywx2']\n"
     ]
    }
   ],
   "source": [
    "megathread_ids_2023 = get_2023_megathread_ids()\n",
    "print(megathread_ids_2023)"
   ]
  },
  {
   "cell_type": "code",
   "execution_count": 17,
   "metadata": {},
   "outputs": [
    {
     "name": "stderr",
     "output_type": "stream",
     "text": [
      "Processing posts:   0%|          | 0/37 [00:00<?, ?post/s]Device set to use mps:0\n",
      "Processing posts:   3%|▎         | 1/37 [00:00<00:32,  1.12post/s]Device set to use mps:0\n",
      "Processing posts:   5%|▌         | 2/37 [00:02<00:41,  1.19s/post]Device set to use mps:0\n",
      "Processing posts:   8%|▊         | 3/37 [00:03<00:45,  1.34s/post]Device set to use mps:0\n",
      "Processing posts:  11%|█         | 4/37 [00:04<00:42,  1.27s/post]Device set to use mps:0\n",
      "Processing posts:  14%|█▎        | 5/37 [00:06<00:42,  1.34s/post]Device set to use mps:0\n",
      "Processing posts:  16%|█▌        | 6/37 [00:07<00:39,  1.28s/post]Device set to use mps:0\n",
      "Processing posts:  19%|█▉        | 7/37 [00:09<00:41,  1.39s/post]Device set to use mps:0\n",
      "Processing posts:  22%|██▏       | 8/37 [00:10<00:39,  1.36s/post]Device set to use mps:0\n",
      "Processing posts:  24%|██▍       | 9/37 [00:12<00:39,  1.41s/post]Device set to use mps:0\n",
      "Processing posts:  27%|██▋       | 10/37 [00:13<00:36,  1.36s/post]Device set to use mps:0\n",
      "Processing posts:  30%|██▉       | 11/37 [00:14<00:35,  1.38s/post]Device set to use mps:0\n",
      "Processing posts:  32%|███▏      | 12/37 [00:16<00:34,  1.38s/post]Device set to use mps:0\n",
      "Processing posts:  35%|███▌      | 13/37 [00:17<00:32,  1.37s/post]Device set to use mps:0\n",
      "Processing posts:  38%|███▊      | 14/37 [00:18<00:31,  1.37s/post]Device set to use mps:0\n",
      "Processing posts:  41%|████      | 15/37 [00:20<00:29,  1.35s/post]Device set to use mps:0\n",
      "Processing posts:  43%|████▎     | 16/37 [00:21<00:29,  1.39s/post]Device set to use mps:0\n",
      "Processing posts:  46%|████▌     | 17/37 [00:23<00:29,  1.48s/post]Device set to use mps:0\n",
      "Processing posts:  49%|████▊     | 18/37 [00:24<00:26,  1.42s/post]Device set to use mps:0\n",
      "Processing posts:  51%|█████▏    | 19/37 [00:26<00:26,  1.47s/post]Device set to use mps:0\n",
      "Processing posts:  54%|█████▍    | 20/37 [00:27<00:24,  1.44s/post]Device set to use mps:0\n",
      "Processing posts:  57%|█████▋    | 21/37 [00:28<00:21,  1.36s/post]Device set to use mps:0\n",
      "Processing posts:  59%|█████▉    | 22/37 [00:30<00:20,  1.37s/post]Device set to use mps:0\n",
      "Processing posts:  62%|██████▏   | 23/37 [00:31<00:17,  1.28s/post]Device set to use mps:0\n",
      "Processing posts:  65%|██████▍   | 24/37 [00:32<00:17,  1.36s/post]Device set to use mps:0\n",
      "Processing posts:  68%|██████▊   | 25/37 [00:34<00:16,  1.39s/post]Device set to use mps:0\n",
      "Processing posts:  70%|███████   | 26/37 [00:35<00:15,  1.43s/post]Device set to use mps:0\n",
      "Processing posts:  73%|███████▎  | 27/37 [00:36<00:12,  1.30s/post]Device set to use mps:0\n",
      "Processing posts:  76%|███████▌  | 28/37 [00:37<00:11,  1.31s/post]Device set to use mps:0\n",
      "Processing posts:  78%|███████▊  | 29/37 [00:39<00:10,  1.36s/post]Device set to use mps:0\n",
      "Processing posts:  81%|████████  | 30/37 [00:41<00:11,  1.59s/post]Device set to use mps:0\n",
      "Processing posts:  84%|████████▍ | 31/37 [00:43<00:09,  1.60s/post]Device set to use mps:0\n",
      "Processing posts:  86%|████████▋ | 32/37 [00:44<00:07,  1.56s/post]Device set to use mps:0\n",
      "Processing posts:  89%|████████▉ | 33/37 [00:46<00:06,  1.62s/post]Device set to use mps:0\n",
      "Processing posts:  92%|█████████▏| 34/37 [00:47<00:04,  1.55s/post]Device set to use mps:0\n",
      "Processing posts:  95%|█████████▍| 35/37 [00:49<00:02,  1.47s/post]Device set to use mps:0\n",
      "Processing posts:  97%|█████████▋| 36/37 [00:50<00:01,  1.38s/post]Device set to use mps:0\n",
      "Processing posts: 100%|██████████| 37/37 [00:51<00:00,  1.40s/post]\n"
     ]
    },
    {
     "data": {
      "text/plain": [
       "Counter({'NEGATIVE': 959, 'POSITIVE': 446})"
      ]
     },
     "execution_count": 17,
     "metadata": {},
     "output_type": "execute_result"
    }
   ],
   "source": [
    "sentiment_result = aggregate_sentiments(megathread_ids_2023)\n",
    "sentiment_result"
   ]
  },
  {
   "cell_type": "code",
   "execution_count": 18,
   "metadata": {},
   "outputs": [
    {
     "data": {
      "application/vnd.plotly.v1+json": {
       "config": {
        "plotlyServerURL": "https://plot.ly"
       },
       "data": [
        {
         "customdata": [
          [
           "NEGATIVE"
          ],
          [
           "POSITIVE"
          ]
         ],
         "domain": {
          "x": [
           0,
           1
          ],
          "y": [
           0,
           1
          ]
         },
         "hovertemplate": "label=%{label}<br>value=%{value}<br>color=%{customdata[0]}<extra></extra>",
         "labels": [
          "NEGATIVE",
          "POSITIVE"
         ],
         "legendgroup": "",
         "marker": {
          "colors": [
           "red",
           "green"
          ]
         },
         "name": "",
         "showlegend": true,
         "textinfo": "percent+label",
         "type": "pie",
         "values": {
          "bdata": "vwO+AQ==",
          "dtype": "i2"
         }
        }
       ],
       "layout": {
        "legend": {
         "tracegroupgap": 0
        },
        "showlegend": false,
        "template": {
         "data": {
          "bar": [
           {
            "error_x": {
             "color": "#2a3f5f"
            },
            "error_y": {
             "color": "#2a3f5f"
            },
            "marker": {
             "line": {
              "color": "#E5ECF6",
              "width": 0.5
             },
             "pattern": {
              "fillmode": "overlay",
              "size": 10,
              "solidity": 0.2
             }
            },
            "type": "bar"
           }
          ],
          "barpolar": [
           {
            "marker": {
             "line": {
              "color": "#E5ECF6",
              "width": 0.5
             },
             "pattern": {
              "fillmode": "overlay",
              "size": 10,
              "solidity": 0.2
             }
            },
            "type": "barpolar"
           }
          ],
          "carpet": [
           {
            "aaxis": {
             "endlinecolor": "#2a3f5f",
             "gridcolor": "white",
             "linecolor": "white",
             "minorgridcolor": "white",
             "startlinecolor": "#2a3f5f"
            },
            "baxis": {
             "endlinecolor": "#2a3f5f",
             "gridcolor": "white",
             "linecolor": "white",
             "minorgridcolor": "white",
             "startlinecolor": "#2a3f5f"
            },
            "type": "carpet"
           }
          ],
          "choropleth": [
           {
            "colorbar": {
             "outlinewidth": 0,
             "ticks": ""
            },
            "type": "choropleth"
           }
          ],
          "contour": [
           {
            "colorbar": {
             "outlinewidth": 0,
             "ticks": ""
            },
            "colorscale": [
             [
              0,
              "#0d0887"
             ],
             [
              0.1111111111111111,
              "#46039f"
             ],
             [
              0.2222222222222222,
              "#7201a8"
             ],
             [
              0.3333333333333333,
              "#9c179e"
             ],
             [
              0.4444444444444444,
              "#bd3786"
             ],
             [
              0.5555555555555556,
              "#d8576b"
             ],
             [
              0.6666666666666666,
              "#ed7953"
             ],
             [
              0.7777777777777778,
              "#fb9f3a"
             ],
             [
              0.8888888888888888,
              "#fdca26"
             ],
             [
              1,
              "#f0f921"
             ]
            ],
            "type": "contour"
           }
          ],
          "contourcarpet": [
           {
            "colorbar": {
             "outlinewidth": 0,
             "ticks": ""
            },
            "type": "contourcarpet"
           }
          ],
          "heatmap": [
           {
            "colorbar": {
             "outlinewidth": 0,
             "ticks": ""
            },
            "colorscale": [
             [
              0,
              "#0d0887"
             ],
             [
              0.1111111111111111,
              "#46039f"
             ],
             [
              0.2222222222222222,
              "#7201a8"
             ],
             [
              0.3333333333333333,
              "#9c179e"
             ],
             [
              0.4444444444444444,
              "#bd3786"
             ],
             [
              0.5555555555555556,
              "#d8576b"
             ],
             [
              0.6666666666666666,
              "#ed7953"
             ],
             [
              0.7777777777777778,
              "#fb9f3a"
             ],
             [
              0.8888888888888888,
              "#fdca26"
             ],
             [
              1,
              "#f0f921"
             ]
            ],
            "type": "heatmap"
           }
          ],
          "histogram": [
           {
            "marker": {
             "pattern": {
              "fillmode": "overlay",
              "size": 10,
              "solidity": 0.2
             }
            },
            "type": "histogram"
           }
          ],
          "histogram2d": [
           {
            "colorbar": {
             "outlinewidth": 0,
             "ticks": ""
            },
            "colorscale": [
             [
              0,
              "#0d0887"
             ],
             [
              0.1111111111111111,
              "#46039f"
             ],
             [
              0.2222222222222222,
              "#7201a8"
             ],
             [
              0.3333333333333333,
              "#9c179e"
             ],
             [
              0.4444444444444444,
              "#bd3786"
             ],
             [
              0.5555555555555556,
              "#d8576b"
             ],
             [
              0.6666666666666666,
              "#ed7953"
             ],
             [
              0.7777777777777778,
              "#fb9f3a"
             ],
             [
              0.8888888888888888,
              "#fdca26"
             ],
             [
              1,
              "#f0f921"
             ]
            ],
            "type": "histogram2d"
           }
          ],
          "histogram2dcontour": [
           {
            "colorbar": {
             "outlinewidth": 0,
             "ticks": ""
            },
            "colorscale": [
             [
              0,
              "#0d0887"
             ],
             [
              0.1111111111111111,
              "#46039f"
             ],
             [
              0.2222222222222222,
              "#7201a8"
             ],
             [
              0.3333333333333333,
              "#9c179e"
             ],
             [
              0.4444444444444444,
              "#bd3786"
             ],
             [
              0.5555555555555556,
              "#d8576b"
             ],
             [
              0.6666666666666666,
              "#ed7953"
             ],
             [
              0.7777777777777778,
              "#fb9f3a"
             ],
             [
              0.8888888888888888,
              "#fdca26"
             ],
             [
              1,
              "#f0f921"
             ]
            ],
            "type": "histogram2dcontour"
           }
          ],
          "mesh3d": [
           {
            "colorbar": {
             "outlinewidth": 0,
             "ticks": ""
            },
            "type": "mesh3d"
           }
          ],
          "parcoords": [
           {
            "line": {
             "colorbar": {
              "outlinewidth": 0,
              "ticks": ""
             }
            },
            "type": "parcoords"
           }
          ],
          "pie": [
           {
            "automargin": true,
            "type": "pie"
           }
          ],
          "scatter": [
           {
            "fillpattern": {
             "fillmode": "overlay",
             "size": 10,
             "solidity": 0.2
            },
            "type": "scatter"
           }
          ],
          "scatter3d": [
           {
            "line": {
             "colorbar": {
              "outlinewidth": 0,
              "ticks": ""
             }
            },
            "marker": {
             "colorbar": {
              "outlinewidth": 0,
              "ticks": ""
             }
            },
            "type": "scatter3d"
           }
          ],
          "scattercarpet": [
           {
            "marker": {
             "colorbar": {
              "outlinewidth": 0,
              "ticks": ""
             }
            },
            "type": "scattercarpet"
           }
          ],
          "scattergeo": [
           {
            "marker": {
             "colorbar": {
              "outlinewidth": 0,
              "ticks": ""
             }
            },
            "type": "scattergeo"
           }
          ],
          "scattergl": [
           {
            "marker": {
             "colorbar": {
              "outlinewidth": 0,
              "ticks": ""
             }
            },
            "type": "scattergl"
           }
          ],
          "scattermap": [
           {
            "marker": {
             "colorbar": {
              "outlinewidth": 0,
              "ticks": ""
             }
            },
            "type": "scattermap"
           }
          ],
          "scattermapbox": [
           {
            "marker": {
             "colorbar": {
              "outlinewidth": 0,
              "ticks": ""
             }
            },
            "type": "scattermapbox"
           }
          ],
          "scatterpolar": [
           {
            "marker": {
             "colorbar": {
              "outlinewidth": 0,
              "ticks": ""
             }
            },
            "type": "scatterpolar"
           }
          ],
          "scatterpolargl": [
           {
            "marker": {
             "colorbar": {
              "outlinewidth": 0,
              "ticks": ""
             }
            },
            "type": "scatterpolargl"
           }
          ],
          "scatterternary": [
           {
            "marker": {
             "colorbar": {
              "outlinewidth": 0,
              "ticks": ""
             }
            },
            "type": "scatterternary"
           }
          ],
          "surface": [
           {
            "colorbar": {
             "outlinewidth": 0,
             "ticks": ""
            },
            "colorscale": [
             [
              0,
              "#0d0887"
             ],
             [
              0.1111111111111111,
              "#46039f"
             ],
             [
              0.2222222222222222,
              "#7201a8"
             ],
             [
              0.3333333333333333,
              "#9c179e"
             ],
             [
              0.4444444444444444,
              "#bd3786"
             ],
             [
              0.5555555555555556,
              "#d8576b"
             ],
             [
              0.6666666666666666,
              "#ed7953"
             ],
             [
              0.7777777777777778,
              "#fb9f3a"
             ],
             [
              0.8888888888888888,
              "#fdca26"
             ],
             [
              1,
              "#f0f921"
             ]
            ],
            "type": "surface"
           }
          ],
          "table": [
           {
            "cells": {
             "fill": {
              "color": "#EBF0F8"
             },
             "line": {
              "color": "white"
             }
            },
            "header": {
             "fill": {
              "color": "#C8D4E3"
             },
             "line": {
              "color": "white"
             }
            },
            "type": "table"
           }
          ]
         },
         "layout": {
          "annotationdefaults": {
           "arrowcolor": "#2a3f5f",
           "arrowhead": 0,
           "arrowwidth": 1
          },
          "autotypenumbers": "strict",
          "coloraxis": {
           "colorbar": {
            "outlinewidth": 0,
            "ticks": ""
           }
          },
          "colorscale": {
           "diverging": [
            [
             0,
             "#8e0152"
            ],
            [
             0.1,
             "#c51b7d"
            ],
            [
             0.2,
             "#de77ae"
            ],
            [
             0.3,
             "#f1b6da"
            ],
            [
             0.4,
             "#fde0ef"
            ],
            [
             0.5,
             "#f7f7f7"
            ],
            [
             0.6,
             "#e6f5d0"
            ],
            [
             0.7,
             "#b8e186"
            ],
            [
             0.8,
             "#7fbc41"
            ],
            [
             0.9,
             "#4d9221"
            ],
            [
             1,
             "#276419"
            ]
           ],
           "sequential": [
            [
             0,
             "#0d0887"
            ],
            [
             0.1111111111111111,
             "#46039f"
            ],
            [
             0.2222222222222222,
             "#7201a8"
            ],
            [
             0.3333333333333333,
             "#9c179e"
            ],
            [
             0.4444444444444444,
             "#bd3786"
            ],
            [
             0.5555555555555556,
             "#d8576b"
            ],
            [
             0.6666666666666666,
             "#ed7953"
            ],
            [
             0.7777777777777778,
             "#fb9f3a"
            ],
            [
             0.8888888888888888,
             "#fdca26"
            ],
            [
             1,
             "#f0f921"
            ]
           ],
           "sequentialminus": [
            [
             0,
             "#0d0887"
            ],
            [
             0.1111111111111111,
             "#46039f"
            ],
            [
             0.2222222222222222,
             "#7201a8"
            ],
            [
             0.3333333333333333,
             "#9c179e"
            ],
            [
             0.4444444444444444,
             "#bd3786"
            ],
            [
             0.5555555555555556,
             "#d8576b"
            ],
            [
             0.6666666666666666,
             "#ed7953"
            ],
            [
             0.7777777777777778,
             "#fb9f3a"
            ],
            [
             0.8888888888888888,
             "#fdca26"
            ],
            [
             1,
             "#f0f921"
            ]
           ]
          },
          "colorway": [
           "#636efa",
           "#EF553B",
           "#00cc96",
           "#ab63fa",
           "#FFA15A",
           "#19d3f3",
           "#FF6692",
           "#B6E880",
           "#FF97FF",
           "#FECB52"
          ],
          "font": {
           "color": "#2a3f5f"
          },
          "geo": {
           "bgcolor": "white",
           "lakecolor": "white",
           "landcolor": "#E5ECF6",
           "showlakes": true,
           "showland": true,
           "subunitcolor": "white"
          },
          "hoverlabel": {
           "align": "left"
          },
          "hovermode": "closest",
          "mapbox": {
           "style": "light"
          },
          "paper_bgcolor": "white",
          "plot_bgcolor": "#E5ECF6",
          "polar": {
           "angularaxis": {
            "gridcolor": "white",
            "linecolor": "white",
            "ticks": ""
           },
           "bgcolor": "#E5ECF6",
           "radialaxis": {
            "gridcolor": "white",
            "linecolor": "white",
            "ticks": ""
           }
          },
          "scene": {
           "xaxis": {
            "backgroundcolor": "#E5ECF6",
            "gridcolor": "white",
            "gridwidth": 2,
            "linecolor": "white",
            "showbackground": true,
            "ticks": "",
            "zerolinecolor": "white"
           },
           "yaxis": {
            "backgroundcolor": "#E5ECF6",
            "gridcolor": "white",
            "gridwidth": 2,
            "linecolor": "white",
            "showbackground": true,
            "ticks": "",
            "zerolinecolor": "white"
           },
           "zaxis": {
            "backgroundcolor": "#E5ECF6",
            "gridcolor": "white",
            "gridwidth": 2,
            "linecolor": "white",
            "showbackground": true,
            "ticks": "",
            "zerolinecolor": "white"
           }
          },
          "shapedefaults": {
           "line": {
            "color": "#2a3f5f"
           }
          },
          "ternary": {
           "aaxis": {
            "gridcolor": "white",
            "linecolor": "white",
            "ticks": ""
           },
           "baxis": {
            "gridcolor": "white",
            "linecolor": "white",
            "ticks": ""
           },
           "bgcolor": "#E5ECF6",
           "caxis": {
            "gridcolor": "white",
            "linecolor": "white",
            "ticks": ""
           }
          },
          "title": {
           "x": 0.05
          },
          "xaxis": {
           "automargin": true,
           "gridcolor": "white",
           "linecolor": "white",
           "ticks": "",
           "title": {
            "standoff": 15
           },
           "zerolinecolor": "white",
           "zerolinewidth": 2
          },
          "yaxis": {
           "automargin": true,
           "gridcolor": "white",
           "linecolor": "white",
           "ticks": "",
           "title": {
            "standoff": 15
           },
           "zerolinecolor": "white",
           "zerolinewidth": 2
          }
         }
        },
        "title": {
         "text": "Sentiment Analysis Distribution",
         "x": 0.5
        }
       }
      }
     },
     "metadata": {},
     "output_type": "display_data"
    }
   ],
   "source": [
    "labels = list(sentiment_result.keys())  # ['NEGATIVE', 'POSITIVE']\n",
    "values = list(sentiment_result.values())  # [39, 23]\n",
    "\n",
    "fig = px.pie(\n",
    "    names=labels, \n",
    "    values=values, \n",
    "    title=\"Sentiment Analysis Distribution\",\n",
    "    color=labels,\n",
    "    color_discrete_map={\"NEGATIVE\": \"red\", \"POSITIVE\": \"green\"}\n",
    ")\n",
    "\n",
    "fig.update_traces(textinfo=\"percent+label\")\n",
    "fig.update_layout(\n",
    "    title_x=0.5,  # 标题居中\n",
    "    showlegend=False  # 隐藏侧边图例\n",
    ")\n",
    "\n",
    "fig.show()"
   ]
  },
  {
   "cell_type": "code",
   "execution_count": null,
   "metadata": {},
   "outputs": [],
   "source": []
  },
  {
   "cell_type": "code",
   "execution_count": null,
   "metadata": {},
   "outputs": [],
   "source": []
  }
 ],
 "metadata": {
  "kernelspec": {
   "display_name": "sta220",
   "language": "python",
   "name": "python3"
  },
  "language_info": {
   "codemirror_mode": {
    "name": "ipython",
    "version": 3
   },
   "file_extension": ".py",
   "mimetype": "text/x-python",
   "name": "python",
   "nbconvert_exporter": "python",
   "pygments_lexer": "ipython3",
   "version": "3.11.11"
  }
 },
 "nbformat": 4,
 "nbformat_minor": 2
}
