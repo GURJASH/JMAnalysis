{
  "cells": [
    {
      "cell_type": "code",
      "execution_count": null,
      "metadata": {},
      "outputs": [],
      "source": [
        "import os\n",
        "packages = [\"cloudscraper\", \"dash\",\"gensim\",\"sumy\",\"pyLDAvis\",\"nltk\"]\n",
        "for package in packages:\n",
        "    os.system(f\"pip install {package} -q\")\n",
        "    \n",
        "import nltk\n",
        "nltk.download('punkt_tab', quiet=True)\n",
        "nltk.download('wordnet', quiet=True)    "
      ]
    },
    {
      "cell_type": "code",
      "execution_count": null,
      "metadata": {
        "id": "8DMLfYhswgqP"
      },
      "outputs": [],
      "source": [
        "import re\n",
        "import random\n",
        "import requests\n",
        "import json\n",
        "import torch\n",
        "import pandas as pd\n",
        "import seaborn as sns\n",
        "from collections import Counter\n",
        "from collections import defaultdict\n",
        "import cloudscraper\n",
        "import dash\n",
        "from dash import dcc, html, dash_table, Input, Output\n",
        "import matplotlib.pyplot as plt\n",
        "from nltk.stem import WordNetLemmatizer\n",
        "import pyLDAvis\n",
        "import pyLDAvis.gensim\n",
        "import gensim\n",
        "import gensim.corpora as corpora\n",
        "from nltk.tokenize import word_tokenize"
      ]
    },
    {
      "cell_type": "code",
      "execution_count": null,
      "metadata": {},
      "outputs": [],
      "source": [
        "file_path = \"parsed_data.json\"\n",
        "with open(file_path, \"r\", encoding=\"utf-8\") as file:\n",
        "    data = json.load(file)\n",
        "\n",
        "businessinsider_entries = []\n",
        "calcalistech_entries = []\n",
        "cnbc_entries = []\n",
        "geekwire_entries = []\n",
        "techcrunch_entries = []\n",
        "\n",
        "for entry in data:\n",
        "    source = entry.get(\"Source\", \"\")\n",
        "    if source.startswith(\"https://www.businessinsider.com\"):\n",
        "        businessinsider_entries.append(entry)\n",
        "    elif source.startswith(\"https://www.calcalistech.com\"):\n",
        "        calcalistech_entries.append(entry)\n",
        "    elif source.startswith(\"https://www.cnbc.com\"):\n",
        "        cnbc_entries.append(entry)\n",
        "    elif source.startswith(\"https://www.geekwire.com\"):\n",
        "        geekwire_entries.append(entry)\n",
        "    elif source.startswith(\"https://techcrunch.com\"):\n",
        "        techcrunch_entries.append(entry)"
      ]
    },
    {
      "cell_type": "markdown",
      "metadata": {},
      "source": [
        "**Scraping for [www.businessinsider.com](www.businessinsider.com)**"
      ]
    },
    {
      "cell_type": "code",
      "execution_count": null,
      "metadata": {},
      "outputs": [],
      "source": [
        "def extract_businessinsider(url):\n",
        "    response = requests.get(url)\n",
        "    html_content = \" \".join(response.text.split())\n",
        "    pattern = r'<div> <section class=\"post-content typography \" data-track-content=\"\" data-post-type=\"post\" data-user-status=\"anonymous\" >(.*?)</section> </div>'\n",
        "    matches = re.findall(pattern, html_content, re.DOTALL)\n",
        "\n",
        "    extracted_content = matches[0].strip() if matches else \"\"\n",
        "    cleaned_content = re.sub(r'(?s)<(script|style).*?>.*?</\\1>|<!--.*?-->', '', extracted_content)\n",
        "    cleaned_content = re.sub(r'<[^>]+>', '', cleaned_content)\n",
        "    cleaned_content = re.sub(r'\\s+', ' ', cleaned_content).strip()\n",
        "\n",
        "    return cleaned_content\n",
        "\n",
        "for entry in businessinsider_entries:\n",
        "    entry[\"Extracted Article\"] = extract_businessinsider(entry[\"Source\"])\n",
        "\n",
        "filtered_file_path = \"../data/News_Articles_json/BI.json\"\n",
        "with open(filtered_file_path, \"w\", encoding=\"utf-8\") as file:\n",
        "    json.dump(businessinsider_entries, file, indent=4)"
      ]
    },
    {
      "cell_type": "code",
      "execution_count": null,
      "metadata": {},
      "outputs": [
        {
          "name": "stdout",
          "output_type": "stream",
          "text": [
            "SAMPLE\n",
            "\n",
            "Company: Microsoft\n",
            "\n",
            "Article: Microsoft is planning job cuts targeting underperforming employees.The reductions are happening across the company, including in its important security division.Performance-based cuts are often backfilled by Microsoft, so its total head count may not change much.Microsoft is planning job cuts soon, and the company is taking a harder look at underperforming employees as part of the reductions, according to two people familiar with the plans. A Microsoft spokesperson confirmed cuts but declined to share details on the number of employees being let go.\"At Microsoft we focus on high performance talent,\" the spokesperson said. \"We are always working on helping people learn and grow. When people are not performing, we take the appropriate action.\" When people leave for performance reasons, Microsoft often backfills the roles, so there may be little change to the company's overall head count, the spokesperson added. At the end of June, Microsoft had roughly 228,000 full-time employees.Microsoft is taking a stronger stance on performance management like its competitors, the people familiar with the plans said, and managers at the company have spent the past few months evaluating employees all the way up to level 80, one of its highest levels. The people asked not to be identified discussing sensitive matters.The cuts are happening across the company, including in its important security division, the people said. Are you a Microsoft employee, or do you have insight to share? Contact the reporter Ashley Stewart via the encrypted messaging app Signal (+1-425-344-8242) or email (astewart@businessinsider.com). Use a nonwork device.\n",
            "\n"
          ]
        }
      ],
      "source": [
        "file_path = \"../data/News_Articles_json/BI.json\"\n",
        "with open(file_path, \"r\", encoding=\"utf-8\") as file:\n",
        "    data = json.load(file)\n",
        "\n",
        "random_entry = random.choice(data)\n",
        "\n",
        "print(\"SAMPLE\\n\")\n",
        "print(f\"Company: {random_entry.get('Company', 'N/A')}\\n\")\n",
        "print(f\"Article: {random_entry.get('Extracted Article', 'N/A')}\\n\")\n"
      ]
    },
    {
      "cell_type": "markdown",
      "metadata": {},
      "source": [
        "**Scraping for [www.calcalistech.com](www.calcalistech.com)**"
      ]
    },
    {
      "cell_type": "code",
      "execution_count": null,
      "metadata": {},
      "outputs": [],
      "source": [
        "def extract_calcalistech(url):\n",
        "    response = requests.get(url)\n",
        "    data = response.text\n",
        "    html_content = \" \".join(data.split())\n",
        "    article_pattern = r'{ \"@context\": \"http://schema.org\", \"@type\": \"NewsArticle\",(.*?), \"video\": \\[\\] } </script>'\n",
        "    article_match = re.search(article_pattern, html_content, re.DOTALL)\n",
        "\n",
        "    if article_match:\n",
        "        article_content = article_match.group(1)\n",
        "\n",
        "        headline_pattern = r'\"headline\":\\s*\"((?:\\\\.|[^\"\\\\])*)\"'\n",
        "        description_pattern = r'\"description\":\\s*\"((?:\\\\.|[^\"\\\\])*)\"'\n",
        "        article_body_pattern = r'\"articleBody\":\\s*\"((?:\\\\.|[^\"\\\\])*)\"'\n",
        "\n",
        "        headline_match = re.search(headline_pattern, article_content)\n",
        "        description_match = re.search(description_pattern, article_content)\n",
        "        article_body_match = re.search(article_body_pattern, article_content)\n",
        "\n",
        "        headline = headline_match.group(1) if headline_match else \"\"\n",
        "        description = description_match.group(1) if description_match else \"\"\n",
        "        article_body = article_body_match.group(1) if article_body_match else \"\"\n",
        "\n",
        "        full_content = f\"{headline}. {description} {article_body}\".strip()\n",
        "        return full_content\n",
        "    else:\n",
        "        return \"Content not found.\"\n",
        "\n",
        "for entry in calcalistech_entries:\n",
        "    entry[\"Extracted Article\"] = extract_calcalistech(entry[\"Source\"])\n",
        "\n",
        "filtered_file_path = \"../data/News_Articles_json/calcalistech.json\"\n",
        "with open(filtered_file_path, \"a\", encoding=\"utf-8\") as file:\n",
        "    json.dump(calcalistech_entries, file, indent=4)"
      ]
    },
    {
      "cell_type": "code",
      "execution_count": null,
      "metadata": {},
      "outputs": [
        {
          "name": "stdout",
          "output_type": "stream",
          "text": [
            "SAMPLE\n",
            "\n",
            "Company: Electriq Global\n",
            "\n",
            "Article: Hydrogen startup Electriq Global collapses under nearly $30M in debt, despite raising $25M. Employees turn to the court as the startup fails to pay salaries. Israeli startup Electriq Global has accumulated liabilities of approximately NIS 105 million ($29.4M), including debts to shareholders. On Thursday, the Haifa District Court, at the company's request and that of its employees, issued an order to freeze proceedings. The court also appointed Attorney Alona Baumgarten as the company's trustee to oversee its rehabilitation. Full list of Israeli high-tech layoffs in 2025 Founded in 2013, Electriq Global operates in the hydrogen sector and is developing a circular platform for the storage and release of hydrogen gas. This effort aligns with global initiatives to develop technologies that reduce greenhouse gas emissions and facilitate the transition to green energy. According to the company's application, its first planned product line is backup generators powered by solid hydrogen. While Electriq Global previously employed about 30 workers, its workforce has now been reduced to six. The company also operated a development center in Tirat Carmel and laboratories spanning approximately 1,200 square meters. Since its founding, Electriq Global has raised approximately $25 million in funding. In its court filing, the company cited financial difficulties stemming from stalled negotiations with a Dutch investor, who froze an investment of €25 million due to the security situation in Israel and the ongoing war. The request for court protection and rehabilitation was supported by an affidavit from director Baruch Halpert. The request for an order to initiate rehabilitation proceedings was submitted after 13 current and former employees, represented by Attorney Ofir Ronen, petitioned for a trustee to be appointed with the company's consent. They claimed that Electriq Global failed to pay salaries for January 2025 and could not fully cover February wages for both current and laid-off employees. Electriq Global said in a statement: “Following the employees' request to appoint a trustee and initiate proceedings, the company is working to formulate the best possible arrangement for both employees and suppliers. There is significant interest in the company’s technology, and we hope shareholders will support its continued operation to maximize its potential. The company will work to establish a debt settlement plan and will submit an application to the court in the coming days.”\n",
            "\n"
          ]
        }
      ],
      "source": [
        "file_path = \"../data/News_Articles_json/calcalistech.json\"\n",
        "with open(file_path, \"r\", encoding=\"utf-8\") as file:\n",
        "    data = json.load(file)\n",
        "\n",
        "random_entry = random.choice(data)\n",
        "\n",
        "print(\"SAMPLE\\n\")\n",
        "print(f\"Company: {random_entry.get('Company', 'N/A')}\\n\")\n",
        "print(f\"Article: {random_entry.get('Extracted Article', 'N/A')}\\n\")"
      ]
    },
    {
      "cell_type": "markdown",
      "metadata": {},
      "source": [
        "**Scraping for [www.cnbc.com](https://www.cnbc.com)**"
      ]
    },
    {
      "cell_type": "code",
      "execution_count": null,
      "metadata": {},
      "outputs": [],
      "source": [
        "def extract_cnbc(url):\n",
        "    headers = {\"User-Agent\": \"Mozilla/5.0 (Windows NT 10.0; Win64; x64) AppleWebKit/537.36 (KHTML, like Gecko) Chrome/120.0.0.0 Safari/537.36\"}\n",
        "    response = requests.get(url, headers=headers)\n",
        "    html_content = \" \".join(response.text.split())\n",
        "    pattern = r',\"articleBodyText\":\"(.*?)\",'\n",
        "    matches = re.findall(pattern, html_content, re.DOTALL)\n",
        "\n",
        "    for match in matches:\n",
        "        f_data = match.strip()\n",
        "        return f_data\n",
        "    return \"Content not found.\"\n",
        "\n",
        "for entry in cnbc_entries:\n",
        "    entry[\"Extracted Article\"] = extract_cnbc(entry[\"Source\"])\n",
        "\n",
        "filtered_file_path = \"../data/News_Articles_json/cnbc.json\"\n",
        "with open(filtered_file_path, \"a\", encoding=\"utf-8\") as file:\n",
        "    json.dump(cnbc_entries, file, indent=4)"
      ]
    },
    {
      "cell_type": "code",
      "execution_count": null,
      "metadata": {},
      "outputs": [
        {
          "name": "stdout",
          "output_type": "stream",
          "text": [
            "SAMPLE\n",
            "\n",
            "Company: Zoom\n",
            "\n",
            "Article: Zoom is cutting about 150 jobs, CNBC confirmed on Thursday, the latest tech company to slash headcount this year as investors continue to push for efficiency. The company confirmed the cuts amount to less than 2% of the company's workforce. \\\"We regularly evaluate our teams to ensure alignment with our strategy,\\\" a Zoom spokesperson told CNBC in a statement. \\\"As part of this effort, we are rescoping roles to add capabilities and continue to hire in critical areas for the future.\\\" Zoom said the layoffs are not companywide, and added that it will continue to hire for roles in artificial intelligence, sales, product and across operations in 2024. The cuts at Zoom were first reported by Bloomberg . As of Thursday, more than 100 tech companies have laid off about 30,000 employees to start the year, according to layoffs.fyi . January was the busiest month for job cuts in the industry since March. Last month, Microsoft cut 1,900 positions in its gaming division; Google said it's eliminating hundreds of roles across the company; and Amazon laid off employees across its Prime Video, MGM Studios, Twitch and Audible divisions. In addition to Zoom, cloud software vendor Okta announced a downsizing on Thursday, telling employees that it's laying off 400 staffers, or about 7% of its workforce. Zoom exploded in popularity at the start of the Covid-19 pandemic as workers turned to the video-conferencing platform to stay in touch with colleagues, friends and family. But as the pandemic subsided and many workers returned to in-person roles, Zoom's stock has stumbled. Zoom shares are down about 10% this year and have dropped almost 90% from their record high in October 2020. Last February, Zoom cut around 1,300 workers , or about 15% of its workforce, as the company braced for the \\\"uncertainty of the global economy,\\\" CEO Eric Yuan said at the time. The cuts in 2023 hit every organization across Zoom. WATCH: Recent tech layoffs isn't a moment where AI is replacing engineers Don't miss these stories from CNBC PRO: Forget the 'Magnificent 7,' these Nasdaq stocks are next in line to lead the rally, according to the charts Nvidia is now 'deeply overbought' and due for 'consolidation,' says chart analyst Eli Lilly's Zepbound is off to a strong start, but here's what needs to happen to push shares higher Investors are shifting into this type of bond fund at the fastest pace in three years\n",
            "\n"
          ]
        }
      ],
      "source": [
        "file_path = \"../data/News_Articles_json/cnbc.json\"\n",
        "with open(file_path, \"r\", encoding=\"utf-8\") as file:\n",
        "    data = json.load(file)\n",
        "\n",
        "random_entry = random.choice(data)\n",
        "\n",
        "print(\"SAMPLE\\n\")\n",
        "print(f\"Company: {random_entry.get('Company', 'N/A')}\\n\")\n",
        "print(f\"Article: {random_entry.get('Extracted Article', 'N/A')}\\n\")"
      ]
    },
    {
      "cell_type": "markdown",
      "metadata": {},
      "source": [
        "**Scraping for [https://www.geekwire.com](https://www.geekwire.com)**"
      ]
    },
    {
      "cell_type": "code",
      "execution_count": null,
      "metadata": {},
      "outputs": [],
      "source": [
        "def extract_geekwire(url):\n",
        "    scraper = cloudscraper.create_scraper()\n",
        "    response = scraper.get(url)\n",
        "    html_content = \" \".join(response.text.split())\n",
        "\n",
        "    pattern = r'</figcaption></figure>(.*?)</div> <footer data-nosnippet>'\n",
        "    matches = re.findall(pattern, html_content, re.DOTALL)\n",
        "\n",
        "    for match in matches:\n",
        "        f_data = match.strip()\n",
        "\n",
        "        extracted_content = f_data\n",
        "        cleaned_content = re.sub(r'(?s)<(script|style).*?>.*?</\\1>|<!--.*?-->', '', extracted_content)\n",
        "        cleaned_content = re.sub(r'<[^>]+>', '', cleaned_content)\n",
        "        cleaned_content = re.sub(r'\\s+', ' ', cleaned_content).strip()\n",
        "        return cleaned_content\n",
        "\n",
        "    return \"Content not found.\"\n",
        "\n",
        "for entry in geekwire_entries:\n",
        "    entry[\"Extracted Article\"] = extract_geekwire(entry[\"Source\"])\n",
        "\n",
        "filtered_file_path = \"../data/News_Articles_json/geekwire.json\"\n",
        "with open(filtered_file_path, \"a\", encoding=\"utf-8\") as file:\n",
        "    json.dump(geekwire_entries, file, indent=4)"
      ]
    },
    {
      "cell_type": "code",
      "execution_count": null,
      "metadata": {},
      "outputs": [
        {
          "name": "stdout",
          "output_type": "stream",
          "text": [
            "SAMPLE\n",
            "\n",
            "Company: RealSelf\n",
            "\n",
            "Article: RealSelf, the Seattle-based cosmetic treatment review platform, laid off 11 employees, or about 4.7% of its workforce this week. Chief Marketing Officer Hailey Sullivan told GeekWire that the company restructured its marketing and brands organization. “These changes will continue to support RealSelf’s strategy to deliver innovative value to our providers/specialists and industry brand partners, to expand geographically, and to evolve our platform to better serve our consumers,” Sullivan said in an emailed statement. “These decisions are always difficult and never taken lightly. We are grateful to our past employees and for their dedication to RealSelf’s brand purpose to empower every person to realize their most confident self.” LAYOFF TRACKER 2022: A regularly updated list of layoffs in Seattle and the Pacific Northwest. The startup cut 13% of its workforce, or about 40 employees, at the beginning of the year. Newly appointed CEO Jeff Kizilbash said in a statement at the time that to continue to achieve its growth objectives, RealSelf was “aligning resources and investments across our new global footprint.” Tech firms across various industries are laying off employees or freezing hiring as a way to curb expenses amid the current downturn. Seattle-area tech startups including Redfin, Convoy, Qumulo, Flyhomes and Esper have laid off employees in recent months. RealSelf operates a Yelp-like marketplace business that helps people learn more about cosmetic procedures including botox, Invisalign, breast augmentation, liposuction and more. Founded in 2006, the company has information, patient reviews and photos, treatment costs and ratings, and thousands of verified doctors on its platform. RealSelf saw its business impacted early in the pandemic but bounced back later in 2020. The company acquired two international cosmetic resource platforms last year: Your New Self and Tajmeeli.\n",
            "\n"
          ]
        }
      ],
      "source": [
        "file_path = \"../data/News_Articles_json/geekwire.json\"\n",
        "with open(file_path, \"r\", encoding=\"utf-8\") as file:\n",
        "    data = json.load(file)\n",
        "\n",
        "random_entry = random.choice(data)\n",
        "\n",
        "print(\"SAMPLE\\n\")\n",
        "print(f\"Company: {random_entry.get('Company', 'N/A')}\\n\")\n",
        "print(f\"Article: {random_entry.get('Extracted Article', 'N/A')}\\n\")"
      ]
    },
    {
      "cell_type": "markdown",
      "metadata": {},
      "source": [
        " **Scraping for [https://techcrunch.com](https://techcrunch.com)** "
      ]
    },
    {
      "cell_type": "code",
      "execution_count": null,
      "metadata": {},
      "outputs": [],
      "source": [
        "def extract_techcrunch(url):\n",
        "    response = requests.get(url)\n",
        "    html_content = \" \".join(response.text.split())\n",
        "    pattern = r'<main class=\"wp-block-group template-content is-layout-constrained wp-block-group-is-layout-constrained\">(.*?)<div class=\"wp-block-tc23-post-relevant-terms\">'\n",
        "    matches = re.findall(pattern, html_content, re.DOTALL)\n",
        "\n",
        "    extracted_content = matches[0].strip() if matches else \"\"\n",
        "    cleaned_content = re.sub(r'(?s)<(script|style).*?>.*?</\\1>|<!--.*?-->', '', extracted_content)\n",
        "    cleaned_content = re.sub(r'<[^>]+>', '', cleaned_content)\n",
        "    cleaned_content = re.sub(r'&#\\d+;', '', cleaned_content)\n",
        "    cleaned_content = re.sub(r'\\s+', ' ', cleaned_content).strip()\n",
        "    return cleaned_content\n",
        "\n",
        "for entry in techcrunch_entries:\n",
        "    entry[\"Extracted Article\"] = extract_techcrunch(entry[\"Source\"])\n",
        "\n",
        "filtered_file_path = \"../data/News_Articles_json/techcrunch.json\"\n",
        "with open(filtered_file_path, \"a\") as file:\n",
        "    json.dump(techcrunch_entries, file, indent=4)"
      ]
    },
    {
      "cell_type": "code",
      "execution_count": null,
      "metadata": {},
      "outputs": [
        {
          "name": "stdout",
          "output_type": "stream",
          "text": [
            "SAMPLE\n",
            "\n",
            "Company: Tally\n",
            "\n",
            "Article: Tally, a nine-year-old fintech that helped consumers manage and pay off their credit card debt, has shut down, according to the company. In a LinkedIn post that was shared earlier Monday, founder and CEO Jason Brown said the “sad and difficult” decision to close down Tally was not the outcome the company had “hoped for,” but that “after exploring all options,” it was “unable to secure the necessary funding to continue our operations.” According to PitchBook, Tally was last valued at $855 million and had 183 employees. Tally’s model was initially designed to help people manage their credit cards and pay off high-interest debt through a lower interest loan that it offered. But in April, Tally announced it would be sunsetting its consumer app and shifting to B2B. At the time, the company said it had a launch partner, a “large publicly-traded consumer company with more than 50 million users,” that was launching in July. However, it never followed up with an announcement naming the company. TechCrunch has reached out to the company for further details. Founded in 2015, San Francisco-based Tally had raised $172 million in funding over the years. In October of 2022, Tally raised an $80 million Series D led by Sway Ventures. Andreessen Horowitz led its $50 million Series C round in 2019, which also included participation from Silicon Valley heavy hitters such as Kleiner Perkins, Shasta Ventures, Cowboy Ventures and Sway Ventures. Want more fintech news in your inbox? Sign up for TechCrunch Fintech&nbsp;here. Want to reach out with a tip? Email me at maryann@techcrunch.com or send me a message on Signal at 408.204.3036. You can also send a note to the whole TechCrunch crew at tips@techcrunch.com. For more secure communications,&nbsp;click here to contact us, which includes SecureDrop (instructions here) and links to encrypted messaging apps.\n",
            "\n"
          ]
        }
      ],
      "source": [
        "file_path = \"../data/News_Articles_json/techcrunch.json\"\n",
        "with open(file_path, \"r\", encoding=\"utf-8\") as file:\n",
        "    data = json.load(file)\n",
        "\n",
        "random_entry = random.choice(data)\n",
        "\n",
        "print(\"SAMPLE\\n\")\n",
        "print(f\"Company: {random_entry.get('Company', 'N/A')}\\n\")\n",
        "print(f\"Article: {random_entry.get('Extracted Article', 'N/A')}\\n\")\n"
      ]
    },
    {
      "cell_type": "code",
      "execution_count": 5,
      "metadata": {},
      "outputs": [],
      "source": [
        "folder_path = \"../data/News_Articles_json/\""
      ]
    },
    {
      "cell_type": "code",
      "execution_count": null,
      "metadata": {},
      "outputs": [],
      "source": [
        "json_files = [\"BI.json\", \"calcalistech.json\", \"cnbc.json\", \"geekwire.json\",\"techcrunch.json\"]\n",
        "merged_data = []\n",
        "folder_path = \"../data/News_Articles_json/\"\n",
        "\n",
        "for file_name in json_files:\n",
        "    file_path = folder_path + file_name\n",
        "  \n",
        "    with open(file_path, \"r\", encoding=\"utf-8\") as file:\n",
        "        data = json.load(file)  \n",
        "        if isinstance(data, list): \n",
        "            merged_data.extend(data)\n",
        "\n",
        "output_file = folder_path + \"JSON_WITH_ARTICLE.json\"\n",
        "with open(output_file, \"w\", encoding=\"utf-8\") as file:\n",
        "    json.dump(merged_data, file, indent=4)"
      ]
    },
    {
      "cell_type": "markdown",
      "metadata": {},
      "source": [
        " **SUMMARY (Abstractive)** "
      ]
    },
    {
      "cell_type": "code",
      "execution_count": null,
      "metadata": {
        "colab": {
          "background_save": true,
          "base_uri": "https://localhost:8080/"
        },
        "id": "QJCGERp6FCyw",
        "outputId": "c8928dec-36cf-46d4-a1c2-33c5a868792d"
      },
      "outputs": [],
      "source": [
        "from transformers import PegasusForConditionalGeneration, PegasusTokenizer\n",
        "\n",
        "file_path = folder_path + \"JSON_WITH_ARTICLE.json\"\n",
        "with open(file_path, \"r\", encoding=\"utf-8\") as file:\n",
        "    data = json.load(file)\n",
        "\n",
        "def process_text(text, max_words=1000, summary_words=512):\n",
        "    text = re.sub(r'[^\\x00-\\x7F]+', ' ', text)\n",
        "    words = text.split()\n",
        "    text = \" \".join(words[:max_words])\n",
        "    return \" \".join(text.split()[:summary_words])\n",
        "\n",
        "documents = []\n",
        "for entry in data:\n",
        "    if isinstance(entry.get(\"Extracted Article\"), str):\n",
        "        processed = process_text(entry[\"Extracted Article\"].strip())\n",
        "        if processed:\n",
        "            documents.append(processed)\n",
        "\n",
        "model_name = \"google/pegasus-cnn_dailymail\"\n",
        "model = PegasusForConditionalGeneration.from_pretrained(model_name)\n",
        "tokenizer = PegasusTokenizer.from_pretrained(model_name)\n",
        "\n",
        "device = torch.device(\"cuda\" if torch.cuda.is_available() else \"cpu\")\n",
        "model.to(device)\n",
        "\n",
        "def abstractive_summary(text, max_input_length=1024, max_summary_length=512):\n",
        "    if not text or len(text.split()) < 5:\n",
        "        return \"Error\"\n",
        "\n",
        "    try:\n",
        "        inputs = tokenizer(\n",
        "            text,\n",
        "            return_tensors=\"pt\",\n",
        "            max_length=max_input_length,\n",
        "            truncation=True\n",
        "        ).to(device)\n",
        "\n",
        "        if inputs[\"input_ids\"].shape[1] == 0:\n",
        "            return \"Error\"\n",
        "\n",
        "        summary_ids = model.generate(\n",
        "            inputs[\"input_ids\"],\n",
        "            num_beams=5,\n",
        "            max_length=max_summary_length,\n",
        "            early_stopping=True\n",
        "        )\n",
        "        return tokenizer.decode(summary_ids[0], skip_special_tokens=True)\n",
        "\n",
        "    except Exception as e:\n",
        "        return f\"Summarization Error: {str(e)}\"\n",
        "\n",
        "for entry in data:\n",
        "    article_text = entry.get(\"Extracted Article\", \"\")\n",
        "    if isinstance(article_text, str):\n",
        "        summary = abstractive_summary(article_text, max_summary_length=512)\n",
        "        entry[\"Article Summary\"] = summary\n",
        "\n",
        "with open(file_path + \"_SUMMARY\", \"w\", encoding=\"utf-8\") as outfile:\n",
        "    json.dump(data, outfile, ensure_ascii=False, indent=4)"
      ]
    },
    {
      "cell_type": "code",
      "execution_count": null,
      "metadata": {
        "id": "KIA0bRgp88Zu"
      },
      "outputs": [],
      "source": [
        "file_path = folder_path + \"JSON_WITH_ARTICLE_SUMMARY.json\"\n",
        "\n",
        "with open(file_path, \"r\", encoding=\"utf-8\") as file:\n",
        "    data = json.load(file)\n",
        "\n",
        "def clean_summary(text):\n",
        "    return re.sub(r\"<n>\", \" \", text) if isinstance(text, str) else text\n",
        "\n",
        "for entry in data:\n",
        "    if \"Article Summary\" in entry:\n",
        "        entry[\"Article Summary\"] = clean_summary(entry[\"Article Summary\"])\n",
        "\n",
        "with open(file_path, \"w\", encoding=\"utf-8\") as file:\n",
        "    json.dump(data, file, ensure_ascii=False, indent=4)"
      ]
    },
    {
      "cell_type": "markdown",
      "metadata": {},
      "source": [
        "SUMMARY VISUALIZATION"
      ]
    },
    {
      "cell_type": "code",
      "execution_count": null,
      "metadata": {
        "colab": {
          "base_uri": "https://localhost:8080/",
          "height": 671
        },
        "id": "NmhkhrbnxBWN",
        "outputId": "37bc8ccb-7886-4059-bbaa-579e1a0ab0ff"
      },
      "outputs": [
        {
          "data": {
            "application/javascript": "(async (port, path, width, height, cache, element) => {\n    if (!google.colab.kernel.accessAllowed && !cache) {\n      return;\n    }\n    element.appendChild(document.createTextNode(''));\n    const url = await google.colab.kernel.proxyPort(port, {cache});\n    const iframe = document.createElement('iframe');\n    iframe.src = new URL(path, url).toString();\n    iframe.height = height;\n    iframe.width = width;\n    iframe.style.border = 0;\n    iframe.allow = [\n        'accelerometer',\n        'autoplay',\n        'camera',\n        'clipboard-read',\n        'clipboard-write',\n        'gyroscope',\n        'magnetometer',\n        'microphone',\n        'serial',\n        'usb',\n        'xr-spatial-tracking',\n    ].join('; ');\n    element.appendChild(iframe);\n  })(8050, \"/\", \"100%\", 650, false, window.element)",
            "text/plain": [
              "<IPython.core.display.Javascript object>"
            ]
          },
          "metadata": {},
          "output_type": "display_data"
        }
      ],
      "source": [
        "with open(file_path, \"r\", encoding=\"utf-8\") as file:\n",
        "    data = json.load(file)\n",
        "\n",
        "df = pd.DataFrame([\n",
        "    {\n",
        "        \"Company Name\": entry.get(\"Company\", \"No Company\"),\n",
        "        \"Summary\": entry.get(\"Article Summary\", \"No Summary\")\n",
        "    }\n",
        "    for entry in data if \"Article Summary\" in entry\n",
        "])\n",
        "\n",
        "app = dash.Dash(__name__)\n",
        "\n",
        "app.layout = html.Div(style={'backgroundColor': '#E3F2FD', 'padding': '20px'}, children=[\n",
        "    html.H1(\"Synopsise of Articles\", style={'textAlign': 'center', 'color': 'blue', 'marginBottom': '30px'}),\n",
        "\n",
        "    html.Div(\n",
        "        children=[\n",
        "            dcc.Input(\n",
        "                id=\"search-input\",\n",
        "                type=\"text\",\n",
        "                placeholder=\"Search by Company\",\n",
        "                debounce=True,\n",
        "                style={\n",
        "                    'width': '60%',\n",
        "                    'marginBottom': '20px',\n",
        "                    'padding': '10px',\n",
        "                    'border': '1px solid #ccc',\n",
        "                    'display': 'block',\n",
        "                    'marginLeft': 'auto',\n",
        "                    'marginRight': 'auto'\n",
        "                }\n",
        "            ),\n",
        "        ],\n",
        "        style={'textAlign': 'center'}\n",
        "    ),\n",
        "\n",
        "    dash_table.DataTable(\n",
        "        id=\"summary-table\",\n",
        "        columns=[{\"name\": col, \"id\": col} for col in df.columns],\n",
        "        data=df.to_dict(\"records\"),\n",
        "        page_size=10,\n",
        "        style_table={'overflowX': 'auto', 'width': '90%', 'margin': 'auto', 'backgroundColor': '#ffffff', 'borderRadius': '12px'},\n",
        "        style_header={'backgroundColor': '#f2f2f2', 'fontWeight': 'bold'},\n",
        "        style_cell={'textAlign': 'left', 'padding': '10px', 'border': '1px solid #ddd'},\n",
        "        sort_action=\"native\"\n",
        "    )\n",
        "])\n",
        "\n",
        "@app.callback(\n",
        "    Output(\"summary-table\", \"data\"),\n",
        "    Input(\"search-input\", \"value\")\n",
        ")\n",
        "def update_table(search_value):\n",
        "    if not search_value:\n",
        "        return df.to_dict(\"records\")\n",
        "\n",
        "    search_value = search_value.lower()\n",
        "    filtered_df = df[df.apply(lambda row: search_value in row.to_string().lower(), axis=1)]\n",
        "    return filtered_df.to_dict(\"records\")\n",
        "\n",
        "if __name__ == \"__main__\":\n",
        "    app.run(debug=False)"
      ]
    },
    {
      "cell_type": "code",
      "execution_count": null,
      "metadata": {},
      "outputs": [],
      "source": [
        "##############    RUN THE ABOVE CELL TO GET THE SUMMARY HTML    #################################"
      ]
    },
    {
      "cell_type": "markdown",
      "metadata": {},
      "source": [
        "**LDA**"
      ]
    },
    {
      "cell_type": "code",
      "execution_count": null,
      "metadata": {
        "colab": {
          "base_uri": "https://localhost:8080/",
          "height": 948
        },
        "id": "3nXTAi7U-nIg",
        "outputId": "492c25ac-a496-4cca-ec2e-fabee67df7ce"
      },
      "outputs": [
        {
          "name": "stdout",
          "output_type": "stream",
          "text": [
            "Topic 1: 0.042*\"workforce\" + 0.037*\"layoff\" + 0.036*\"people\" + 0.028*\"year\" + 0.020*\"cut\"\n",
            "Topic 2: 0.044*\"startup\" + 0.029*\"raised\" + 0.027*\"layoff\" + 0.025*\"workforce\" + 0.019*\"year\"\n",
            "Topic 3: 0.044*\"round\" + 0.037*\"layoff\" + 0.034*\"israel\" + 0.027*\"startup\" + 0.023*\"laying\"\n",
            "Topic 4: 0.051*\"startup\" + 0.031*\"workforce\" + 0.029*\"layoff\" + 0.025*\"cut\" + 0.024*\"job\"\n",
            "Topic 5: 0.037*\"billion\" + 0.022*\"staff\" + 0.022*\"laying\" + 0.021*\"valuation\" + 0.020*\"workforce\"\n"
          ]
        },
        {
          "data": {
            "text/html": [
              "\n",
              "<link rel=\"stylesheet\" type=\"text/css\" href=\"https://cdn.jsdelivr.net/gh/bmabey/pyLDAvis@3.4.0/pyLDAvis/js/ldavis.v1.0.0.css\">\n",
              "\n",
              "\n",
              "<div id=\"ldavis_el16431326523484096646365333833\" style=\"background-color:white;\"></div>\n",
              "<script type=\"text/javascript\">\n",
              "\n",
              "var ldavis_el16431326523484096646365333833_data = {\"mdsDat\": {\"x\": [0.1417420633630968, -0.07918576576800249, -0.09080753667028224, 0.03194585127935653, -0.003694612204168575], \"y\": [0.027311804455870697, -0.08488189017357248, 0.08230586774736764, -0.09006799283000877, 0.06533221080034289], \"topics\": [1, 2, 3, 4, 5], \"cluster\": [1, 1, 1, 1, 1], \"Freq\": [23.165876962261155, 22.905065139167334, 18.070038662865503, 17.97809528196904, 17.880923953736968]}, \"tinfo\": {\"Term\": [\"startup\", \"billion\", \"israel\", \"round\", \"employ\", \"based\", \"raised\", \"valuation\", \"worker\", \"plan\", \"laying\", \"people\", \"venture\", \"announced\", \"israeli\", \"platform\", \"series\", \"source\", \"app\", \"food\", \"staff\", \"develops\", \"chief\", \"revenue\", \"cutting\", \"capital\", \"job\", \"estate\", \"real\", \"industry\", \"employ\", \"summarization\", \"error\", \"text\", \"maker\", \"short\", \"prior\", \"expects\", \"fiscal\", \"europe\", \"slowdown\", \"filing\", \"worker\", \"developer\", \"expected\", \"fewer\", \"electric\", \"revenue\", \"medical\", \"development\", \"reported\", \"planned\", \"managed\", \"letting\", \"america\", \"aviv\", \"vehicle\", \"earnings\", \"oracle\", \"reduce\", \"quarter\", \"division\", \"informed\", \"plan\", \"people\", \"affect\", \"earlier\", \"amazon\", \"announced\", \"workforce\", \"restructuring\", \"year\", \"layoff\", \"cut\", \"position\", \"techcrunch\", \"cutting\", \"lay\", \"confirmed\", \"focus\", \"ceo\", \"job\", \"total\", \"israel\", \"laying\", \"month\", \"tech\", \"round\", \"including\", \"number\", \"estate\", \"real\", \"creator\", \"investment\", \"redfin\", \"design\", \"fell\", \"economy\", \"venture\", \"identity\", \"investor\", \"tiger\", \"capital\", \"softbank\", \"facebook\", \"led\", \"financing\", \"longer\", \"work\", \"management\", \"mass\", \"online\", \"resource\", \"banking\", \"amp\", \"count\", \"connects\", \"backer\", \"talent\", \"human\", \"area\", \"september\", \"raised\", \"impacted\", \"series\", \"funding\", \"help\", \"startup\", \"platform\", \"product\", \"global\", \"marketing\", \"including\", \"customer\", \"announced\", \"ceo\", \"layoff\", \"workforce\", \"year\", \"people\", \"team\", \"round\", \"cut\", \"laying\", \"staff\", \"total\", \"food\", \"based\", \"francisco\", \"fired\", \"big\", \"parting\", \"san\", \"provide\", \"develops\", \"majority\", \"recruiting\", \"convoy\", \"american\", \"cutback\", \"device\", \"rest\", \"detail\", \"israel\", \"security\", \"transaction\", \"way\", \"fourth\", \"user\", \"estimate\", \"headquarters\", \"remaining\", \"headquartered\", \"worldwide\", \"future\", \"geekwire\", \"round\", \"israeli\", \"environment\", \"dozen\", \"laying\", \"team\", \"acquired\", \"layoff\", \"latest\", \"staff\", \"startup\", \"raised\", \"unicorn\", \"including\", \"workforce\", \"platform\", \"headcount\", \"series\", \"year\", \"funding\", \"month\", \"tech\", \"cut\", \"number\", \"billion\", \"card\", \"artificial\", \"african\", \"industry\", \"computer\", \"reportedly\", \"credit\", \"crypto\", \"result\", \"roughly\", \"logistics\", \"early\", \"shutting\", \"reason\", \"bike\", \"order\", \"statement\", \"previous\", \"learning\", \"consumer\", \"blog\", \"enterprise\", \"manage\", \"india\", \"spotify\", \"linkedin\", \"seattle\", \"eliminate\", \"announcement\", \"vision\", \"source\", \"network\", \"startup\", \"job\", \"email\", \"friday\", \"cut\", \"cutting\", \"workforce\", \"staff\", \"headcount\", \"ai\", \"layoff\", \"confirmed\", \"tuesday\", \"ceo\", \"plan\", \"year\", \"round\", \"month\", \"january\", \"tech\", \"team\", \"august\", \"thursday\", \"operation\", \"people\", \"latest\", \"market\", \"chief\", \"trading\", \"merger\", \"cap\", \"medium\", \"spac\", \"officer\", \"video\", \"meta\", \"social\", \"game\", \"exit\", \"billion\", \"asset\", \"period\", \"valuation\", \"public\", \"app\", \"efficiency\", \"program\", \"arm\", \"tier\", \"restructure\", \"equity\", \"subsidiary\", \"closed\", \"digital\", \"german\", \"included\", \"mobility\", \"private\", \"firm\", \"deal\", \"business\", \"market\", \"ago\", \"laying\", \"operation\", \"half\", \"staff\", \"valued\", \"news\", \"focus\", \"job\", \"workforce\", \"year\", \"raised\", \"platform\", \"people\", \"ceo\", \"acquired\", \"layoff\", \"team\", \"israeli\", \"total\", \"lay\", \"announced\", \"series\"], \"Freq\": [218.0, 80.0, 82.0, 140.0, 36.0, 34.0, 112.0, 49.0, 42.0, 61.0, 110.0, 139.0, 32.0, 79.0, 45.0, 74.0, 60.0, 41.0, 26.0, 14.0, 133.0, 21.0, 14.0, 31.0, 52.0, 30.0, 97.0, 16.0, 16.0, 15.0, 35.05610924178866, 11.6921964219736, 11.692167361656482, 12.494915500304913, 14.403741492829575, 12.658559770578886, 5.854630226349948, 4.908679406946721, 6.478419776317544, 8.744993740163878, 7.103372676399481, 10.146435970088575, 33.737629530090466, 6.752145465267454, 8.799431213564233, 5.8370224864646545, 5.056799843301699, 23.651477781720654, 4.956353794609843, 12.71253040404617, 17.18854387342393, 4.718077005397056, 4.020600802941385, 4.019785239202887, 4.018653292979628, 3.9954490984749866, 7.962649693851244, 6.5902007548301444, 5.861958582126623, 9.041835505237486, 19.395172496346294, 9.918093122182526, 8.177319193838064, 35.574571547218014, 72.33735384135649, 12.856854250584004, 17.282339327928693, 15.826276825834665, 38.87850837025379, 83.64724679275776, 15.53122742612658, 56.73294597471746, 75.13841593809366, 39.82762957651173, 11.346566134175713, 16.791534944959846, 21.408864986768428, 20.525371350860787, 18.431689868854118, 12.526979341812478, 20.47646377457928, 20.19400686647952, 17.031312558937387, 17.199671162591713, 18.10703175572022, 15.916138825802946, 15.002515265620522, 15.687340387118839, 12.998211132486958, 12.91336344336606, 15.366113224592631, 15.365411579776929, 12.530615443614277, 10.270149420063815, 6.83362843658232, 7.602068077677354, 4.923520456217016, 12.2932537295272, 27.61931109896072, 4.7974778898620825, 19.014442889236324, 9.25606040686372, 23.63294342137009, 7.737737173828719, 4.84420771265062, 17.98725897781131, 6.822210719723343, 4.773881027853375, 9.531005998932258, 15.56338293537289, 5.428026714035288, 15.563940914473356, 5.983804484994737, 3.982416406983833, 3.9745110851434946, 7.176221579577839, 3.8277616548450637, 4.406639019063385, 3.720265405451586, 4.953507661927003, 4.915813485751262, 13.543513421691282, 58.60065204461499, 28.951201650522204, 32.14256218876823, 29.314357064870403, 9.205524369496995, 88.5520618196187, 33.95734379613397, 16.486313735066442, 21.423622392443836, 12.051688634674976, 26.34289775849451, 14.23757083387928, 26.32321833613385, 29.068182617748043, 53.30938999366919, 49.963521149626374, 38.79006937407265, 29.65604974823784, 23.847670833740544, 26.94765256209147, 23.13555973896301, 21.3940328163586, 20.18440827659249, 15.404106781581413, 13.554974448121012, 30.398825557254593, 8.10370743482692, 4.781122556443821, 7.133157049979184, 12.523143308694396, 10.866930117307223, 9.647915762807889, 16.26313395300003, 6.630057600657066, 4.40370839481037, 7.814003300061912, 3.9579743741907922, 9.855471541937145, 5.750938429228285, 3.7647293323340874, 6.828355383536372, 53.61295464365634, 15.333378419331872, 4.17657708313176, 7.118158233212819, 7.512609857339265, 10.167303172517624, 4.508198859791282, 5.597608944617775, 9.42137527815479, 4.847664450191677, 4.296904344793929, 4.76218903642961, 6.297850481133784, 68.71110639734995, 21.874439043163942, 6.583550446602153, 13.246570053021419, 35.39828100188144, 28.242602327662592, 13.60941389372631, 57.59702997165346, 15.316131827470937, 34.311203148240416, 42.84327772587834, 26.55988601060767, 11.487927344637733, 16.12584271661227, 30.045917555191537, 15.605423553272594, 11.728360307827504, 13.655505713931609, 17.758313874965747, 12.587628276176465, 12.964359476867065, 11.393006010683198, 12.093168940880838, 10.604215370551506, 10.73823950898138, 7.6480876696092235, 5.7614717236031785, 5.7372579444518506, 13.08137132977528, 4.858647361858693, 6.735959297722585, 6.6690641268264095, 5.779690167108132, 6.448018771473226, 13.930055067954282, 4.161671587318244, 4.835690704415524, 12.925566808070384, 6.059274253252883, 3.873560825837572, 6.308759804750187, 3.75815770777951, 5.029704305538356, 5.622257861941427, 4.998043826268561, 3.585145605193205, 7.143448606413075, 4.745317257867411, 5.78962928561326, 5.8029407349506625, 12.479912797522259, 12.943307647176375, 4.393481047297534, 5.409624964268969, 6.484399640907017, 22.6588068984541, 6.346350508327883, 79.51921618954333, 37.60398192573847, 9.359731625365898, 9.505781813816748, 38.36519240006009, 20.0376441168566, 47.89945369507434, 31.709009405736374, 13.952927699033276, 8.973501350561872, 44.547877011001155, 17.197449702642135, 12.97058311423788, 23.04136911327402, 17.382188393662354, 29.492529234015663, 26.468642275202466, 16.58988743709545, 10.575206084434745, 12.991025892015227, 15.682933779740136, 8.738859729234282, 9.455548598060593, 10.388532240785066, 12.703307981068352, 9.834518412999213, 9.495468759803522, 13.205177946364014, 9.458048549352444, 10.211082577216448, 6.742074235997106, 10.045145807700592, 4.84522834773696, 5.617309602189325, 5.483831046239568, 5.786535353944102, 5.714741766611742, 5.539611331200441, 4.7864423577446304, 58.01915461208938, 5.289345867475735, 3.932352170838554, 33.37889126241196, 11.218209386273594, 17.472047576837298, 4.320884769207812, 6.7544096378691, 3.661919395935045, 4.871943595286047, 4.87604731605781, 6.36433366712813, 3.4294374457901684, 7.41291807740875, 12.258357707251918, 4.407779600367568, 3.8362130239633707, 3.829967901159688, 5.934586224886879, 19.29406052678178, 7.033278863859335, 25.015219625585143, 21.728364679101926, 12.910665161688154, 33.97498465235763, 16.43858141425221, 9.218480689392196, 34.71222606635149, 9.99631503982557, 9.942382387940725, 9.977051466149003, 20.055887363394522, 30.689521852355032, 25.328142896255315, 20.304051221374436, 16.287103721203273, 21.052743836097196, 17.675347271415575, 11.028151725344976, 25.333552297029307, 14.924723416211092, 11.628732689340978, 12.133277253239473, 11.689243305703668, 11.724358825896637, 10.212738826329833], \"Total\": [218.0, 80.0, 82.0, 140.0, 36.0, 34.0, 112.0, 49.0, 42.0, 61.0, 110.0, 139.0, 32.0, 79.0, 45.0, 74.0, 60.0, 41.0, 26.0, 14.0, 133.0, 21.0, 14.0, 31.0, 52.0, 30.0, 97.0, 16.0, 16.0, 15.0, 36.413391580184395, 12.454539381091612, 12.454538492951478, 13.411828170074529, 16.265141536429784, 14.37477408987425, 6.700768650507618, 5.741840153481078, 7.650825509300122, 10.52711766210627, 8.600600725864377, 12.416959138648023, 42.038230965214616, 8.595043346185054, 11.501110907652837, 7.661562918039752, 6.703805085103339, 31.5480455667, 6.677899453058084, 17.234158544874074, 23.88400545463345, 6.689618936818821, 5.718881407265758, 5.733658680175088, 5.733763206227104, 5.7203775499034695, 11.465696398820842, 9.552084201975646, 8.572195099216364, 13.35413690302884, 31.4571608135761, 15.251128476082679, 12.376690482768193, 61.715009812105606, 139.89563524377297, 20.927218588057126, 29.58352861369137, 26.704467269620718, 79.9712349717818, 242.24566104500502, 28.556439065262794, 168.10200135402684, 255.92626521144678, 122.35541119454318, 18.99733686099465, 35.232325046029416, 52.18281794843244, 54.22579225196698, 55.003995976719324, 24.686221921051924, 95.61662076427672, 97.27417190942742, 59.79695711205578, 82.4011535907822, 110.32425297332662, 67.38549406582146, 51.375020921567355, 140.19336642697752, 63.8534165369395, 42.795339928929, 16.15215785413342, 16.15214282490532, 13.301239654204636, 11.40158404475798, 7.5998891036856335, 8.551600951683413, 5.699330258487702, 14.259139337914839, 32.32648639048984, 5.697892678562142, 22.760410964107326, 11.379381658670285, 30.359583811889316, 10.42027282611875, 6.6609740752790785, 24.744700980788856, 9.474363733250101, 6.636094343743389, 13.327421818067455, 21.775879506559086, 7.61254427976895, 21.83810043714905, 8.526835098566842, 5.68440924974224, 5.686187843757631, 10.412361050750084, 5.682139558806346, 6.630295305147032, 5.713650118355004, 7.61544731396216, 7.573929209549524, 22.773942101971592, 112.07335681388463, 52.27384073005568, 60.77014468409512, 56.03192077108606, 15.221507697601249, 218.68508740704098, 74.89442287604977, 31.22944822981995, 45.73947111988745, 21.86369360728553, 63.8534165369395, 28.308493080325704, 79.9712349717818, 95.61662076427672, 255.92626521144678, 242.24566104500502, 168.10200135402684, 139.89563524377297, 90.22468326257373, 140.19336642697752, 122.35541119454318, 110.32425297332662, 133.53163151819317, 59.79695711205578, 14.411484292620983, 34.588657288840395, 9.601000029716372, 5.7559941712420875, 8.622972197931562, 15.348457534557404, 13.417711732274457, 12.46032044895204, 21.10113968740327, 8.62888653190095, 5.748379422402879, 10.558265579571621, 5.75213450706638, 14.365492555147966, 8.58820633295708, 5.749319579802638, 10.484387244434771, 82.4011535907822, 23.894767690032452, 6.680268156589269, 11.482997369603048, 12.392184331002364, 17.137172223014044, 7.6507417349920965, 9.578059606713138, 16.182118549108573, 8.624747258337687, 7.671734405815816, 8.563347519112114, 11.406613398294185, 140.19336642697752, 45.7075500164662, 12.40606453917052, 29.599082988976743, 110.32425297332662, 90.22468326257373, 33.2689637255765, 255.92626521144678, 40.95693703003598, 133.53163151819317, 218.68508740704098, 112.07335681388463, 29.469865371465634, 63.8534165369395, 242.24566104500502, 74.89442287604977, 37.9130048995576, 60.77014468409512, 168.10200135402684, 56.03192077108606, 67.38549406582146, 51.375020921567355, 122.35541119454318, 42.795339928929, 80.99164457450547, 8.433167246051548, 6.561740380526464, 6.5629951133782765, 15.009321182447987, 5.626085404791289, 8.434319070372908, 8.43453170268583, 7.522906465966438, 8.45559497577995, 18.768470817721106, 5.645143533743647, 6.5637234914783615, 17.796307033257534, 8.474239921046312, 5.628607190544278, 9.387068356230476, 5.634273507120907, 7.544217340393489, 8.47286973659318, 7.545340905456722, 5.628570604237819, 11.311583645064559, 7.5182849585348075, 9.373710789160945, 9.411968820441107, 20.70974520897669, 21.68949373475884, 7.533097895057802, 9.415781303062586, 11.30139570250493, 41.54831397571563, 11.290207466627216, 218.68508740704098, 97.27417190942742, 17.961063358989936, 18.926706985192105, 122.35541119454318, 52.18281794843244, 242.24566104500502, 133.53163151819317, 37.9130048995576, 18.93165739809492, 255.92626521144678, 55.003995976719324, 35.06936038606111, 95.61662076427672, 61.715009812105606, 168.10200135402684, 140.19336642697752, 67.38549406582146, 30.28411444845485, 51.375020921567355, 90.22468326257373, 19.848276214754904, 28.354078869722002, 41.458205007294254, 139.89563524377297, 40.95693703003598, 53.900547907552365, 14.07299976495659, 10.32479660942754, 11.264610982000189, 7.510839595949348, 11.270438348140063, 5.636144643421509, 6.572855334927519, 6.5737500767875146, 7.534335735588899, 7.508560539050392, 7.537418315415686, 6.5709103360628855, 80.99164457450547, 7.507868121886491, 5.656740632429326, 49.058160175709965, 16.958507090217125, 26.45379285608292, 6.591258795102769, 10.338809571666092, 5.6329871750536205, 7.543941107671099, 7.553045970790613, 10.388822308718384, 5.6683631587533245, 12.28809708711432, 20.815906319347803, 7.531487532995318, 6.599807604745446, 6.622996959494571, 10.372284997204794, 40.60256240305529, 13.271541389423849, 62.418569926003926, 53.900547907552365, 29.22616497152332, 110.32425297332662, 41.458205007294254, 18.916273858647784, 133.53163151819317, 21.621706505725513, 21.702501327466926, 24.686221921051924, 97.27417190942742, 242.24566104500502, 168.10200135402684, 112.07335681388463, 74.89442287604977, 139.89563524377297, 95.61662076427672, 33.2689637255765, 255.92626521144678, 90.22468326257373, 45.7075500164662, 59.79695711205578, 54.22579225196698, 79.9712349717818, 60.77014468409512], \"Category\": [\"Default\", \"Default\", \"Default\", \"Default\", \"Default\", \"Default\", \"Default\", \"Default\", \"Default\", \"Default\", \"Default\", \"Default\", \"Default\", \"Default\", \"Default\", \"Default\", \"Default\", \"Default\", \"Default\", \"Default\", \"Default\", \"Default\", \"Default\", \"Default\", \"Default\", \"Default\", \"Default\", \"Default\", \"Default\", \"Default\", \"Topic1\", \"Topic1\", \"Topic1\", \"Topic1\", \"Topic1\", \"Topic1\", \"Topic1\", \"Topic1\", \"Topic1\", \"Topic1\", \"Topic1\", \"Topic1\", \"Topic1\", \"Topic1\", \"Topic1\", \"Topic1\", \"Topic1\", \"Topic1\", \"Topic1\", \"Topic1\", \"Topic1\", \"Topic1\", \"Topic1\", \"Topic1\", \"Topic1\", \"Topic1\", \"Topic1\", \"Topic1\", \"Topic1\", \"Topic1\", \"Topic1\", \"Topic1\", \"Topic1\", \"Topic1\", \"Topic1\", \"Topic1\", \"Topic1\", \"Topic1\", \"Topic1\", \"Topic1\", \"Topic1\", \"Topic1\", \"Topic1\", \"Topic1\", \"Topic1\", \"Topic1\", \"Topic1\", \"Topic1\", \"Topic1\", \"Topic1\", \"Topic1\", \"Topic1\", \"Topic1\", \"Topic1\", \"Topic1\", \"Topic1\", \"Topic1\", \"Topic1\", \"Topic1\", \"Topic1\", \"Topic2\", \"Topic2\", \"Topic2\", \"Topic2\", \"Topic2\", \"Topic2\", \"Topic2\", \"Topic2\", \"Topic2\", \"Topic2\", \"Topic2\", \"Topic2\", \"Topic2\", \"Topic2\", \"Topic2\", \"Topic2\", \"Topic2\", \"Topic2\", \"Topic2\", \"Topic2\", \"Topic2\", \"Topic2\", \"Topic2\", \"Topic2\", \"Topic2\", \"Topic2\", \"Topic2\", \"Topic2\", \"Topic2\", \"Topic2\", \"Topic2\", \"Topic2\", \"Topic2\", \"Topic2\", \"Topic2\", \"Topic2\", \"Topic2\", \"Topic2\", \"Topic2\", \"Topic2\", \"Topic2\", \"Topic2\", \"Topic2\", \"Topic2\", \"Topic2\", \"Topic2\", \"Topic2\", \"Topic2\", \"Topic2\", \"Topic2\", \"Topic2\", \"Topic2\", \"Topic2\", \"Topic2\", \"Topic2\", \"Topic2\", \"Topic3\", \"Topic3\", \"Topic3\", \"Topic3\", \"Topic3\", \"Topic3\", \"Topic3\", \"Topic3\", \"Topic3\", \"Topic3\", \"Topic3\", \"Topic3\", \"Topic3\", \"Topic3\", \"Topic3\", \"Topic3\", \"Topic3\", \"Topic3\", \"Topic3\", \"Topic3\", \"Topic3\", \"Topic3\", \"Topic3\", \"Topic3\", \"Topic3\", \"Topic3\", \"Topic3\", \"Topic3\", \"Topic3\", \"Topic3\", \"Topic3\", \"Topic3\", \"Topic3\", \"Topic3\", \"Topic3\", \"Topic3\", \"Topic3\", \"Topic3\", \"Topic3\", \"Topic3\", \"Topic3\", \"Topic3\", \"Topic3\", \"Topic3\", \"Topic3\", \"Topic3\", \"Topic3\", \"Topic3\", \"Topic3\", \"Topic3\", \"Topic3\", \"Topic3\", \"Topic3\", \"Topic3\", \"Topic3\", \"Topic4\", \"Topic4\", \"Topic4\", \"Topic4\", \"Topic4\", \"Topic4\", \"Topic4\", \"Topic4\", \"Topic4\", \"Topic4\", \"Topic4\", \"Topic4\", \"Topic4\", \"Topic4\", \"Topic4\", \"Topic4\", \"Topic4\", \"Topic4\", \"Topic4\", \"Topic4\", \"Topic4\", \"Topic4\", \"Topic4\", \"Topic4\", \"Topic4\", \"Topic4\", \"Topic4\", \"Topic4\", \"Topic4\", \"Topic4\", \"Topic4\", \"Topic4\", \"Topic4\", \"Topic4\", \"Topic4\", \"Topic4\", \"Topic4\", \"Topic4\", \"Topic4\", \"Topic4\", \"Topic4\", \"Topic4\", \"Topic4\", \"Topic4\", \"Topic4\", \"Topic4\", \"Topic4\", \"Topic4\", \"Topic4\", \"Topic4\", \"Topic4\", \"Topic4\", \"Topic4\", \"Topic4\", \"Topic4\", \"Topic4\", \"Topic4\", \"Topic4\", \"Topic4\", \"Topic5\", \"Topic5\", \"Topic5\", \"Topic5\", \"Topic5\", \"Topic5\", \"Topic5\", \"Topic5\", \"Topic5\", \"Topic5\", \"Topic5\", \"Topic5\", \"Topic5\", \"Topic5\", \"Topic5\", \"Topic5\", \"Topic5\", \"Topic5\", \"Topic5\", \"Topic5\", \"Topic5\", \"Topic5\", \"Topic5\", \"Topic5\", \"Topic5\", \"Topic5\", \"Topic5\", \"Topic5\", \"Topic5\", \"Topic5\", \"Topic5\", \"Topic5\", \"Topic5\", \"Topic5\", \"Topic5\", \"Topic5\", \"Topic5\", \"Topic5\", \"Topic5\", \"Topic5\", \"Topic5\", \"Topic5\", \"Topic5\", \"Topic5\", \"Topic5\", \"Topic5\", \"Topic5\", \"Topic5\", \"Topic5\", \"Topic5\", \"Topic5\", \"Topic5\", \"Topic5\", \"Topic5\", \"Topic5\", \"Topic5\", \"Topic5\", \"Topic5\"], \"logprob\": [30.0, 29.0, 28.0, 27.0, 26.0, 25.0, 24.0, 23.0, 22.0, 21.0, 20.0, 19.0, 18.0, 17.0, 16.0, 15.0, 14.0, 13.0, 12.0, 11.0, 10.0, 9.0, 8.0, 7.0, 6.0, 5.0, 4.0, 3.0, 2.0, 1.0, -4.0505, -5.1485, -5.1485, -5.0821, -4.94, -5.0691, -5.8402, -6.0164, -5.739, -5.439, -5.6469, -5.2903, -4.0888, -5.6976, -5.4328, -5.8432, -5.9867, -4.444, -6.0068, -5.0649, -4.7632, -6.056, -6.216, -6.2162, -6.2165, -6.2223, -5.5327, -5.7219, -5.839, -5.4056, -4.6424, -5.3131, -5.5061, -4.0358, -3.3261, -5.0536, -4.7578, -4.8458, -3.947, -3.1808, -4.8646, -3.5691, -3.2881, -3.9229, -5.1785, -4.7866, -4.5436, -4.5858, -4.6934, -5.0796, -4.5882, -4.6021, -4.7724, -4.7625, -4.7111, -4.8401, -4.8992, -4.8546, -5.0426, -5.0492, -4.864, -4.864, -5.0679, -5.2669, -5.6743, -5.5677, -6.0021, -5.0871, -4.2776, -6.028, -4.6509, -5.3708, -4.4335, -5.55, -6.0183, -4.7065, -5.6759, -6.033, -5.3416, -4.8512, -5.9045, -4.8512, -5.8071, -6.2142, -6.2162, -5.6253, -6.2538, -6.113, -6.2823, -5.996, -6.0037, -4.9902, -3.5254, -4.2305, -4.1259, -4.218, -5.3763, -3.1125, -4.071, -4.7936, -4.5316, -5.1069, -4.3249, -4.9402, -4.3257, -4.2265, -3.62, -3.6848, -3.938, -4.2064, -4.4244, -4.3022, -4.4547, -4.533, -4.5912, -4.8615, -4.7523, -3.9446, -5.2667, -5.7943, -5.3943, -4.8314, -4.9733, -5.0923, -4.5701, -5.4674, -5.8766, -5.3031, -5.9833, -5.071, -5.6097, -6.0333, -5.4379, -3.3772, -4.629, -5.9295, -5.3964, -5.3424, -5.0398, -5.8531, -5.6367, -5.116, -5.7805, -5.9011, -5.7983, -5.5188, -3.1291, -4.2737, -5.4744, -4.7753, -3.7924, -4.0182, -4.7483, -3.3055, -4.6301, -3.8235, -3.6015, -4.0796, -4.9177, -4.5786, -3.9563, -4.6114, -4.897, -4.7449, -4.4822, -4.8263, -4.7968, -4.926, -4.8664, -4.9978, -4.9852, -5.3195, -5.6027, -5.6069, -4.7827, -5.7732, -5.4465, -5.4564, -5.5996, -5.4901, -4.7199, -5.928, -5.7779, -4.7947, -5.5523, -5.9997, -5.512, -6.03, -5.7386, -5.6272, -5.7449, -6.0771, -5.3877, -5.7968, -5.5978, -5.5955, -4.8298, -4.7933, -5.8738, -5.6657, -5.4845, -4.2334, -5.506, -2.9779, -3.7268, -5.1175, -5.102, -3.7068, -4.3563, -3.4848, -3.8973, -4.7182, -5.1596, -3.5573, -4.5092, -4.7912, -4.2166, -4.4985, -3.9698, -4.078, -4.5451, -4.9954, -4.7897, -4.6013, -5.1861, -5.1073, -5.0132, -4.812, -5.068, -5.1031, -4.7679, -5.1016, -5.025, -5.4401, -5.0414, -5.7705, -5.6226, -5.6467, -5.593, -5.6054, -5.6366, -5.7827, -3.2877, -5.6828, -5.9793, -3.8406, -4.931, -4.4879, -5.885, -5.4383, -6.0505, -5.765, -5.7642, -5.4978, -6.1161, -5.3453, -4.8423, -5.8651, -6.004, -6.0056, -5.5677, -4.3887, -5.3978, -4.129, -4.2699, -4.7904, -3.8229, -4.5489, -5.1273, -3.8014, -5.0463, -5.0517, -5.0482, -4.35, -3.9246, -4.1166, -4.3377, -4.5581, -4.3015, -4.4763, -4.948, -4.1164, -4.6455, -4.895, -4.8525, -4.8898, -4.8868, -5.0249], \"loglift\": [30.0, 29.0, 28.0, 27.0, 26.0, 25.0, 24.0, 23.0, 22.0, 21.0, 20.0, 19.0, 18.0, 17.0, 16.0, 15.0, 14.0, 13.0, 12.0, 11.0, 10.0, 9.0, 8.0, 7.0, 6.0, 5.0, 4.0, 3.0, 2.0, 1.0, 1.4245, 1.3993, 1.3993, 1.3917, 1.341, 1.3353, 1.3275, 1.3057, 1.2962, 1.277, 1.2712, 1.2605, 1.2425, 1.2212, 1.1947, 1.1905, 1.1805, 1.1744, 1.1644, 1.1582, 1.1335, 1.1133, 1.1101, 1.1074, 1.1071, 1.1036, 1.0979, 1.0913, 1.0824, 1.0725, 0.9789, 1.0322, 1.048, 0.9116, 0.8029, 0.9753, 0.925, 0.9393, 0.7413, 0.3991, 0.8535, 0.3763, 0.2369, 0.3401, 0.9471, 0.7214, 0.5715, 0.491, 0.3692, 0.7841, -0.0786, -0.1097, 0.2066, -0.1042, -0.3446, 0.0194, 0.2316, -0.7277, -0.1293, 0.2643, 1.4239, 1.4239, 1.4141, 1.3693, 1.3675, 1.3561, 1.3275, 1.3255, 1.3164, 1.3018, 1.294, 1.2673, 1.2233, 1.1762, 1.1553, 1.1549, 1.1454, 1.1444, 1.1385, 1.1379, 1.1356, 1.1351, 1.1197, 1.118, 1.1157, 1.1016, 1.0788, 1.0653, 1.0447, 1.0437, 1.0416, 0.9541, 0.8254, 0.8829, 0.8369, 0.826, 0.9709, 0.5698, 0.6828, 0.835, 0.7153, 0.8782, 0.5884, 0.7865, 0.3626, 0.2831, -0.095, -0.1048, 0.0074, -0.0774, 0.1432, -0.1753, -0.1917, -0.1665, -0.4156, 0.1175, 1.6496, 1.5818, 1.5414, 1.5253, 1.5212, 1.5075, 1.5001, 1.4551, 1.4505, 1.4474, 1.4444, 1.4099, 1.3371, 1.3341, 1.3099, 1.2875, 1.2821, 1.2811, 1.2673, 1.2412, 1.2327, 1.2104, 1.1888, 1.182, 1.1738, 1.17, 1.1348, 1.1313, 1.1241, 1.1169, 0.9978, 0.974, 1.0773, 0.9069, 0.5742, 0.5494, 0.8171, 0.2195, 0.7273, 0.352, 0.0808, 0.2712, 0.7688, 0.3347, -0.3763, 0.1425, 0.5376, 0.218, -0.5368, 0.2177, 0.0627, 0.2048, -0.6034, 0.3157, -0.3096, 1.6183, 1.586, 1.5816, 1.5785, 1.5694, 1.4912, 1.4812, 1.4524, 1.445, 1.4179, 1.4111, 1.4105, 1.3962, 1.3806, 1.3423, 1.3186, 1.3111, 1.3106, 1.3059, 1.3041, 1.265, 1.2564, 1.2558, 1.2342, 1.2324, 1.2095, 1.1998, 1.1768, 1.1618, 1.1605, 1.1097, 1.14, 0.7044, 0.7656, 1.0642, 1.0273, 0.5562, 0.7589, 0.0952, 0.2783, 0.7164, 0.9695, -0.0323, 0.5534, 0.7214, 0.293, 0.4489, -0.0244, 0.049, 0.3144, 0.6639, 0.3411, -0.0337, 0.8957, 0.6178, 0.332, -0.683, 0.2894, -0.0203, 1.6578, 1.6338, 1.6232, 1.6135, 1.6063, 1.5702, 1.5643, 1.5402, 1.4575, 1.4484, 1.4135, 1.4046, 1.3879, 1.3712, 1.3578, 1.3364, 1.3082, 1.3066, 1.2992, 1.2957, 1.2908, 1.2842, 1.2838, 1.2314, 1.2189, 1.216, 1.1919, 1.1857, 1.1789, 1.1737, 1.1631, 0.9774, 1.0865, 0.8071, 0.8129, 0.9044, 0.5436, 0.7964, 1.0026, 0.3742, 0.95, 0.9408, 0.8155, 0.1424, -0.3446, -0.1712, 0.0131, 0.1957, -0.1724, 0.0333, 0.6173, -0.5913, -0.0778, 0.3527, 0.1264, 0.1869, -0.1986, -0.062]}, \"token.table\": {\"Topic\": [2, 3, 5, 1, 2, 3, 4, 5, 4, 1, 2, 4, 5, 1, 3, 4, 5, 1, 3, 4, 5, 1, 2, 1, 3, 2, 5, 1, 2, 4, 5, 1, 4, 5, 1, 3, 5, 2, 5, 4, 5, 4, 4, 5, 1, 2, 3, 4, 5, 1, 5, 2, 4, 2, 4, 1, 2, 3, 3, 5, 4, 5, 1, 2, 3, 4, 5, 4, 5, 1, 2, 3, 4, 5, 5, 2, 3, 4, 5, 4, 1, 2, 3, 4, 5, 5, 1, 2, 3, 5, 4, 1, 2, 3, 4, 5, 2, 4, 3, 4, 1, 3, 2, 4, 2, 4, 5, 3, 4, 2, 4, 5, 1, 2, 3, 4, 5, 1, 2, 3, 5, 1, 2, 3, 4, 5, 3, 5, 2, 3, 4, 1, 5, 1, 3, 5, 1, 3, 5, 3, 5, 2, 3, 5, 1, 2, 4, 5, 1, 2, 3, 5, 1, 2, 3, 4, 5, 4, 5, 1, 3, 4, 2, 3, 3, 4, 5, 1, 3, 1, 4, 5, 1, 4, 5, 1, 1, 2, 4, 1, 2, 3, 4, 5, 2, 3, 5, 1, 2, 2, 3, 1, 2, 4, 5, 1, 3, 1, 2, 3, 2, 1, 3, 1, 4, 2, 5, 3, 1, 2, 3, 4, 5, 1, 5, 1, 2, 3, 5, 3, 2, 3, 4, 5, 1, 3, 1, 2, 4, 1, 2, 3, 4, 5, 3, 5, 1, 5, 3, 4, 5, 3, 4, 5, 1, 2, 3, 4, 5, 1, 2, 5, 1, 2, 3, 4, 5, 1, 2, 3, 1, 3, 4, 1, 2, 4, 1, 2, 2, 1, 2, 3, 4, 5, 2, 5, 1, 2, 3, 4, 5, 4, 5, 1, 4, 1, 2, 4, 2, 2, 4, 5, 1, 2, 3, 5, 2, 3, 5, 1, 2, 3, 4, 5, 1, 2, 3, 4, 5, 1, 2, 3, 4, 1, 2, 3, 4, 5, 1, 2, 3, 4, 5, 1, 2, 3, 4, 5, 1, 2, 4, 2, 3, 4, 1, 2, 2, 4, 3, 4, 2, 5, 2, 3, 1, 5, 3, 4, 5, 1, 4, 2, 4, 5, 1, 2, 3, 4, 5, 2, 3, 4, 5, 1, 2, 1, 4, 1, 5, 5, 3, 5, 3, 5, 1, 2, 3, 4, 5, 1, 4, 5, 1, 4, 5, 1, 2, 3, 4, 5, 5, 2, 3, 4, 5, 1, 2, 4, 5, 1, 4, 5, 2, 4, 5, 2, 3, 1, 2, 3, 4, 5, 1, 5, 1, 2, 4, 5, 1, 2, 2, 3, 4, 5, 1, 4, 3, 4, 1, 2, 5, 1, 2, 3, 4, 5, 2, 4, 5, 1, 3, 5, 1, 2, 5, 1, 2, 3, 4, 5, 2, 3, 4, 5, 2, 3, 4, 2, 3, 2, 1, 2, 4, 2, 3, 4, 1, 3, 4, 5, 4, 5, 2, 5, 1, 3, 1, 5, 1, 2, 4, 5, 1, 4, 1, 2, 3, 4, 5, 2, 3, 4, 5, 1, 2, 3, 4, 5, 1, 3, 4, 1, 2, 3, 4, 1, 3, 4, 5, 1, 2, 4, 2, 3, 4, 5, 1, 3, 4, 5, 1, 4, 4, 5, 2, 4, 1, 2, 3, 4, 5, 2, 4, 1, 2, 3, 4, 5, 1, 2, 3, 4, 5, 4, 5, 1, 5, 1, 2, 3, 1, 2, 3, 4, 5, 1, 2, 3, 4, 1, 2, 3, 4, 5, 1, 1, 2, 4, 5, 1, 2, 5, 2, 4, 1, 2, 3, 4, 5, 5, 2, 3, 4, 1, 2, 3, 4, 5, 1, 3, 4, 5, 3, 5, 2, 3, 5, 1, 4, 5, 1, 2, 5, 2, 3, 4, 5, 5, 2, 4, 2, 3, 1, 2, 1, 3, 5, 1, 2, 3, 4, 5, 1, 3, 1, 2, 3, 4, 5], \"Freq\": [0.24046435789191004, 0.4208126263108426, 0.3306384921013763, 0.621200564484901, 0.04778465880653085, 0.04778465880653085, 0.23892329403265422, 0.0955693176130617, 0.9142167404283688, 0.06843183161214314, 0.3079432422546441, 0.17107957903035784, 0.44480690547893037, 0.15846473115987658, 0.26410788526646095, 0.47539419347962975, 0.05282157705329219, 0.5991506903491675, 0.14978767258729186, 0.037446918146822966, 0.2246815088809378, 0.6976221124122871, 0.17440552810307178, 0.17384850767511092, 0.6953940307004437, 0.7034589974707308, 0.1758647493676827, 0.4876753499400293, 0.3251168999600196, 0.037513488456925335, 0.15005395382770134, 0.21240935145227705, 0.5310233786306926, 0.21240935145227705, 0.15120705079083657, 0.15120705079083657, 0.6426299658610555, 0.6601593257164052, 0.2640637302865621, 0.17752570153694358, 0.7101028061477743, 0.9143915565154691, 0.2663872044009029, 0.6659680110022573, 0.15114662691815253, 0.05038220897271751, 0.20152883589087003, 0.45343988075445757, 0.15114662691815253, 0.6992545448451212, 0.1748136362112803, 0.6032913793288874, 0.3016456896644437, 0.703679102658096, 0.175919775664524, 0.0867336356814265, 0.02891121189380883, 0.867336356814265, 0.8117850596432548, 0.11596929423475068, 0.7106553832215827, 0.17766384580539568, 0.06173476321252401, 0.0123469526425048, 0.13581647906755281, 0.08642866849753361, 0.7161232532652785, 0.7106600025570172, 0.1776650006392543, 0.17622960623802017, 0.2082713528267511, 0.09612523976619282, 0.12816698635492377, 0.40052183235913674, 0.9319863526009997, 0.7905246708487882, 0.06587705590406569, 0.06587705590406569, 0.09881558385609852, 0.9486352833504684, 0.20916865540883234, 0.3032945503428069, 0.052292163852208084, 0.2405439537201572, 0.1882517898679491, 0.9237547230244056, 0.08137956535586223, 0.08137956535586223, 0.24413869606758667, 0.5696569574910355, 0.8887174012221531, 0.3272489512874406, 0.0545414918812401, 0.1636244756437203, 0.30906845399369387, 0.1454439783499736, 0.7039601823578379, 0.17599004558945947, 0.26506423302274096, 0.6626605825568525, 0.18942505139003576, 0.7577002055601431, 0.6722778787521717, 0.28811909089378784, 0.9773525128457172, 0.8299215945528988, 0.11856022779327126, 0.1329273472326143, 0.7975640833956859, 0.49455122744523433, 0.31792578907193636, 0.17662543837329797, 0.32691647724840406, 0.18797697441783234, 0.09807494317452121, 0.3105706533859839, 0.07355620738089091, 0.1392225148091624, 0.0696112574045812, 0.6961125740458121, 0.0696112574045812, 0.40243131409178406, 0.019163395909132575, 0.13414377136392802, 0.3832679181826515, 0.057490187727397724, 0.4520951880375724, 0.5274443860438345, 0.9354973466605889, 0.6676594289013579, 0.2861397552434391, 0.81442288515124, 0.11634612645017714, 0.7543159108204077, 0.17407290249701718, 0.05802430083233906, 0.1421724155397591, 0.7582528828787152, 0.0473908051799197, 0.6986324929077581, 0.23287749763591936, 0.04804018545522219, 0.33628129818655533, 0.5764822254626663, 0.6556891849466961, 0.13113783698933923, 0.06556891849466961, 0.13113783698933923, 0.2702786435302523, 0.06756966088256308, 0.43920279573666, 0.20270898264768922, 0.5746440940832304, 0.13521037507840714, 0.10140778130880534, 0.033802593769601784, 0.10140778130880534, 0.7617627412994266, 0.1523525482598853, 0.7328243608397211, 0.10468919440567444, 0.10468919440567444, 0.8415655191819452, 0.07013045993182877, 0.15171608809276138, 0.15171608809276138, 0.6068643523710455, 0.7458450740327462, 0.14916901480654923, 0.2654950231447449, 0.5309900462894898, 0.13274751157237244, 0.3897319362495503, 0.5010839180351362, 0.055675990892792904, 0.9611848411024272, 0.2652148535637583, 0.08840495118791943, 0.6188346583154359, 0.1612114779578377, 0.08060573897891884, 0.5642401728524319, 0.1612114779578377, 0.08060573897891884, 0.1925146027689379, 0.1925146027689379, 0.5775438083068137, 0.9635041881954342, 0.9286684872362997, 0.3921188433637669, 0.6535314056062781, 0.8549348728566671, 0.0949927636507408, 0.15218591471439455, 0.7609295735719728, 0.7825331024337311, 0.1738962449852736, 0.8708009743128557, 0.7506409638428915, 0.15012819276857828, 0.8772960634372385, 0.7831300302804443, 0.1305216717134074, 0.8053501576625801, 0.161070031532516, 0.7388358941121959, 0.21109596974634168, 0.8686596704668047, 0.12314493726690896, 0.22166088708043613, 0.07388696236014539, 0.09851594981352717, 0.4679507616142541, 0.7842290995535807, 0.13070484992559678, 0.5266095412078369, 0.040508426246756685, 0.040508426246756685, 0.40508426246756685, 0.9714474731217191, 0.0806960236621265, 0.645568189297012, 0.0806960236621265, 0.161392047324253, 0.10415581678000906, 0.8332465342400724, 0.42268314325672435, 0.05283539290709054, 0.5283539290709054, 0.0178469698385929, 0.5175621253191942, 0.23201060790170772, 0.08923484919296451, 0.1427757587087432, 0.5838838128244529, 0.3503302876946717, 0.13267142118870848, 0.7960285271322508, 0.5260106387841001, 0.35067375918940014, 0.08766843979735003, 0.13277589528217593, 0.26555179056435185, 0.5311035811287037, 0.2623554603101307, 0.4591220555427287, 0.17490364020675378, 0.06558886507753267, 0.043725910051688445, 0.21145813545997885, 0.26432266932497356, 0.47578080478495244, 0.15825704176959113, 0.05275234725653038, 0.31651408353918226, 0.36926643079571264, 0.13188086814132594, 0.23189085315706692, 0.11594542657853346, 0.5797271328926673, 0.31321584153614357, 0.6264316830722871, 0.10440528051204787, 0.26278605769324404, 0.5912686298097991, 0.06569651442331101, 0.26262410040355744, 0.6565602510088936, 0.8775174054808181, 0.13391019106761823, 0.554770791565847, 0.13391019106761823, 0.01913002729537403, 0.17217024565836628, 0.3030391368624055, 0.606078273724811, 0.20359129871272338, 0.40718259742544677, 0.25057390610796726, 0.046982607395243854, 0.09396521479048771, 0.6400880222310623, 0.32004401111553116, 0.06662526491667108, 0.8661284439167241, 0.6463763484380766, 0.08079704355475957, 0.24239113066427873, 0.8770711122896668, 0.8347828178481745, 0.08787187556296575, 0.04393593778148287, 0.20630779132565086, 0.03640725729276192, 0.6553306312697145, 0.09708601944736511, 0.2406604597279276, 0.4813209194558552, 0.2625386833395574, 0.16510306116133136, 0.06604122446453255, 0.2311442856258639, 0.363226734554929, 0.19812367339359763, 0.2056044231208889, 0.12336265387253333, 0.07196154809231112, 0.39064840392968886, 0.2056044231208889, 0.19532710647119825, 0.17091121816229846, 0.3662383246334967, 0.2441588830889978, 0.3872695838618798, 0.22129690506393135, 0.12908986128729327, 0.05532422626598284, 0.22129690506393135, 0.16315542154046497, 0.19034799179720913, 0.31724665299534854, 0.009064190085581387, 0.30818246290976714, 0.29305315708036006, 0.20709089767012112, 0.22662777480881177, 0.17583189424821605, 0.09768438569345335, 0.11802376657357719, 0.11802376657357719, 0.7081425994414632, 0.727428471007782, 0.2020634641688283, 0.04041269283376566, 0.6976348302403401, 0.17440870756008503, 0.3862915704309284, 0.5794373556463925, 0.17714341433880915, 0.7085736573552366, 0.7534552314968331, 0.1506910462993666, 0.11588980760182732, 0.8112286532127913, 0.860736438637411, 0.0614811741883865, 0.13300905798533125, 0.6650452899266562, 0.13300905798533125, 0.6994374800145456, 0.1748593700036364, 0.7347579231038939, 0.09184474038798673, 0.18368948077597347, 0.18552687102831533, 0.09276343551415767, 0.14842149682265227, 0.1669741839254838, 0.40815911626229373, 0.5488551118371554, 0.22868962993214811, 0.04573792598642962, 0.18295170394571847, 0.26272425177416536, 0.6568106294354135, 0.7487384371608492, 0.14974768743216985, 0.08872769355639375, 0.8872769355639374, 0.8877359383274823, 0.1327257020517998, 0.7963542123107987, 0.30197809424219163, 0.6039561884843833, 0.23743982620905568, 0.19291985879485773, 0.19291985879485773, 0.2522798153471216, 0.13355990224259381, 0.17714466327672104, 0.5314339898301632, 0.17714466327672104, 0.27646582803827935, 0.23038819003189945, 0.4607763800637989, 0.30377139243640394, 0.11683515093707844, 0.2570373320615726, 0.11683515093707844, 0.2103032716867412, 0.9128452847754885, 0.7326644570597456, 0.13737458569870228, 0.0915830571324682, 0.0915830571324682, 0.09648271070337539, 0.2653274544342823, 0.24120677675843843, 0.38593084281350154, 0.6999374058283504, 0.11665623430472506, 0.11665623430472506, 0.10652953212344196, 0.6391771927406518, 0.10652953212344196, 0.13030625360867398, 0.8469906484563808, 0.5146693810320637, 0.21444557543002657, 0.02859274339067021, 0.09292641601967817, 0.1501119028010186, 0.1767802459011707, 0.7071209836046828, 0.5833264891248301, 0.016203513586800833, 0.27545973097561416, 0.11342459510760584, 0.7474267289696621, 0.1494853457939324, 0.4539723879876874, 0.2136340649353823, 0.12016916152615255, 0.2136340649353823, 0.5790285280767543, 0.3684726996852073, 0.26510370920672394, 0.6627592730168099, 0.8954196619734767, 0.3856430864633928, 0.5784646296950892, 0.09606317658649507, 0.5123369417946404, 0.032021058862165025, 0.09606317658649507, 0.28818952975948525, 0.1934458688049616, 0.1934458688049616, 0.6770605408173656, 0.08025475782078331, 0.8025475782078332, 0.08025475782078331, 0.05896745478125673, 0.2358698191250269, 0.6486420025938241, 0.6039960221648513, 0.06357852864893171, 0.09536779297339756, 0.09536779297339756, 0.12715705729786342, 0.5264409104652655, 0.24091363699257917, 0.0535363637761287, 0.178454545920429, 0.9286693513427329, 0.23600936705047412, 0.7080281011514225, 0.17396207287618293, 0.6958482915047317, 0.9210660714253432, 0.6739484599681406, 0.14976632443736457, 0.14976632443736457, 0.061796605738936895, 0.5561694516504321, 0.30898302869468447, 0.711773409710976, 0.12560707230193693, 0.0837380482012913, 0.0837380482012913, 0.8299425171842009, 0.11856321674060012, 0.7036608460985081, 0.23455361536616937, 0.1739336257307735, 0.695734502923094, 0.2647938338697349, 0.6619845846743372, 0.5602939485358679, 0.21011023070095047, 0.07003674356698349, 0.17509185891745874, 0.11826488885340197, 0.7095893331204118, 0.7607444318304393, 0.1584884232980082, 0.031697684659601634, 0.031697684659601634, 0.031697684659601634, 0.05328084582446666, 0.10656169164893332, 0.7459318415425333, 0.1598425374734, 0.1141280818613762, 0.19259113814107234, 0.49217735302718485, 0.18545813302473632, 0.014266010232672025, 0.07452835624681352, 0.8198119187149486, 0.07452835624681352, 0.04610527162270432, 0.23052635811352162, 0.13831581486811298, 0.5993685310951562, 0.12555049870819338, 0.6277524935409668, 0.12555049870819338, 0.08370033247212891, 0.1756393329749315, 0.6147376654122603, 0.1756393329749315, 0.5265743592737422, 0.23037628218226222, 0.06582179490921777, 0.16455448727304445, 0.9043620385768248, 0.06956631065975576, 0.7304886331588767, 0.22476573327965438, 0.8138966361906641, 0.11627094802723772, 0.13318131948183906, 0.7990879168910344, 0.7677342170876508, 0.1919335542719127, 0.12034182669656404, 0.21661528805381527, 0.12034182669656404, 0.5535724028041946, 0.8871312424240185, 0.31874308736388274, 0.6374861747277655, 0.09735520978959057, 0.14977724583013935, 0.2546213179112369, 0.23964359332822294, 0.26211018020274385, 0.0045727855148105685, 0.40697791081814055, 0.19662977713685442, 0.3658228411848455, 0.027436713088863408, 0.7099406862206065, 0.17748517155515162, 0.352835544227881, 0.5292533163418215, 0.9635041194874143, 0.7000778691628435, 0.17501946729071088, 0.08866753210668787, 0.2660025963200636, 0.31033636237340756, 0.17733506421337575, 0.16625162270003976, 0.2919706840197697, 0.23357654721581578, 0.21411183494783112, 0.2530412594838004, 0.48251144305095617, 0.05676605212364191, 0.19868118243274666, 0.19868118243274666, 0.08514907818546286, 0.8947326082491345, 0.14107317745636283, 0.3879512380049978, 0.3174146492768164, 0.10580488309227214, 0.13255670818839563, 0.13255670818839563, 0.6627835409419782, 0.7909041343334008, 0.17575647429631128, 0.28429540265975506, 0.25084888469978384, 0.11706281285989913, 0.1505093308198703, 0.20067910775982709, 0.8716878734233009, 0.14969458958224932, 0.5987783583289973, 0.14969458958224932, 0.2566342784961997, 0.1996044388303775, 0.14257459916455537, 0.370693957827844, 0.057029839665822146, 0.20359780828213536, 0.37326264851724816, 0.10179890414106768, 0.30539671242320304, 0.5835268426940757, 0.3501161056164454, 0.12230381201639037, 0.18345571802458555, 0.6726709660901471, 0.13874945528492805, 0.3699985474264748, 0.4624981842830935, 0.6977334582854241, 0.261650046857034, 0.08721668228567801, 0.8661628010471731, 0.09280315725505425, 0.030934385751684754, 0.030934385751684754, 0.7606008658064803, 0.35393858469298695, 0.5309078770394804, 0.3483411056583979, 0.6095969349021962, 0.2250998010682771, 0.7503326702275903, 0.8087876016508398, 0.02378787063678941, 0.14272722382073644, 0.34675543676464143, 0.20640204569323894, 0.12384122741594336, 0.1981459638655094, 0.12796926832980815, 0.39104586281372683, 0.5213944837516358, 0.33907984164897975, 0.232001996917723, 0.10707784473125677, 0.17251430540035811, 0.14871922879341218], \"Term\": [\"acquired\", \"acquired\", \"acquired\", \"affect\", \"affect\", \"affect\", \"affect\", \"affect\", \"african\", \"ago\", \"ago\", \"ago\", \"ago\", \"ai\", \"ai\", \"ai\", \"ai\", \"amazon\", \"amazon\", \"amazon\", \"amazon\", \"america\", \"america\", \"american\", \"american\", \"amp\", \"amp\", \"announced\", \"announced\", \"announced\", \"announced\", \"announcement\", \"announcement\", \"announcement\", \"app\", \"app\", \"app\", \"area\", \"area\", \"arm\", \"arm\", \"artificial\", \"asset\", \"asset\", \"august\", \"august\", \"august\", \"august\", \"august\", \"aviv\", \"aviv\", \"backer\", \"backer\", \"banking\", \"banking\", \"based\", \"based\", \"based\", \"big\", \"big\", \"bike\", \"bike\", \"billion\", \"billion\", \"billion\", \"billion\", \"billion\", \"blog\", \"blog\", \"business\", \"business\", \"business\", \"business\", \"business\", \"cap\", \"capital\", \"capital\", \"capital\", \"capital\", \"card\", \"ceo\", \"ceo\", \"ceo\", \"ceo\", \"ceo\", \"chief\", \"closed\", \"closed\", \"closed\", \"closed\", \"computer\", \"confirmed\", \"confirmed\", \"confirmed\", \"confirmed\", \"confirmed\", \"connects\", \"connects\", \"consumer\", \"consumer\", \"convoy\", \"convoy\", \"count\", \"count\", \"creator\", \"credit\", \"credit\", \"crypto\", \"crypto\", \"customer\", \"customer\", \"customer\", \"cut\", \"cut\", \"cut\", \"cut\", \"cut\", \"cutback\", \"cutback\", \"cutback\", \"cutback\", \"cutting\", \"cutting\", \"cutting\", \"cutting\", \"cutting\", \"deal\", \"deal\", \"design\", \"detail\", \"detail\", \"developer\", \"developer\", \"development\", \"development\", \"development\", \"develops\", \"develops\", \"develops\", \"device\", \"device\", \"digital\", \"digital\", \"digital\", \"division\", \"division\", \"division\", \"division\", \"dozen\", \"dozen\", \"dozen\", \"dozen\", \"earlier\", \"earlier\", \"earlier\", \"earlier\", \"earlier\", \"early\", \"early\", \"earnings\", \"earnings\", \"earnings\", \"economy\", \"economy\", \"efficiency\", \"efficiency\", \"efficiency\", \"electric\", \"electric\", \"eliminate\", \"eliminate\", \"eliminate\", \"email\", \"email\", \"email\", \"employ\", \"enterprise\", \"enterprise\", \"enterprise\", \"environment\", \"environment\", \"environment\", \"environment\", \"environment\", \"equity\", \"equity\", \"equity\", \"error\", \"estate\", \"estimate\", \"estimate\", \"europe\", \"europe\", \"exit\", \"exit\", \"expected\", \"expected\", \"expects\", \"facebook\", \"facebook\", \"fell\", \"fewer\", \"fewer\", \"filing\", \"filing\", \"financing\", \"financing\", \"fired\", \"firm\", \"firm\", \"firm\", \"firm\", \"firm\", \"fiscal\", \"fiscal\", \"focus\", \"focus\", \"focus\", \"focus\", \"food\", \"fourth\", \"fourth\", \"fourth\", \"fourth\", \"francisco\", \"francisco\", \"friday\", \"friday\", \"friday\", \"funding\", \"funding\", \"funding\", \"funding\", \"funding\", \"future\", \"future\", \"game\", \"game\", \"geekwire\", \"geekwire\", \"geekwire\", \"german\", \"german\", \"german\", \"global\", \"global\", \"global\", \"global\", \"global\", \"half\", \"half\", \"half\", \"headcount\", \"headcount\", \"headcount\", \"headcount\", \"headcount\", \"headquartered\", \"headquartered\", \"headquartered\", \"headquarters\", \"headquarters\", \"headquarters\", \"help\", \"help\", \"help\", \"human\", \"human\", \"identity\", \"impacted\", \"impacted\", \"impacted\", \"impacted\", \"impacted\", \"included\", \"included\", \"including\", \"including\", \"including\", \"including\", \"including\", \"india\", \"india\", \"industry\", \"industry\", \"informed\", \"informed\", \"informed\", \"investment\", \"investor\", \"investor\", \"investor\", \"israel\", \"israel\", \"israel\", \"israel\", \"israeli\", \"israeli\", \"israeli\", \"january\", \"january\", \"january\", \"january\", \"january\", \"job\", \"job\", \"job\", \"job\", \"job\", \"latest\", \"latest\", \"latest\", \"latest\", \"lay\", \"lay\", \"lay\", \"lay\", \"lay\", \"laying\", \"laying\", \"laying\", \"laying\", \"laying\", \"layoff\", \"layoff\", \"layoff\", \"layoff\", \"layoff\", \"learning\", \"learning\", \"learning\", \"led\", \"led\", \"led\", \"letting\", \"letting\", \"linkedin\", \"linkedin\", \"logistics\", \"logistics\", \"longer\", \"longer\", \"majority\", \"majority\", \"maker\", \"maker\", \"manage\", \"manage\", \"manage\", \"managed\", \"managed\", \"management\", \"management\", \"management\", \"market\", \"market\", \"market\", \"market\", \"market\", \"marketing\", \"marketing\", \"marketing\", \"marketing\", \"mass\", \"mass\", \"medical\", \"medical\", \"medium\", \"medium\", \"merger\", \"meta\", \"meta\", \"mobility\", \"mobility\", \"month\", \"month\", \"month\", \"month\", \"month\", \"network\", \"network\", \"network\", \"news\", \"news\", \"news\", \"number\", \"number\", \"number\", \"number\", \"number\", \"officer\", \"online\", \"online\", \"online\", \"online\", \"operation\", \"operation\", \"operation\", \"operation\", \"oracle\", \"oracle\", \"oracle\", \"order\", \"order\", \"order\", \"parting\", \"parting\", \"people\", \"people\", \"people\", \"people\", \"people\", \"period\", \"period\", \"plan\", \"plan\", \"plan\", \"plan\", \"planned\", \"planned\", \"platform\", \"platform\", \"platform\", \"platform\", \"position\", \"position\", \"previous\", \"previous\", \"prior\", \"private\", \"private\", \"product\", \"product\", \"product\", \"product\", \"product\", \"program\", \"program\", \"program\", \"provide\", \"provide\", \"provide\", \"public\", \"public\", \"public\", \"quarter\", \"quarter\", \"quarter\", \"quarter\", \"quarter\", \"raised\", \"raised\", \"raised\", \"raised\", \"real\", \"reason\", \"reason\", \"recruiting\", \"recruiting\", \"redfin\", \"reduce\", \"reduce\", \"reduce\", \"remaining\", \"remaining\", \"remaining\", \"reported\", \"reported\", \"reported\", \"reported\", \"reportedly\", \"reportedly\", \"resource\", \"resource\", \"rest\", \"rest\", \"restructure\", \"restructure\", \"restructuring\", \"restructuring\", \"restructuring\", \"restructuring\", \"result\", \"result\", \"revenue\", \"revenue\", \"revenue\", \"revenue\", \"revenue\", \"roughly\", \"roughly\", \"roughly\", \"roughly\", \"round\", \"round\", \"round\", \"round\", \"round\", \"san\", \"san\", \"san\", \"seattle\", \"seattle\", \"seattle\", \"seattle\", \"security\", \"security\", \"security\", \"security\", \"september\", \"september\", \"september\", \"series\", \"series\", \"series\", \"series\", \"short\", \"short\", \"shutting\", \"shutting\", \"slowdown\", \"slowdown\", \"social\", \"social\", \"softbank\", \"softbank\", \"source\", \"source\", \"source\", \"source\", \"spac\", \"spotify\", \"spotify\", \"staff\", \"staff\", \"staff\", \"staff\", \"staff\", \"startup\", \"startup\", \"startup\", \"startup\", \"startup\", \"statement\", \"statement\", \"subsidiary\", \"subsidiary\", \"summarization\", \"talent\", \"talent\", \"team\", \"team\", \"team\", \"team\", \"team\", \"tech\", \"tech\", \"tech\", \"tech\", \"techcrunch\", \"techcrunch\", \"techcrunch\", \"techcrunch\", \"techcrunch\", \"text\", \"thursday\", \"thursday\", \"thursday\", \"thursday\", \"tier\", \"tier\", \"tier\", \"tiger\", \"tiger\", \"total\", \"total\", \"total\", \"total\", \"total\", \"trading\", \"transaction\", \"transaction\", \"transaction\", \"tuesday\", \"tuesday\", \"tuesday\", \"tuesday\", \"tuesday\", \"unicorn\", \"unicorn\", \"unicorn\", \"unicorn\", \"user\", \"user\", \"valuation\", \"valuation\", \"valuation\", \"valued\", \"valued\", \"valued\", \"vehicle\", \"vehicle\", \"vehicle\", \"venture\", \"venture\", \"venture\", \"venture\", \"video\", \"vision\", \"vision\", \"way\", \"way\", \"work\", \"work\", \"worker\", \"worker\", \"worker\", \"workforce\", \"workforce\", \"workforce\", \"workforce\", \"workforce\", \"worldwide\", \"worldwide\", \"year\", \"year\", \"year\", \"year\", \"year\"]}, \"R\": 30, \"lambda.step\": 0.01, \"plot.opts\": {\"xlab\": \"PC1\", \"ylab\": \"PC2\"}, \"topic.order\": [5, 3, 2, 4, 1]};\n",
              "\n",
              "function LDAvis_load_lib(url, callback){\n",
              "  var s = document.createElement('script');\n",
              "  s.src = url;\n",
              "  s.async = true;\n",
              "  s.onreadystatechange = s.onload = callback;\n",
              "  s.onerror = function(){console.warn(\"failed to load library \" + url);};\n",
              "  document.getElementsByTagName(\"head\")[0].appendChild(s);\n",
              "}\n",
              "\n",
              "if(typeof(LDAvis) !== \"undefined\"){\n",
              "   // already loaded: just create the visualization\n",
              "   !function(LDAvis){\n",
              "       new LDAvis(\"#\" + \"ldavis_el16431326523484096646365333833\", ldavis_el16431326523484096646365333833_data);\n",
              "   }(LDAvis);\n",
              "}else if(typeof define === \"function\" && define.amd){\n",
              "   // require.js is available: use it to load d3/LDAvis\n",
              "   require.config({paths: {d3: \"https://d3js.org/d3.v5\"}});\n",
              "   require([\"d3\"], function(d3){\n",
              "      window.d3 = d3;\n",
              "      LDAvis_load_lib(\"https://cdn.jsdelivr.net/gh/bmabey/pyLDAvis@3.4.0/pyLDAvis/js/ldavis.v3.0.0.js\", function(){\n",
              "        new LDAvis(\"#\" + \"ldavis_el16431326523484096646365333833\", ldavis_el16431326523484096646365333833_data);\n",
              "      });\n",
              "    });\n",
              "}else{\n",
              "    // require.js not available: dynamically load d3 & LDAvis\n",
              "    LDAvis_load_lib(\"https://d3js.org/d3.v5.js\", function(){\n",
              "         LDAvis_load_lib(\"https://cdn.jsdelivr.net/gh/bmabey/pyLDAvis@3.4.0/pyLDAvis/js/ldavis.v3.0.0.js\", function(){\n",
              "                 new LDAvis(\"#\" + \"ldavis_el16431326523484096646365333833\", ldavis_el16431326523484096646365333833_data);\n",
              "            })\n",
              "         });\n",
              "}\n",
              "</script>"
            ],
            "text/plain": [
              "<IPython.core.display.HTML object>"
            ]
          },
          "execution_count": 54,
          "metadata": {},
          "output_type": "execute_result"
        }
      ],
      "source": [
        "stop_word_path = folder_path + \"STOP_WORDS.txt\"\n",
        "\n",
        "with open(stop_word_path, \"r\", encoding=\"utf-8\") as file:\n",
        "    stopwords_list = file.read().splitlines()\n",
        "stopwords = set(stopwords_list)\n",
        "\n",
        "with open(file_path, \"r\", encoding=\"utf-8\") as file:\n",
        "    data = json.load(file)\n",
        "\n",
        "all_summaries = [entry[\"Article Summary\"] for entry in data if \"Article Summary\" in entry]\n",
        "\n",
        "lemmatizer = WordNetLemmatizer()\n",
        "def preprocess_text(text):\n",
        "    tokens = word_tokenize(text.lower())\n",
        "    return ' '.join(lemmatizer.lemmatize(word) for word in tokens if word.isalpha() and word not in stopwords)\n",
        "\n",
        "processed_summaries = [preprocess_text(summary) for summary in all_summaries]\n",
        "\n",
        "texts = [word_tokenize(summary) for summary in processed_summaries]\n",
        "dictionary = corpora.Dictionary(texts)\n",
        "dictionary.filter_extremes(no_below=5, no_above=0.5)\n",
        "corpus = [dictionary.doc2bow(text) for text in texts]\n",
        "\n",
        "\n",
        "num_topics = 5\n",
        "lda_model = gensim.models.LdaModel(corpus=corpus, num_topics=num_topics, id2word=dictionary, passes=15)\n",
        "\n",
        "\n",
        "pyLDAvis.enable_notebook()\n",
        "vis = pyLDAvis.gensim.prepare(lda_model, corpus, dictionary)\n",
        "\n",
        "topic_order = [int(topic_id) - 1 for topic_id in vis.topic_order if 0 <= int(topic_id) - 1 < num_topics]\n",
        "\n",
        "ordered_topics = [lda_model.print_topic(topic_id, topn=5) for topic_id in topic_order]\n",
        "\n",
        "for i, topic in enumerate(ordered_topics):\n",
        "    print(f\"Topic {i+1}: {topic}\")\n",
        "\n",
        "pyLDAvis.save_html(vis, \"../results/LDA_VISUALIZATION.html\")\n",
        "pyLDAvis.display(vis)"
      ]
    },
    {
      "cell_type": "markdown",
      "metadata": {},
      "source": [
        "**WORD FREQUENCY COUNT**"
      ]
    },
    {
      "cell_type": "code",
      "execution_count": null,
      "metadata": {},
      "outputs": [
        {
          "data": {
            "image/png": "[encoded data removed]",
            "text/plain": [
              "<Figure size 1200x600 with 1 Axes>"
            ]
          },
          "metadata": {},
          "output_type": "display_data"
        }
      ],
      "source": [
        "with open(file_path, \"r\", encoding=\"utf-8\") as file:\n",
        "    data = json.load(file)\n",
        "\n",
        "documents = [entry[\"Extracted Article\"] for entry in data if \"Extracted Article\" in entry]\n",
        "\n",
        "with open(stop_word_path, \"r\", encoding=\"utf-8\") as file:\n",
        "    stopwords_list = file.read().splitlines()\n",
        "stopwords = set(stopwords_list)\n",
        "\n",
        "lemmatizer = WordNetLemmatizer()\n",
        "\n",
        "def preprocess(text):\n",
        "    text = re.sub(r'\\s+', ' ', text)\n",
        "    text = re.sub(r'nbsp|[^\\w\\s]', ' ', text)\n",
        "    text = re.sub(r'\\b\\d+\\b', '', text)\n",
        "    words = text.lower().split()\n",
        "    words = [word for word in words if word not in stopwords]\n",
        "    words = [lemmatizer.lemmatize(word) for word in words]\n",
        "    return words\n",
        "\n",
        "processed_docs = [preprocess(doc) for doc in documents]\n",
        "all_words = [word for doc in processed_docs for word in doc]\n",
        "\n",
        "\n",
        "word_freq = Counter(all_words).most_common(25)\n",
        "df_words = pd.DataFrame(word_freq, columns=[\"Word\", \"Frequency\"])\n",
        "\n",
        "plt.figure(figsize=(12, 6))\n",
        "sns.lineplot(x=df_words.index, y=df_words[\"Frequency\"], marker=\"o\", color=\"red\", legend=False)\n",
        "plt.xticks(df_words.index, df_words[\"Word\"], rotation=69)\n",
        "plt.title(\"Word Frequency in Layoff News\")\n",
        "plt.xlabel(\"Words\")\n",
        "plt.ylabel(\"Count\")\n",
        "plt.grid()\n",
        "plt.show()"
      ]
    }
  ],
  "metadata": {
    "colab": {
      "provenance": []
    },
    "kernelspec": {
      "display_name": "Python 3",
      "name": "python3"
    },
    "language_info": {
      "codemirror_mode": {
        "name": "ipython",
        "version": 3
      },
      "file_extension": ".py",
      "mimetype": "text/x-python",
      "name": "python",
      "nbconvert_exporter": "python",
      "pygments_lexer": "ipython3",
      "version": "3.13.1"
    }
  },
  "nbformat": 4,
  "nbformat_minor": 0
}
